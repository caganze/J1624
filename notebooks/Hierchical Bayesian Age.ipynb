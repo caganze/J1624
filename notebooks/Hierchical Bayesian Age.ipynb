{
 "cells": [
  {
   "cell_type": "code",
   "execution_count": 1,
   "metadata": {},
   "outputs": [],
   "source": [
    "#use a hierchal bayesian model to put constraints on the age \n",
    "import pymc3 as pm\n",
    "import numpy as np\n",
    "import matplotlib.pyplot as plt\n",
    "%matplotlib inline\n"
   ]
  },
  {
   "cell_type": "code",
   "execution_count": 29,
   "metadata": {},
   "outputs": [
    {
     "name": "stderr",
     "output_type": "stream",
     "text": [
      "Multiprocess sampling (4 chains in 4 jobs)\n",
      "Metropolis: [age]\n"
     ]
    },
    {
     "data": {
      "text/html": [
       "\n",
       "    <div>\n",
       "        <style>\n",
       "            /* Turns off some styling */\n",
       "            progress {\n",
       "                /* gets rid of default border in Firefox and Opera. */\n",
       "                border: none;\n",
       "                /* Needs to be in here for Safari polyfill so background images work as expected. */\n",
       "                background-size: auto;\n",
       "            }\n",
       "            .progress-bar-interrupted, .progress-bar-interrupted::-webkit-progress-bar {\n",
       "                background: #F44336;\n",
       "            }\n",
       "        </style>\n",
       "      <progress value='420000' class='' max='420000' style='width:300px; height:20px; vertical-align: middle;'></progress>\n",
       "      100.00% [420000/420000 02:27<00:00 Sampling 4 chains, 0 divergences]\n",
       "    </div>\n",
       "    "
      ],
      "text/plain": [
       "<IPython.core.display.HTML object>"
      ]
     },
     "metadata": {},
     "output_type": "display_data"
    },
    {
     "name": "stderr",
     "output_type": "stream",
     "text": [
      "Sampling 4 chains for 5_000 tune and 100_000 draw iterations (20_000 + 400_000 draws total) took 166 seconds.\n",
      "The number of effective samples is smaller than 25% for some parameters.\n"
     ]
    }
   ],
   "source": [
    "nsample=5e4\n",
    "with pm.Model() as model:\n",
    "    \n",
    "    v10 = 41.899\n",
    "    tau1 = 0.001\n",
    "    beta = 0.307\n",
    "\n",
    "    v10_v = 28.823\n",
    "    tau_v = 0.715\n",
    "    beta_v = 0.430\n",
    "\n",
    "    v10_w = 23.381\n",
    "    tau_w = 0.001\n",
    "    beta_w = 0.445\n",
    "    k = 74.\n",
    "    \n",
    "    \n",
    "    #beta=pm.Uniform('beta', lower=0.001, upper=1.)\n",
    "    #age=pm.Gamma('age', alpha=5., beta=beta)\n",
    "    age=pm.Uniform('age', lower=0.0, upper=13.)\n",
    "    \n",
    "    sigma_u = pm.Deterministic('sigma_u',  v10*((age+tau1)/(10.+tau1))**beta)\n",
    "    uvel =pm.Normal('uvel', mu=0.0, sigma=sigma_u, observed=-0.74480971)\n",
    "\n",
    "    sigma_v = pm.Deterministic('sigma_v', v10_v*((age+tau_v)/(10.+tau_v))**beta_v)\n",
    "    \n",
    "    voff = -1.*(sigma_v**2)/k\n",
    "    vvel = pm.Normal('vvel', mu=voff,sigma=sigma_v, observed=-12.224687)\n",
    "    \n",
    "    sigma_w = pm.Deterministic('sigma_w', v10_w*((age+tau_w)/(10.+tau_w))**beta_w)\n",
    "    wvel = pm.Normal('wvel', mu=0., sigma=sigma_w, observed=-8.2923634)\n",
    "    \n",
    "    trace = pm.sample(draws=int(nsample), cores=4, tune=int(nsample/20),\n",
    "            discard_tuned_samples=True, step=pm.Metropolis(), return_inferencedata=False )\n",
    "    "
   ]
  },
  {
   "cell_type": "code",
   "execution_count": 31,
   "metadata": {},
   "outputs": [],
   "source": [
    "#h=pm.traceplot(trace)"
   ]
  },
  {
   "cell_type": "code",
   "execution_count": 32,
   "metadata": {},
   "outputs": [
    {
     "data": {
      "text/html": [
       "<div>\n",
       "<style scoped>\n",
       "    .dataframe tbody tr th:only-of-type {\n",
       "        vertical-align: middle;\n",
       "    }\n",
       "\n",
       "    .dataframe tbody tr th {\n",
       "        vertical-align: top;\n",
       "    }\n",
       "\n",
       "    .dataframe thead th {\n",
       "        text-align: right;\n",
       "    }\n",
       "</style>\n",
       "<table border=\"1\" class=\"dataframe\">\n",
       "  <thead>\n",
       "    <tr style=\"text-align: right;\">\n",
       "      <th></th>\n",
       "      <th>mean</th>\n",
       "      <th>sd</th>\n",
       "      <th>hdi_3%</th>\n",
       "      <th>hdi_97%</th>\n",
       "      <th>mcse_mean</th>\n",
       "      <th>mcse_sd</th>\n",
       "      <th>ess_bulk</th>\n",
       "      <th>ess_tail</th>\n",
       "      <th>r_hat</th>\n",
       "    </tr>\n",
       "  </thead>\n",
       "  <tbody>\n",
       "    <tr>\n",
       "      <th>age</th>\n",
       "      <td>4.15</td>\n",
       "      <td>3.42</td>\n",
       "      <td>0.09</td>\n",
       "      <td>10.91</td>\n",
       "      <td>0.01</td>\n",
       "      <td>0.01</td>\n",
       "      <td>85045.0</td>\n",
       "      <td>88867.0</td>\n",
       "      <td>1.0</td>\n",
       "    </tr>\n",
       "    <tr>\n",
       "      <th>sigma_u</th>\n",
       "      <td>29.39</td>\n",
       "      <td>8.63</td>\n",
       "      <td>16.13</td>\n",
       "      <td>45.41</td>\n",
       "      <td>0.03</td>\n",
       "      <td>0.02</td>\n",
       "      <td>85045.0</td>\n",
       "      <td>88867.0</td>\n",
       "      <td>1.0</td>\n",
       "    </tr>\n",
       "    <tr>\n",
       "      <th>sigma_v</th>\n",
       "      <td>19.30</td>\n",
       "      <td>6.08</td>\n",
       "      <td>9.92</td>\n",
       "      <td>30.12</td>\n",
       "      <td>0.02</td>\n",
       "      <td>0.02</td>\n",
       "      <td>85045.0</td>\n",
       "      <td>88867.0</td>\n",
       "      <td>1.0</td>\n",
       "    </tr>\n",
       "    <tr>\n",
       "      <th>sigma_w</th>\n",
       "      <td>14.38</td>\n",
       "      <td>5.92</td>\n",
       "      <td>5.15</td>\n",
       "      <td>25.41</td>\n",
       "      <td>0.02</td>\n",
       "      <td>0.02</td>\n",
       "      <td>85045.0</td>\n",
       "      <td>88867.0</td>\n",
       "      <td>1.0</td>\n",
       "    </tr>\n",
       "  </tbody>\n",
       "</table>\n",
       "</div>"
      ],
      "text/plain": [
       "          mean    sd  hdi_3%  hdi_97%  mcse_mean  mcse_sd  ess_bulk  ess_tail  \\\n",
       "age       4.15  3.42    0.09    10.91       0.01     0.01   85045.0   88867.0   \n",
       "sigma_u  29.39  8.63   16.13    45.41       0.03     0.02   85045.0   88867.0   \n",
       "sigma_v  19.30  6.08    9.92    30.12       0.02     0.02   85045.0   88867.0   \n",
       "sigma_w  14.38  5.92    5.15    25.41       0.02     0.02   85045.0   88867.0   \n",
       "\n",
       "         r_hat  \n",
       "age        1.0  \n",
       "sigma_u    1.0  \n",
       "sigma_v    1.0  \n",
       "sigma_w    1.0  "
      ]
     },
     "execution_count": 32,
     "metadata": {},
     "output_type": "execute_result"
    }
   ],
   "source": [
    "pm.summary(trace).round(2)"
   ]
  },
  {
   "cell_type": "code",
   "execution_count": 33,
   "metadata": {},
   "outputs": [
    {
     "data": {
      "image/png": "[encoded data removed]",
      "text/plain": [
       "<Figure size 1080x288 with 1 Axes>"
      ]
     },
     "metadata": {
      "needs_background": "light"
     },
     "output_type": "display_data"
    }
   ],
   "source": [
    "# plot the estimate for the mean of τ cumulating mean\n",
    "tau = trace[\"age\"]\n",
    "mtau = [np.mean(tau[:i]) for i in np.arange(1, len(tau))]\n",
    "plt.figure(figsize=(15, 4))\n",
    "plt.axhline(4.10, lw=2.5, color=\"gray\")\n",
    "plt.plot(mtau, lw=2.5)\n",
    "plt.xscale('log')\n",
    "plt.xlabel(\"Iteration\")\n",
    "plt.ylabel(\"MCMC mean of age\")\n",
    "plt.title(\"MCMC estimation of age\");"
   ]
  },
  {
   "cell_type": "code",
   "execution_count": 105,
   "metadata": {
    "scrolled": true
   },
   "outputs": [],
   "source": [
    "#"
   ]
  },
  {
   "cell_type": "code",
   "execution_count": 49,
   "metadata": {},
   "outputs": [
    {
     "data": {
      "image/svg+xml": [
       "<?xml version=\"1.0\" encoding=\"UTF-8\" standalone=\"no\"?>\n",
       "<!DOCTYPE svg PUBLIC \"-//W3C//DTD SVG 1.1//EN\"\n",
       " \"http://www.w3.org/Graphics/SVG/1.1/DTD/svg11.dtd\">\n",
       "<!-- Generated by graphviz version 2.47.0 (20210316.0004)\n",
       " -->\n",
       "<!-- Pages: 1 -->\n",
       "<svg width=\"317pt\" height=\"283pt\"\n",
       " viewBox=\"0.00 0.00 317.00 282.91\" xmlns=\"http://www.w3.org/2000/svg\" xmlns:xlink=\"http://www.w3.org/1999/xlink\">\n",
       "<g id=\"graph0\" class=\"graph\" transform=\"scale(1 1) rotate(0) translate(4 278.91)\">\n",
       "<polygon fill=\"white\" stroke=\"transparent\" points=\"-4,4 -4,-278.91 313,-278.91 313,4 -4,4\"/>\n",
       "<!-- sigma_u -->\n",
       "<g id=\"node1\" class=\"node\">\n",
       "<title>sigma_u</title>\n",
       "<polygon fill=\"none\" stroke=\"black\" points=\"91,-163.95 0,-163.95 0,-110.95 91,-110.95 91,-163.95\"/>\n",
       "<text text-anchor=\"middle\" x=\"45.5\" y=\"-148.75\" font-family=\"Times,serif\" font-size=\"14.00\">sigma_u</text>\n",
       "<text text-anchor=\"middle\" x=\"45.5\" y=\"-133.75\" font-family=\"Times,serif\" font-size=\"14.00\">~</text>\n",
       "<text text-anchor=\"middle\" x=\"45.5\" y=\"-118.75\" font-family=\"Times,serif\" font-size=\"14.00\">Deterministic</text>\n",
       "</g>\n",
       "<!-- uvel -->\n",
       "<g id=\"node2\" class=\"node\">\n",
       "<title>uvel</title>\n",
       "<ellipse fill=\"lightgrey\" stroke=\"black\" cx=\"45.5\" cy=\"-37.48\" rx=\"41.94\" ry=\"37.45\"/>\n",
       "<text text-anchor=\"middle\" x=\"45.5\" y=\"-48.78\" font-family=\"Times,serif\" font-size=\"14.00\">uvel</text>\n",
       "<text text-anchor=\"middle\" x=\"45.5\" y=\"-33.78\" font-family=\"Times,serif\" font-size=\"14.00\">~</text>\n",
       "<text text-anchor=\"middle\" x=\"45.5\" y=\"-18.78\" font-family=\"Times,serif\" font-size=\"14.00\">Normal</text>\n",
       "</g>\n",
       "<!-- sigma_u&#45;&gt;uvel -->\n",
       "<g id=\"edge2\" class=\"edge\">\n",
       "<title>sigma_u&#45;&gt;uvel</title>\n",
       "<path fill=\"none\" stroke=\"black\" d=\"M45.5,-110.71C45.5,-102.89 45.5,-94.03 45.5,-85.27\"/>\n",
       "<polygon fill=\"black\" stroke=\"black\" points=\"49,-85.1 45.5,-75.1 42,-85.1 49,-85.1\"/>\n",
       "</g>\n",
       "<!-- vvel -->\n",
       "<g id=\"node3\" class=\"node\">\n",
       "<title>vvel</title>\n",
       "<ellipse fill=\"lightgrey\" stroke=\"black\" cx=\"154.5\" cy=\"-37.48\" rx=\"41.94\" ry=\"37.45\"/>\n",
       "<text text-anchor=\"middle\" x=\"154.5\" y=\"-48.78\" font-family=\"Times,serif\" font-size=\"14.00\">vvel</text>\n",
       "<text text-anchor=\"middle\" x=\"154.5\" y=\"-33.78\" font-family=\"Times,serif\" font-size=\"14.00\">~</text>\n",
       "<text text-anchor=\"middle\" x=\"154.5\" y=\"-18.78\" font-family=\"Times,serif\" font-size=\"14.00\">Normal</text>\n",
       "</g>\n",
       "<!-- sigma_v -->\n",
       "<g id=\"node4\" class=\"node\">\n",
       "<title>sigma_v</title>\n",
       "<polygon fill=\"none\" stroke=\"black\" points=\"200,-163.95 109,-163.95 109,-110.95 200,-110.95 200,-163.95\"/>\n",
       "<text text-anchor=\"middle\" x=\"154.5\" y=\"-148.75\" font-family=\"Times,serif\" font-size=\"14.00\">sigma_v</text>\n",
       "<text text-anchor=\"middle\" x=\"154.5\" y=\"-133.75\" font-family=\"Times,serif\" font-size=\"14.00\">~</text>\n",
       "<text text-anchor=\"middle\" x=\"154.5\" y=\"-118.75\" font-family=\"Times,serif\" font-size=\"14.00\">Deterministic</text>\n",
       "</g>\n",
       "<!-- sigma_v&#45;&gt;vvel -->\n",
       "<g id=\"edge4\" class=\"edge\">\n",
       "<title>sigma_v&#45;&gt;vvel</title>\n",
       "<path fill=\"none\" stroke=\"black\" d=\"M154.5,-110.71C154.5,-102.89 154.5,-94.03 154.5,-85.27\"/>\n",
       "<polygon fill=\"black\" stroke=\"black\" points=\"158,-85.1 154.5,-75.1 151,-85.1 158,-85.1\"/>\n",
       "</g>\n",
       "<!-- wvel -->\n",
       "<g id=\"node5\" class=\"node\">\n",
       "<title>wvel</title>\n",
       "<ellipse fill=\"lightgrey\" stroke=\"black\" cx=\"263.5\" cy=\"-37.48\" rx=\"41.94\" ry=\"37.45\"/>\n",
       "<text text-anchor=\"middle\" x=\"263.5\" y=\"-48.78\" font-family=\"Times,serif\" font-size=\"14.00\">wvel</text>\n",
       "<text text-anchor=\"middle\" x=\"263.5\" y=\"-33.78\" font-family=\"Times,serif\" font-size=\"14.00\">~</text>\n",
       "<text text-anchor=\"middle\" x=\"263.5\" y=\"-18.78\" font-family=\"Times,serif\" font-size=\"14.00\">Normal</text>\n",
       "</g>\n",
       "<!-- age -->\n",
       "<g id=\"node6\" class=\"node\">\n",
       "<title>age</title>\n",
       "<ellipse fill=\"none\" stroke=\"black\" cx=\"154.5\" cy=\"-237.43\" rx=\"45.01\" ry=\"37.45\"/>\n",
       "<text text-anchor=\"middle\" x=\"154.5\" y=\"-248.73\" font-family=\"Times,serif\" font-size=\"14.00\">age</text>\n",
       "<text text-anchor=\"middle\" x=\"154.5\" y=\"-233.73\" font-family=\"Times,serif\" font-size=\"14.00\">~</text>\n",
       "<text text-anchor=\"middle\" x=\"154.5\" y=\"-218.73\" font-family=\"Times,serif\" font-size=\"14.00\">Uniform</text>\n",
       "</g>\n",
       "<!-- age&#45;&gt;sigma_u -->\n",
       "<g id=\"edge1\" class=\"edge\">\n",
       "<title>age&#45;&gt;sigma_u</title>\n",
       "<path fill=\"none\" stroke=\"black\" d=\"M124.43,-209.4C111.13,-197.45 95.4,-183.31 81.49,-170.8\"/>\n",
       "<polygon fill=\"black\" stroke=\"black\" points=\"83.75,-168.13 73.97,-164.05 79.07,-173.34 83.75,-168.13\"/>\n",
       "</g>\n",
       "<!-- age&#45;&gt;sigma_v -->\n",
       "<g id=\"edge3\" class=\"edge\">\n",
       "<title>age&#45;&gt;sigma_v</title>\n",
       "<path fill=\"none\" stroke=\"black\" d=\"M154.5,-199.95C154.5,-191.53 154.5,-182.59 154.5,-174.2\"/>\n",
       "<polygon fill=\"black\" stroke=\"black\" points=\"158,-173.96 154.5,-163.96 151,-173.96 158,-173.96\"/>\n",
       "</g>\n",
       "<!-- sigma_w -->\n",
       "<g id=\"node7\" class=\"node\">\n",
       "<title>sigma_w</title>\n",
       "<polygon fill=\"none\" stroke=\"black\" points=\"309,-163.95 218,-163.95 218,-110.95 309,-110.95 309,-163.95\"/>\n",
       "<text text-anchor=\"middle\" x=\"263.5\" y=\"-148.75\" font-family=\"Times,serif\" font-size=\"14.00\">sigma_w</text>\n",
       "<text text-anchor=\"middle\" x=\"263.5\" y=\"-133.75\" font-family=\"Times,serif\" font-size=\"14.00\">~</text>\n",
       "<text text-anchor=\"middle\" x=\"263.5\" y=\"-118.75\" font-family=\"Times,serif\" font-size=\"14.00\">Deterministic</text>\n",
       "</g>\n",
       "<!-- age&#45;&gt;sigma_w -->\n",
       "<g id=\"edge5\" class=\"edge\">\n",
       "<title>age&#45;&gt;sigma_w</title>\n",
       "<path fill=\"none\" stroke=\"black\" d=\"M184.57,-209.4C197.87,-197.45 213.6,-183.31 227.51,-170.8\"/>\n",
       "<polygon fill=\"black\" stroke=\"black\" points=\"229.93,-173.34 235.03,-164.05 225.25,-168.13 229.93,-173.34\"/>\n",
       "</g>\n",
       "<!-- sigma_w&#45;&gt;wvel -->\n",
       "<g id=\"edge6\" class=\"edge\">\n",
       "<title>sigma_w&#45;&gt;wvel</title>\n",
       "<path fill=\"none\" stroke=\"black\" d=\"M263.5,-110.71C263.5,-102.89 263.5,-94.03 263.5,-85.27\"/>\n",
       "<polygon fill=\"black\" stroke=\"black\" points=\"267,-85.1 263.5,-75.1 260,-85.1 267,-85.1\"/>\n",
       "</g>\n",
       "</g>\n",
       "</svg>\n"
      ],
      "text/plain": [
       "<graphviz.dot.Digraph at 0x155a79550>"
      ]
     },
     "execution_count": 49,
     "metadata": {},
     "output_type": "execute_result"
    }
   ],
   "source": [
    "pm.model_to_graphviz(model)"
   ]
  },
  {
   "cell_type": "code",
   "execution_count": 47,
   "metadata": {},
   "outputs": [],
   "source": [
    "#pm.Interpolated?\n",
    "#start from the age distribution of gcs sample"
   ]
  },
  {
   "cell_type": "code",
   "execution_count": 50,
   "metadata": {},
   "outputs": [],
   "source": [
    "import pandas as pd\n",
    "gcs=pd.read_csv('/users/caganze/research/J1624/data//gcs_catalog.csv')"
   ]
  },
  {
   "cell_type": "code",
   "execution_count": 53,
   "metadata": {},
   "outputs": [],
   "source": [
    "metal=(0.29, 0.07) #measured metallicity\n",
    "#take everything within 3 sigma\n",
    "bools=gcs['__Fe_H_'].between(metal[0]-3*metal[-1], metal[0]+3*metal[-1] )\n",
    "gcs_ages=gcs.ageMLP[bools].values"
   ]
  },
  {
   "cell_type": "code",
   "execution_count": 59,
   "metadata": {},
   "outputs": [
    {
     "data": {
      "text/plain": [
       "<matplotlib.legend.Legend at 0x153a38a60>"
      ]
     },
     "execution_count": 59,
     "metadata": {},
     "output_type": "execute_result"
    },
    {
     "data": {
      "image/png": "[encoded data removed]",
      "text/plain": [
       "<Figure size 432x288 with 1 Axes>"
      ]
     },
     "metadata": {
      "needs_background": "light"
     },
     "output_type": "display_data"
    }
   ],
   "source": [
    "h=plt.hist(gcs_ages, density=True, label='metallicity')\n",
    "h=plt.hist(trace['age'], density=True, histtype='step', lw=2.5, label='AVR')\n",
    "plt.legend()"
   ]
  },
  {
   "cell_type": "code",
   "execution_count": 61,
   "metadata": {},
   "outputs": [],
   "source": [
    "#get variable from the metallicity ages as new prior\n",
    "from pymc3.distributions import Interpolated\n",
    "\n"
   ]
  },
  {
   "cell_type": "code",
   "execution_count": 72,
   "metadata": {},
   "outputs": [],
   "source": [
    "GCSAGX=gcs_ages[~np.isnan(gcs_ages)]\n",
    "smin, smax = np.min(GCSAGX), np.max(GCSAGX)\n",
    "width = smax - smin\n",
    "x = np.linspace(smin, smax, 100)\n",
    "y = stats.gaussian_kde(GCSAGX)(x)"
   ]
  },
  {
   "cell_type": "code",
   "execution_count": 89,
   "metadata": {},
   "outputs": [],
   "source": [
    "#plt.kde"
   ]
  },
  {
   "cell_type": "code",
   "execution_count": 71,
   "metadata": {},
   "outputs": [
    {
     "data": {
      "text/plain": [
       "array([3.8, 1.2, 2.1, ..., 2.7, 2.1, 1.6])"
      ]
     },
     "execution_count": 71,
     "metadata": {},
     "output_type": "execute_result"
    }
   ],
   "source": [
    "#with pm.Model() as m:\n",
    "#    age="
   ]
  },
  {
   "cell_type": "code",
   "execution_count": 70,
   "metadata": {},
   "outputs": [],
   "source": []
  },
  {
   "cell_type": "code",
   "execution_count": 75,
   "metadata": {},
   "outputs": [
    {
     "name": "stderr",
     "output_type": "stream",
     "text": [
      "Multiprocess sampling (4 chains in 4 jobs)\n",
      "Metropolis: [age]\n"
     ]
    },
    {
     "data": {
      "text/html": [
       "\n",
       "    <div>\n",
       "        <style>\n",
       "            /* Turns off some styling */\n",
       "            progress {\n",
       "                /* gets rid of default border in Firefox and Opera. */\n",
       "                border: none;\n",
       "                /* Needs to be in here for Safari polyfill so background images work as expected. */\n",
       "                background-size: auto;\n",
       "            }\n",
       "            .progress-bar-interrupted, .progress-bar-interrupted::-webkit-progress-bar {\n",
       "                background: #F44336;\n",
       "            }\n",
       "        </style>\n",
       "      <progress value='210000' class='' max='210000' style='width:300px; height:20px; vertical-align: middle;'></progress>\n",
       "      100.00% [210000/210000 02:41<00:00 Sampling 4 chains, 0 divergences]\n",
       "    </div>\n",
       "    "
      ],
      "text/plain": [
       "<IPython.core.display.HTML object>"
      ]
     },
     "metadata": {},
     "output_type": "display_data"
    },
    {
     "name": "stderr",
     "output_type": "stream",
     "text": [
      "Sampling 4 chains for 2_500 tune and 50_000 draw iterations (10_000 + 200_000 draws total) took 203 seconds.\n",
      "The number of effective samples is smaller than 25% for some parameters.\n"
     ]
    }
   ],
   "source": [
    "nsample=5e4\n",
    "with pm.Model() as model_metal:\n",
    "    \n",
    "    v10 = 41.899\n",
    "    tau1 = 0.001\n",
    "    beta = 0.307\n",
    "\n",
    "    v10_v = 28.823\n",
    "    tau_v = 0.715\n",
    "    beta_v = 0.430\n",
    "\n",
    "    v10_w = 23.381\n",
    "    tau_w = 0.001\n",
    "    beta_w = 0.445\n",
    "    k = 74.\n",
    "    \n",
    "    \n",
    "    #beta=pm.Uniform('beta', lower=0.001, upper=1.)\n",
    "    #age=pm.Gamma('age', alpha=5., beta=beta)\n",
    "    #age=pm.Uniform('age', lower=0.0, upper=13.)\n",
    "    age=Interpolated('age', x, y)\n",
    "    \n",
    "    sigma_u = pm.Deterministic('sigma_u',  v10*((age+tau1)/(10.+tau1))**beta)\n",
    "    uvel =pm.Normal('uvel', mu=0.0, sigma=sigma_u, observed=-0.74480971)\n",
    "\n",
    "    sigma_v = pm.Deterministic('sigma_v', v10_v*((age+tau_v)/(10.+tau_v))**beta_v)\n",
    "    \n",
    "    voff = -1.*(sigma_v**2)/k\n",
    "    vvel = pm.Normal('vvel', mu=voff,sigma=sigma_v, observed=-12.224687)\n",
    "    \n",
    "    sigma_w = pm.Deterministic('sigma_w', v10_w*((age+tau_w)/(10.+tau_w))**beta_w)\n",
    "    wvel = pm.Normal('wvel', mu=0., sigma=sigma_w, observed=-8.2923634)\n",
    "    \n",
    "    trace_metal = pm.sample(draws=int(nsample), cores=4, tune=int(nsample/20),\n",
    "            discard_tuned_samples=True, step=pm.Metropolis(), return_inferencedata=False )\n",
    "    "
   ]
  },
  {
   "cell_type": "code",
   "execution_count": 77,
   "metadata": {},
   "outputs": [
    {
     "name": "stderr",
     "output_type": "stream",
     "text": [
      "/opt/anaconda3/envs/pymcenv/lib/python3.9/site-packages/arviz/data/io_pymc3.py:96: FutureWarning: Using `from_pymc3` without the model will be deprecated in a future release. Not using the model will return less accurate and less useful results. Make sure you use the model argument or call from_pymc3 within a model context.\n",
      "  warnings.warn(\n"
     ]
    },
    {
     "data": {
      "text/html": [
       "<div>\n",
       "<style scoped>\n",
       "    .dataframe tbody tr th:only-of-type {\n",
       "        vertical-align: middle;\n",
       "    }\n",
       "\n",
       "    .dataframe tbody tr th {\n",
       "        vertical-align: top;\n",
       "    }\n",
       "\n",
       "    .dataframe thead th {\n",
       "        text-align: right;\n",
       "    }\n",
       "</style>\n",
       "<table border=\"1\" class=\"dataframe\">\n",
       "  <thead>\n",
       "    <tr style=\"text-align: right;\">\n",
       "      <th></th>\n",
       "      <th>mean</th>\n",
       "      <th>sd</th>\n",
       "      <th>hdi_3%</th>\n",
       "      <th>hdi_97%</th>\n",
       "      <th>mcse_mean</th>\n",
       "      <th>mcse_sd</th>\n",
       "      <th>ess_bulk</th>\n",
       "      <th>ess_tail</th>\n",
       "      <th>r_hat</th>\n",
       "    </tr>\n",
       "  </thead>\n",
       "  <tbody>\n",
       "    <tr>\n",
       "      <th>age</th>\n",
       "      <td>2.09</td>\n",
       "      <td>1.54</td>\n",
       "      <td>0.10</td>\n",
       "      <td>4.27</td>\n",
       "      <td>0.01</td>\n",
       "      <td>0.01</td>\n",
       "      <td>37459.0</td>\n",
       "      <td>36671.0</td>\n",
       "      <td>1.0</td>\n",
       "    </tr>\n",
       "    <tr>\n",
       "      <th>sigma_u</th>\n",
       "      <td>24.76</td>\n",
       "      <td>5.05</td>\n",
       "      <td>14.42</td>\n",
       "      <td>33.59</td>\n",
       "      <td>0.03</td>\n",
       "      <td>0.02</td>\n",
       "      <td>37459.0</td>\n",
       "      <td>36671.0</td>\n",
       "      <td>1.0</td>\n",
       "    </tr>\n",
       "    <tr>\n",
       "      <th>sigma_v</th>\n",
       "      <td>15.75</td>\n",
       "      <td>3.24</td>\n",
       "      <td>10.00</td>\n",
       "      <td>20.97</td>\n",
       "      <td>0.02</td>\n",
       "      <td>0.01</td>\n",
       "      <td>37459.0</td>\n",
       "      <td>36671.0</td>\n",
       "      <td>1.0</td>\n",
       "    </tr>\n",
       "    <tr>\n",
       "      <th>sigma_w</th>\n",
       "      <td>11.06</td>\n",
       "      <td>3.28</td>\n",
       "      <td>4.77</td>\n",
       "      <td>16.71</td>\n",
       "      <td>0.02</td>\n",
       "      <td>0.01</td>\n",
       "      <td>37459.0</td>\n",
       "      <td>36671.0</td>\n",
       "      <td>1.0</td>\n",
       "    </tr>\n",
       "  </tbody>\n",
       "</table>\n",
       "</div>"
      ],
      "text/plain": [
       "          mean    sd  hdi_3%  hdi_97%  mcse_mean  mcse_sd  ess_bulk  ess_tail  \\\n",
       "age       2.09  1.54    0.10     4.27       0.01     0.01   37459.0   36671.0   \n",
       "sigma_u  24.76  5.05   14.42    33.59       0.03     0.02   37459.0   36671.0   \n",
       "sigma_v  15.75  3.24   10.00    20.97       0.02     0.01   37459.0   36671.0   \n",
       "sigma_w  11.06  3.28    4.77    16.71       0.02     0.01   37459.0   36671.0   \n",
       "\n",
       "         r_hat  \n",
       "age        1.0  \n",
       "sigma_u    1.0  \n",
       "sigma_v    1.0  \n",
       "sigma_w    1.0  "
      ]
     },
     "execution_count": 77,
     "metadata": {},
     "output_type": "execute_result"
    }
   ],
   "source": [
    "pm.summary(trace_metal).round(2)"
   ]
  },
  {
   "cell_type": "code",
   "execution_count": 78,
   "metadata": {},
   "outputs": [
    {
     "data": {
      "image/png": "[encoded data removed]",
      "text/plain": [
       "<Figure size 1080x288 with 1 Axes>"
      ]
     },
     "metadata": {
      "needs_background": "light"
     },
     "output_type": "display_data"
    }
   ],
   "source": [
    "# plot the estimate for the mean of τ cumulating mean\n",
    "tau = trace_metal[\"age\"]\n",
    "mtau = [np.mean(tau[:i]) for i in np.arange(1, len(tau))]\n",
    "plt.figure(figsize=(15, 4))\n",
    "plt.axhline(2.09, lw=2.5, color=\"gray\")\n",
    "plt.plot(mtau, lw=2.5)\n",
    "plt.xscale('log')\n",
    "plt.xlabel(\"Iteration\")\n",
    "plt.ylabel(\"MCMC mean of age\")\n",
    "plt.title(\"MCMC estimation of age\");"
   ]
  },
  {
   "cell_type": "code",
   "execution_count": 95,
   "metadata": {},
   "outputs": [
    {
     "data": {
      "text/plain": [
       "<matplotlib.legend.Legend at 0x1532cb2e0>"
      ]
     },
     "execution_count": 95,
     "metadata": {},
     "output_type": "execute_result"
    },
    {
     "data": {
      "image/png": "[encoded data removed]",
      "text/plain": [
       "<Figure size 432x288 with 1 Axes>"
      ]
     },
     "metadata": {
      "needs_background": "light"
     },
     "output_type": "display_data"
    }
   ],
   "source": [
    "h=plt.hist(gcs_ages, density=True, label='GCS', bins=32, range=[0, 13])\n",
    "h=plt.hist(trace['age'], density=True, histtype='step', lw=2.5,\n",
    "           label='AVR Uniform Prior', bins=32, range=[0, 13])\n",
    "h=plt.hist(trace_metal['age'], density=True, histtype='step', lw=2.5, \n",
    "           label='AVR GCS Prior', bins=32, range=[0, 13])\n",
    "plt.xlabel('Age (Gyr)')\n",
    "plt.legend()"
   ]
  },
  {
   "cell_type": "code",
   "execution_count": 94,
   "metadata": {},
   "outputs": [],
   "source": [
    "#pm.plot_posterior(trace['age'])\n",
    "#pm.plot_posterior(trace_metal['age'])"
   ]
  },
  {
   "cell_type": "code",
   "execution_count": 96,
   "metadata": {},
   "outputs": [],
   "source": []
  },
  {
   "cell_type": "code",
   "execution_count": 98,
   "metadata": {},
   "outputs": [
    {
     "name": "stderr",
     "output_type": "stream",
     "text": [
      "Multiprocess sampling (4 chains in 4 jobs)\n",
      "CompoundStep\n",
      ">Metropolis: [wvel]\n",
      ">Metropolis: [vvel]\n",
      ">Metropolis: [uvel]\n",
      ">Metropolis: [age]\n"
     ]
    },
    {
     "data": {
      "text/html": [
       "\n",
       "    <div>\n",
       "        <style>\n",
       "            /* Turns off some styling */\n",
       "            progress {\n",
       "                /* gets rid of default border in Firefox and Opera. */\n",
       "                border: none;\n",
       "                /* Needs to be in here for Safari polyfill so background images work as expected. */\n",
       "                background-size: auto;\n",
       "            }\n",
       "            .progress-bar-interrupted, .progress-bar-interrupted::-webkit-progress-bar {\n",
       "                background: #F44336;\n",
       "            }\n",
       "        </style>\n",
       "      <progress value='210000' class='' max='210000' style='width:300px; height:20px; vertical-align: middle;'></progress>\n",
       "      100.00% [210000/210000 02:53<00:00 Sampling 4 chains, 0 divergences]\n",
       "    </div>\n",
       "    "
      ],
      "text/plain": [
       "<IPython.core.display.HTML object>"
      ]
     },
     "metadata": {},
     "output_type": "display_data"
    },
    {
     "name": "stderr",
     "output_type": "stream",
     "text": [
      "Sampling 4 chains for 2_500 tune and 50_000 draw iterations (10_000 + 200_000 draws total) took 201 seconds.\n",
      "The number of effective samples is smaller than 25% for some parameters.\n"
     ]
    }
   ],
   "source": [
    "#add my own likelihood (chisquare)\n",
    "nsample=5e4\n",
    "def logp(u, v, w):\n",
    "    return -(u+0.74480971)**2-(v+12.224687)**2-(w+8.2923634)**2\n",
    "with pm.Model() as model_custom:\n",
    "    \n",
    "    v10 = 41.899\n",
    "    tau1 = 0.001\n",
    "    beta = 0.307\n",
    "\n",
    "    v10_v = 28.823\n",
    "    tau_v = 0.715\n",
    "    beta_v = 0.430\n",
    "\n",
    "    v10_w = 23.381\n",
    "    tau_w = 0.001\n",
    "    beta_w = 0.445\n",
    "    k = 74.\n",
    "    \n",
    "    \n",
    "    #beta=pm.Uniform('beta', lower=0.001, upper=1.)\n",
    "    #age=pm.Gamma('age', alpha=5., beta=beta)\n",
    "    #age=pm.Uniform('age', lower=0.0, upper=13.)\n",
    "    age=Interpolated('age', x, y)\n",
    "    \n",
    "    sigma_u = pm.Deterministic('sigma_u',  v10*((age+tau1)/(10.+tau1))**beta)\n",
    "    uvel =pm.Normal('uvel', mu=0.0, sigma=sigma_u)\n",
    "\n",
    "    sigma_v = pm.Deterministic('sigma_v', v10_v*((age+tau_v)/(10.+tau_v))**beta_v)\n",
    "    \n",
    "    voff = -1.*(sigma_v**2)/k\n",
    "    vvel = pm.Normal('vvel', mu=voff,sigma=sigma_v)\n",
    "    \n",
    "    sigma_w = pm.Deterministic('sigma_w', v10_w*((age+tau_w)/(10.+tau_w))**beta_w)\n",
    "    wvel = pm.Normal('wvel', mu=0., sigma=sigma_w)\n",
    "    \n",
    "    like = pm.Potential('likelihood', logp(uvel, vvel, wvel))\n",
    "    \n",
    "    trace_custom = pm.sample(draws=int(nsample), cores=4, tune=int(nsample/20),\n",
    "            discard_tuned_samples=True, step=pm.Metropolis(), return_inferencedata=False )\n",
    "    \n"
   ]
  },
  {
   "cell_type": "code",
   "execution_count": 100,
   "metadata": {},
   "outputs": [
    {
     "name": "stderr",
     "output_type": "stream",
     "text": [
      "/opt/anaconda3/envs/pymcenv/lib/python3.9/site-packages/arviz/data/io_pymc3.py:96: FutureWarning: Using `from_pymc3` without the model will be deprecated in a future release. Not using the model will return less accurate and less useful results. Make sure you use the model argument or call from_pymc3 within a model context.\n",
      "  warnings.warn(\n"
     ]
    },
    {
     "data": {
      "text/html": [
       "<div>\n",
       "<style scoped>\n",
       "    .dataframe tbody tr th:only-of-type {\n",
       "        vertical-align: middle;\n",
       "    }\n",
       "\n",
       "    .dataframe tbody tr th {\n",
       "        vertical-align: top;\n",
       "    }\n",
       "\n",
       "    .dataframe thead th {\n",
       "        text-align: right;\n",
       "    }\n",
       "</style>\n",
       "<table border=\"1\" class=\"dataframe\">\n",
       "  <thead>\n",
       "    <tr style=\"text-align: right;\">\n",
       "      <th></th>\n",
       "      <th>mean</th>\n",
       "      <th>sd</th>\n",
       "      <th>hdi_3%</th>\n",
       "      <th>hdi_97%</th>\n",
       "      <th>mcse_mean</th>\n",
       "      <th>mcse_sd</th>\n",
       "      <th>ess_bulk</th>\n",
       "      <th>ess_tail</th>\n",
       "      <th>r_hat</th>\n",
       "    </tr>\n",
       "  </thead>\n",
       "  <tbody>\n",
       "    <tr>\n",
       "      <th>uvel</th>\n",
       "      <td>-0.75</td>\n",
       "      <td>0.70</td>\n",
       "      <td>-2.05</td>\n",
       "      <td>0.60</td>\n",
       "      <td>0.00</td>\n",
       "      <td>0.00</td>\n",
       "      <td>45286.0</td>\n",
       "      <td>50669.0</td>\n",
       "      <td>1.0</td>\n",
       "    </tr>\n",
       "    <tr>\n",
       "      <th>vvel</th>\n",
       "      <td>-12.20</td>\n",
       "      <td>0.71</td>\n",
       "      <td>-13.55</td>\n",
       "      <td>-10.89</td>\n",
       "      <td>0.00</td>\n",
       "      <td>0.00</td>\n",
       "      <td>45118.0</td>\n",
       "      <td>47323.0</td>\n",
       "      <td>1.0</td>\n",
       "    </tr>\n",
       "    <tr>\n",
       "      <th>wvel</th>\n",
       "      <td>-8.25</td>\n",
       "      <td>0.71</td>\n",
       "      <td>-9.57</td>\n",
       "      <td>-6.91</td>\n",
       "      <td>0.00</td>\n",
       "      <td>0.00</td>\n",
       "      <td>44672.0</td>\n",
       "      <td>47914.0</td>\n",
       "      <td>1.0</td>\n",
       "    </tr>\n",
       "    <tr>\n",
       "      <th>age</th>\n",
       "      <td>2.08</td>\n",
       "      <td>1.54</td>\n",
       "      <td>0.14</td>\n",
       "      <td>4.31</td>\n",
       "      <td>0.01</td>\n",
       "      <td>0.01</td>\n",
       "      <td>37556.0</td>\n",
       "      <td>35778.0</td>\n",
       "      <td>1.0</td>\n",
       "    </tr>\n",
       "    <tr>\n",
       "      <th>sigma_u</th>\n",
       "      <td>24.73</td>\n",
       "      <td>5.06</td>\n",
       "      <td>14.57</td>\n",
       "      <td>33.78</td>\n",
       "      <td>0.03</td>\n",
       "      <td>0.02</td>\n",
       "      <td>37556.0</td>\n",
       "      <td>35778.0</td>\n",
       "      <td>1.0</td>\n",
       "    </tr>\n",
       "    <tr>\n",
       "      <th>sigma_v</th>\n",
       "      <td>15.74</td>\n",
       "      <td>3.24</td>\n",
       "      <td>10.07</td>\n",
       "      <td>21.08</td>\n",
       "      <td>0.02</td>\n",
       "      <td>0.01</td>\n",
       "      <td>37556.0</td>\n",
       "      <td>35778.0</td>\n",
       "      <td>1.0</td>\n",
       "    </tr>\n",
       "    <tr>\n",
       "      <th>sigma_w</th>\n",
       "      <td>11.03</td>\n",
       "      <td>3.29</td>\n",
       "      <td>4.59</td>\n",
       "      <td>16.56</td>\n",
       "      <td>0.02</td>\n",
       "      <td>0.01</td>\n",
       "      <td>37556.0</td>\n",
       "      <td>35778.0</td>\n",
       "      <td>1.0</td>\n",
       "    </tr>\n",
       "  </tbody>\n",
       "</table>\n",
       "</div>"
      ],
      "text/plain": [
       "          mean    sd  hdi_3%  hdi_97%  mcse_mean  mcse_sd  ess_bulk  ess_tail  \\\n",
       "uvel     -0.75  0.70   -2.05     0.60       0.00     0.00   45286.0   50669.0   \n",
       "vvel    -12.20  0.71  -13.55   -10.89       0.00     0.00   45118.0   47323.0   \n",
       "wvel     -8.25  0.71   -9.57    -6.91       0.00     0.00   44672.0   47914.0   \n",
       "age       2.08  1.54    0.14     4.31       0.01     0.01   37556.0   35778.0   \n",
       "sigma_u  24.73  5.06   14.57    33.78       0.03     0.02   37556.0   35778.0   \n",
       "sigma_v  15.74  3.24   10.07    21.08       0.02     0.01   37556.0   35778.0   \n",
       "sigma_w  11.03  3.29    4.59    16.56       0.02     0.01   37556.0   35778.0   \n",
       "\n",
       "         r_hat  \n",
       "uvel       1.0  \n",
       "vvel       1.0  \n",
       "wvel       1.0  \n",
       "age        1.0  \n",
       "sigma_u    1.0  \n",
       "sigma_v    1.0  \n",
       "sigma_w    1.0  "
      ]
     },
     "execution_count": 100,
     "metadata": {},
     "output_type": "execute_result"
    }
   ],
   "source": [
    "pm.summary(trace_custom).round(2)"
   ]
  },
  {
   "cell_type": "code",
   "execution_count": 99,
   "metadata": {},
   "outputs": [
    {
     "data": {
      "image/png": "[encoded data removed]",
      "text/plain": [
       "<Figure size 1080x288 with 1 Axes>"
      ]
     },
     "metadata": {
      "needs_background": "light"
     },
     "output_type": "display_data"
    }
   ],
   "source": [
    "tau = trace_custom[\"age\"]\n",
    "mtau = [np.mean(tau[:i]) for i in np.arange(1, len(tau))]\n",
    "plt.figure(figsize=(15, 4))\n",
    "plt.axhline(2.09, lw=2.5, color=\"gray\")\n",
    "plt.plot(mtau, lw=2.5)\n",
    "plt.xscale('log')\n",
    "plt.xlabel(\"Iteration\")\n",
    "plt.ylabel(\"MCMC mean of age\")\n",
    "plt.title(\"MCMC estimation of age\");"
   ]
  },
  {
   "cell_type": "code",
   "execution_count": 114,
   "metadata": {},
   "outputs": [
    {
     "data": {
      "text/plain": [
       "<matplotlib.legend.Legend at 0x15ae22490>"
      ]
     },
     "execution_count": 114,
     "metadata": {},
     "output_type": "execute_result"
    },
    {
     "data": {
      "image/png": "[encoded data removed]",
      "text/plain": [
       "<Figure size 432x288 with 1 Axes>"
      ]
     },
     "metadata": {
      "needs_background": "light"
     },
     "output_type": "display_data"
    }
   ],
   "source": [
    "h=plt.hist(gcs_ages, density=True, label='GCS', bins=32, range=[0, 13])\n",
    "h=plt.hist(trace['age'], density=True, histtype='step', lw=2.5,\n",
    "           label='AVR Uniform Prior', bins=32, range=[0, 13])\n",
    "#h=plt.hist(trace_metal['age'], density=True, histtype='step', lw=2.5, \n",
    "#           label='AVR GCS Prior', bins=32, range=[0, 13])\n",
    "h=plt.hist(trace_custom['age'], density=True, histtype='step', lw=2.5, \n",
    "           label='AVR & GCS Prior ', bins=32, range=[0, 13], color='k')\n",
    "plt.xlabel('Age (Gyr)')\n",
    "plt.legend()"
   ]
  },
  {
   "cell_type": "code",
   "execution_count": 103,
   "metadata": {},
   "outputs": [
    {
     "data": {
      "image/svg+xml": [
       "<?xml version=\"1.0\" encoding=\"UTF-8\" standalone=\"no\"?>\n",
       "<!DOCTYPE svg PUBLIC \"-//W3C//DTD SVG 1.1//EN\"\n",
       " \"http://www.w3.org/Graphics/SVG/1.1/DTD/svg11.dtd\">\n",
       "<!-- Generated by graphviz version 2.47.0 (20210316.0004)\n",
       " -->\n",
       "<!-- Pages: 1 -->\n",
       "<svg width=\"317pt\" height=\"400pt\"\n",
       " viewBox=\"0.00 0.00 317.00 400.04\" xmlns=\"http://www.w3.org/2000/svg\" xmlns:xlink=\"http://www.w3.org/1999/xlink\">\n",
       "<g id=\"graph0\" class=\"graph\" transform=\"scale(1 1) rotate(0) translate(4 396.04)\">\n",
       "<polygon fill=\"white\" stroke=\"transparent\" points=\"-4,4 -4,-396.04 313,-396.04 313,4 -4,4\"/>\n",
       "<!-- sigma_u -->\n",
       "<g id=\"node1\" class=\"node\">\n",
       "<title>sigma_u</title>\n",
       "<polygon fill=\"none\" stroke=\"black\" points=\"91,-281.08 0,-281.08 0,-228.08 91,-228.08 91,-281.08\"/>\n",
       "<text text-anchor=\"middle\" x=\"45.5\" y=\"-265.88\" font-family=\"Times,serif\" font-size=\"14.00\">sigma_u</text>\n",
       "<text text-anchor=\"middle\" x=\"45.5\" y=\"-250.88\" font-family=\"Times,serif\" font-size=\"14.00\">~</text>\n",
       "<text text-anchor=\"middle\" x=\"45.5\" y=\"-235.88\" font-family=\"Times,serif\" font-size=\"14.00\">Deterministic</text>\n",
       "</g>\n",
       "<!-- uvel -->\n",
       "<g id=\"node2\" class=\"node\">\n",
       "<title>uvel</title>\n",
       "<ellipse fill=\"none\" stroke=\"black\" cx=\"49.5\" cy=\"-154.61\" rx=\"41.94\" ry=\"37.45\"/>\n",
       "<text text-anchor=\"middle\" x=\"49.5\" y=\"-165.91\" font-family=\"Times,serif\" font-size=\"14.00\">uvel</text>\n",
       "<text text-anchor=\"middle\" x=\"49.5\" y=\"-150.91\" font-family=\"Times,serif\" font-size=\"14.00\">~</text>\n",
       "<text text-anchor=\"middle\" x=\"49.5\" y=\"-135.91\" font-family=\"Times,serif\" font-size=\"14.00\">Normal</text>\n",
       "</g>\n",
       "<!-- sigma_u&#45;&gt;uvel -->\n",
       "<g id=\"edge2\" class=\"edge\">\n",
       "<title>sigma_u&#45;&gt;uvel</title>\n",
       "<path fill=\"none\" stroke=\"black\" d=\"M46.55,-227.84C46.87,-220.02 47.23,-211.16 47.59,-202.4\"/>\n",
       "<polygon fill=\"black\" stroke=\"black\" points=\"51.09,-202.36 48,-192.23 44.1,-202.08 51.09,-202.36\"/>\n",
       "</g>\n",
       "<!-- likelihood -->\n",
       "<g id=\"node3\" class=\"node\">\n",
       "<title>likelihood</title>\n",
       "<polygon fill=\"none\" stroke=\"black\" points=\"208.68,-23.74 208.68,-57.39 176.94,-81.19 132.06,-81.19 100.32,-57.39 100.32,-23.74 132.06,0.06 176.94,0.06 208.68,-23.74\"/>\n",
       "<text text-anchor=\"middle\" x=\"154.5\" y=\"-51.86\" font-family=\"Times,serif\" font-size=\"14.00\">likelihood</text>\n",
       "<text text-anchor=\"middle\" x=\"154.5\" y=\"-36.86\" font-family=\"Times,serif\" font-size=\"14.00\">~</text>\n",
       "<text text-anchor=\"middle\" x=\"154.5\" y=\"-21.86\" font-family=\"Times,serif\" font-size=\"14.00\">Potential</text>\n",
       "</g>\n",
       "<!-- uvel&#45;&gt;likelihood -->\n",
       "<g id=\"edge8\" class=\"edge\">\n",
       "<title>uvel&#45;&gt;likelihood</title>\n",
       "<path fill=\"none\" stroke=\"black\" d=\"M76,-125.33C88.21,-112.3 102.93,-96.6 116.3,-82.32\"/>\n",
       "<polygon fill=\"black\" stroke=\"black\" points=\"118.87,-84.7 123.16,-75.01 113.76,-79.91 118.87,-84.7\"/>\n",
       "</g>\n",
       "<!-- vvel -->\n",
       "<g id=\"node4\" class=\"node\">\n",
       "<title>vvel</title>\n",
       "<ellipse fill=\"none\" stroke=\"black\" cx=\"154.5\" cy=\"-154.61\" rx=\"41.94\" ry=\"37.45\"/>\n",
       "<text text-anchor=\"middle\" x=\"154.5\" y=\"-165.91\" font-family=\"Times,serif\" font-size=\"14.00\">vvel</text>\n",
       "<text text-anchor=\"middle\" x=\"154.5\" y=\"-150.91\" font-family=\"Times,serif\" font-size=\"14.00\">~</text>\n",
       "<text text-anchor=\"middle\" x=\"154.5\" y=\"-135.91\" font-family=\"Times,serif\" font-size=\"14.00\">Normal</text>\n",
       "</g>\n",
       "<!-- vvel&#45;&gt;likelihood -->\n",
       "<g id=\"edge7\" class=\"edge\">\n",
       "<title>vvel&#45;&gt;likelihood</title>\n",
       "<path fill=\"none\" stroke=\"black\" d=\"M154.5,-116.92C154.5,-108.84 154.5,-100.16 154.5,-91.65\"/>\n",
       "<polygon fill=\"black\" stroke=\"black\" points=\"158,-91.43 154.5,-81.43 151,-91.43 158,-91.43\"/>\n",
       "</g>\n",
       "<!-- sigma_v -->\n",
       "<g id=\"node5\" class=\"node\">\n",
       "<title>sigma_v</title>\n",
       "<polygon fill=\"none\" stroke=\"black\" points=\"200,-281.08 109,-281.08 109,-228.08 200,-228.08 200,-281.08\"/>\n",
       "<text text-anchor=\"middle\" x=\"154.5\" y=\"-265.88\" font-family=\"Times,serif\" font-size=\"14.00\">sigma_v</text>\n",
       "<text text-anchor=\"middle\" x=\"154.5\" y=\"-250.88\" font-family=\"Times,serif\" font-size=\"14.00\">~</text>\n",
       "<text text-anchor=\"middle\" x=\"154.5\" y=\"-235.88\" font-family=\"Times,serif\" font-size=\"14.00\">Deterministic</text>\n",
       "</g>\n",
       "<!-- sigma_v&#45;&gt;vvel -->\n",
       "<g id=\"edge4\" class=\"edge\">\n",
       "<title>sigma_v&#45;&gt;vvel</title>\n",
       "<path fill=\"none\" stroke=\"black\" d=\"M154.5,-227.84C154.5,-220.02 154.5,-211.16 154.5,-202.4\"/>\n",
       "<polygon fill=\"black\" stroke=\"black\" points=\"158,-202.23 154.5,-192.23 151,-202.23 158,-202.23\"/>\n",
       "</g>\n",
       "<!-- wvel -->\n",
       "<g id=\"node6\" class=\"node\">\n",
       "<title>wvel</title>\n",
       "<ellipse fill=\"none\" stroke=\"black\" cx=\"259.5\" cy=\"-154.61\" rx=\"41.94\" ry=\"37.45\"/>\n",
       "<text text-anchor=\"middle\" x=\"259.5\" y=\"-165.91\" font-family=\"Times,serif\" font-size=\"14.00\">wvel</text>\n",
       "<text text-anchor=\"middle\" x=\"259.5\" y=\"-150.91\" font-family=\"Times,serif\" font-size=\"14.00\">~</text>\n",
       "<text text-anchor=\"middle\" x=\"259.5\" y=\"-135.91\" font-family=\"Times,serif\" font-size=\"14.00\">Normal</text>\n",
       "</g>\n",
       "<!-- wvel&#45;&gt;likelihood -->\n",
       "<g id=\"edge9\" class=\"edge\">\n",
       "<title>wvel&#45;&gt;likelihood</title>\n",
       "<path fill=\"none\" stroke=\"black\" d=\"M233,-125.33C220.79,-112.3 206.07,-96.6 192.7,-82.32\"/>\n",
       "<polygon fill=\"black\" stroke=\"black\" points=\"195.24,-79.91 185.84,-75.01 190.13,-84.7 195.24,-79.91\"/>\n",
       "</g>\n",
       "<!-- age -->\n",
       "<g id=\"node7\" class=\"node\">\n",
       "<title>age</title>\n",
       "<ellipse fill=\"none\" stroke=\"black\" cx=\"154.5\" cy=\"-354.56\" rx=\"57.97\" ry=\"37.45\"/>\n",
       "<text text-anchor=\"middle\" x=\"154.5\" y=\"-365.86\" font-family=\"Times,serif\" font-size=\"14.00\">age</text>\n",
       "<text text-anchor=\"middle\" x=\"154.5\" y=\"-350.86\" font-family=\"Times,serif\" font-size=\"14.00\">~</text>\n",
       "<text text-anchor=\"middle\" x=\"154.5\" y=\"-335.86\" font-family=\"Times,serif\" font-size=\"14.00\">Interpolated</text>\n",
       "</g>\n",
       "<!-- age&#45;&gt;sigma_u -->\n",
       "<g id=\"edge1\" class=\"edge\">\n",
       "<title>age&#45;&gt;sigma_u</title>\n",
       "<path fill=\"none\" stroke=\"black\" d=\"M121.2,-323.63C108.76,-312.45 94.57,-299.69 81.86,-288.27\"/>\n",
       "<polygon fill=\"black\" stroke=\"black\" points=\"83.95,-285.44 74.17,-281.36 79.27,-290.64 83.95,-285.44\"/>\n",
       "</g>\n",
       "<!-- age&#45;&gt;sigma_v -->\n",
       "<g id=\"edge3\" class=\"edge\">\n",
       "<title>age&#45;&gt;sigma_v</title>\n",
       "<path fill=\"none\" stroke=\"black\" d=\"M154.5,-317.08C154.5,-308.66 154.5,-299.72 154.5,-291.33\"/>\n",
       "<polygon fill=\"black\" stroke=\"black\" points=\"158,-291.09 154.5,-281.09 151,-291.09 158,-291.09\"/>\n",
       "</g>\n",
       "<!-- sigma_w -->\n",
       "<g id=\"node8\" class=\"node\">\n",
       "<title>sigma_w</title>\n",
       "<polygon fill=\"none\" stroke=\"black\" points=\"309,-281.08 218,-281.08 218,-228.08 309,-228.08 309,-281.08\"/>\n",
       "<text text-anchor=\"middle\" x=\"263.5\" y=\"-265.88\" font-family=\"Times,serif\" font-size=\"14.00\">sigma_w</text>\n",
       "<text text-anchor=\"middle\" x=\"263.5\" y=\"-250.88\" font-family=\"Times,serif\" font-size=\"14.00\">~</text>\n",
       "<text text-anchor=\"middle\" x=\"263.5\" y=\"-235.88\" font-family=\"Times,serif\" font-size=\"14.00\">Deterministic</text>\n",
       "</g>\n",
       "<!-- age&#45;&gt;sigma_w -->\n",
       "<g id=\"edge5\" class=\"edge\">\n",
       "<title>age&#45;&gt;sigma_w</title>\n",
       "<path fill=\"none\" stroke=\"black\" d=\"M187.8,-323.63C200.24,-312.45 214.43,-299.69 227.14,-288.27\"/>\n",
       "<polygon fill=\"black\" stroke=\"black\" points=\"229.73,-290.64 234.83,-281.36 225.05,-285.44 229.73,-290.64\"/>\n",
       "</g>\n",
       "<!-- sigma_w&#45;&gt;wvel -->\n",
       "<g id=\"edge6\" class=\"edge\">\n",
       "<title>sigma_w&#45;&gt;wvel</title>\n",
       "<path fill=\"none\" stroke=\"black\" d=\"M262.45,-227.84C262.13,-220.02 261.77,-211.16 261.41,-202.4\"/>\n",
       "<polygon fill=\"black\" stroke=\"black\" points=\"264.9,-202.08 261,-192.23 257.91,-202.36 264.9,-202.08\"/>\n",
       "</g>\n",
       "</g>\n",
       "</svg>\n"
      ],
      "text/plain": [
       "<graphviz.dot.Digraph at 0x157f85880>"
      ]
     },
     "execution_count": 103,
     "metadata": {},
     "output_type": "execute_result"
    }
   ],
   "source": [
    "pm.model_to_graphviz(model_custom)"
   ]
  },
  {
   "cell_type": "code",
   "execution_count": 104,
   "metadata": {},
   "outputs": [
    {
     "data": {
      "image/svg+xml": [
       "<?xml version=\"1.0\" encoding=\"UTF-8\" standalone=\"no\"?>\n",
       "<!DOCTYPE svg PUBLIC \"-//W3C//DTD SVG 1.1//EN\"\n",
       " \"http://www.w3.org/Graphics/SVG/1.1/DTD/svg11.dtd\">\n",
       "<!-- Generated by graphviz version 2.47.0 (20210316.0004)\n",
       " -->\n",
       "<!-- Pages: 1 -->\n",
       "<svg width=\"317pt\" height=\"283pt\"\n",
       " viewBox=\"0.00 0.00 317.00 282.91\" xmlns=\"http://www.w3.org/2000/svg\" xmlns:xlink=\"http://www.w3.org/1999/xlink\">\n",
       "<g id=\"graph0\" class=\"graph\" transform=\"scale(1 1) rotate(0) translate(4 278.91)\">\n",
       "<polygon fill=\"white\" stroke=\"transparent\" points=\"-4,4 -4,-278.91 313,-278.91 313,4 -4,4\"/>\n",
       "<!-- sigma_u -->\n",
       "<g id=\"node1\" class=\"node\">\n",
       "<title>sigma_u</title>\n",
       "<polygon fill=\"none\" stroke=\"black\" points=\"91,-163.95 0,-163.95 0,-110.95 91,-110.95 91,-163.95\"/>\n",
       "<text text-anchor=\"middle\" x=\"45.5\" y=\"-148.75\" font-family=\"Times,serif\" font-size=\"14.00\">sigma_u</text>\n",
       "<text text-anchor=\"middle\" x=\"45.5\" y=\"-133.75\" font-family=\"Times,serif\" font-size=\"14.00\">~</text>\n",
       "<text text-anchor=\"middle\" x=\"45.5\" y=\"-118.75\" font-family=\"Times,serif\" font-size=\"14.00\">Deterministic</text>\n",
       "</g>\n",
       "<!-- uvel -->\n",
       "<g id=\"node2\" class=\"node\">\n",
       "<title>uvel</title>\n",
       "<ellipse fill=\"lightgrey\" stroke=\"black\" cx=\"45.5\" cy=\"-37.48\" rx=\"41.94\" ry=\"37.45\"/>\n",
       "<text text-anchor=\"middle\" x=\"45.5\" y=\"-48.78\" font-family=\"Times,serif\" font-size=\"14.00\">uvel</text>\n",
       "<text text-anchor=\"middle\" x=\"45.5\" y=\"-33.78\" font-family=\"Times,serif\" font-size=\"14.00\">~</text>\n",
       "<text text-anchor=\"middle\" x=\"45.5\" y=\"-18.78\" font-family=\"Times,serif\" font-size=\"14.00\">Normal</text>\n",
       "</g>\n",
       "<!-- sigma_u&#45;&gt;uvel -->\n",
       "<g id=\"edge2\" class=\"edge\">\n",
       "<title>sigma_u&#45;&gt;uvel</title>\n",
       "<path fill=\"none\" stroke=\"black\" d=\"M45.5,-110.71C45.5,-102.89 45.5,-94.03 45.5,-85.27\"/>\n",
       "<polygon fill=\"black\" stroke=\"black\" points=\"49,-85.1 45.5,-75.1 42,-85.1 49,-85.1\"/>\n",
       "</g>\n",
       "<!-- vvel -->\n",
       "<g id=\"node3\" class=\"node\">\n",
       "<title>vvel</title>\n",
       "<ellipse fill=\"lightgrey\" stroke=\"black\" cx=\"154.5\" cy=\"-37.48\" rx=\"41.94\" ry=\"37.45\"/>\n",
       "<text text-anchor=\"middle\" x=\"154.5\" y=\"-48.78\" font-family=\"Times,serif\" font-size=\"14.00\">vvel</text>\n",
       "<text text-anchor=\"middle\" x=\"154.5\" y=\"-33.78\" font-family=\"Times,serif\" font-size=\"14.00\">~</text>\n",
       "<text text-anchor=\"middle\" x=\"154.5\" y=\"-18.78\" font-family=\"Times,serif\" font-size=\"14.00\">Normal</text>\n",
       "</g>\n",
       "<!-- sigma_v -->\n",
       "<g id=\"node4\" class=\"node\">\n",
       "<title>sigma_v</title>\n",
       "<polygon fill=\"none\" stroke=\"black\" points=\"200,-163.95 109,-163.95 109,-110.95 200,-110.95 200,-163.95\"/>\n",
       "<text text-anchor=\"middle\" x=\"154.5\" y=\"-148.75\" font-family=\"Times,serif\" font-size=\"14.00\">sigma_v</text>\n",
       "<text text-anchor=\"middle\" x=\"154.5\" y=\"-133.75\" font-family=\"Times,serif\" font-size=\"14.00\">~</text>\n",
       "<text text-anchor=\"middle\" x=\"154.5\" y=\"-118.75\" font-family=\"Times,serif\" font-size=\"14.00\">Deterministic</text>\n",
       "</g>\n",
       "<!-- sigma_v&#45;&gt;vvel -->\n",
       "<g id=\"edge4\" class=\"edge\">\n",
       "<title>sigma_v&#45;&gt;vvel</title>\n",
       "<path fill=\"none\" stroke=\"black\" d=\"M154.5,-110.71C154.5,-102.89 154.5,-94.03 154.5,-85.27\"/>\n",
       "<polygon fill=\"black\" stroke=\"black\" points=\"158,-85.1 154.5,-75.1 151,-85.1 158,-85.1\"/>\n",
       "</g>\n",
       "<!-- wvel -->\n",
       "<g id=\"node5\" class=\"node\">\n",
       "<title>wvel</title>\n",
       "<ellipse fill=\"lightgrey\" stroke=\"black\" cx=\"263.5\" cy=\"-37.48\" rx=\"41.94\" ry=\"37.45\"/>\n",
       "<text text-anchor=\"middle\" x=\"263.5\" y=\"-48.78\" font-family=\"Times,serif\" font-size=\"14.00\">wvel</text>\n",
       "<text text-anchor=\"middle\" x=\"263.5\" y=\"-33.78\" font-family=\"Times,serif\" font-size=\"14.00\">~</text>\n",
       "<text text-anchor=\"middle\" x=\"263.5\" y=\"-18.78\" font-family=\"Times,serif\" font-size=\"14.00\">Normal</text>\n",
       "</g>\n",
       "<!-- age -->\n",
       "<g id=\"node6\" class=\"node\">\n",
       "<title>age</title>\n",
       "<ellipse fill=\"none\" stroke=\"black\" cx=\"154.5\" cy=\"-237.43\" rx=\"57.97\" ry=\"37.45\"/>\n",
       "<text text-anchor=\"middle\" x=\"154.5\" y=\"-248.73\" font-family=\"Times,serif\" font-size=\"14.00\">age</text>\n",
       "<text text-anchor=\"middle\" x=\"154.5\" y=\"-233.73\" font-family=\"Times,serif\" font-size=\"14.00\">~</text>\n",
       "<text text-anchor=\"middle\" x=\"154.5\" y=\"-218.73\" font-family=\"Times,serif\" font-size=\"14.00\">Interpolated</text>\n",
       "</g>\n",
       "<!-- age&#45;&gt;sigma_u -->\n",
       "<g id=\"edge1\" class=\"edge\">\n",
       "<title>age&#45;&gt;sigma_u</title>\n",
       "<path fill=\"none\" stroke=\"black\" d=\"M121.2,-206.5C108.76,-195.32 94.57,-182.56 81.86,-171.14\"/>\n",
       "<polygon fill=\"black\" stroke=\"black\" points=\"83.95,-168.31 74.17,-164.23 79.27,-173.52 83.95,-168.31\"/>\n",
       "</g>\n",
       "<!-- age&#45;&gt;sigma_v -->\n",
       "<g id=\"edge3\" class=\"edge\">\n",
       "<title>age&#45;&gt;sigma_v</title>\n",
       "<path fill=\"none\" stroke=\"black\" d=\"M154.5,-199.95C154.5,-191.53 154.5,-182.59 154.5,-174.2\"/>\n",
       "<polygon fill=\"black\" stroke=\"black\" points=\"158,-173.96 154.5,-163.96 151,-173.96 158,-173.96\"/>\n",
       "</g>\n",
       "<!-- sigma_w -->\n",
       "<g id=\"node7\" class=\"node\">\n",
       "<title>sigma_w</title>\n",
       "<polygon fill=\"none\" stroke=\"black\" points=\"309,-163.95 218,-163.95 218,-110.95 309,-110.95 309,-163.95\"/>\n",
       "<text text-anchor=\"middle\" x=\"263.5\" y=\"-148.75\" font-family=\"Times,serif\" font-size=\"14.00\">sigma_w</text>\n",
       "<text text-anchor=\"middle\" x=\"263.5\" y=\"-133.75\" font-family=\"Times,serif\" font-size=\"14.00\">~</text>\n",
       "<text text-anchor=\"middle\" x=\"263.5\" y=\"-118.75\" font-family=\"Times,serif\" font-size=\"14.00\">Deterministic</text>\n",
       "</g>\n",
       "<!-- age&#45;&gt;sigma_w -->\n",
       "<g id=\"edge5\" class=\"edge\">\n",
       "<title>age&#45;&gt;sigma_w</title>\n",
       "<path fill=\"none\" stroke=\"black\" d=\"M187.8,-206.5C200.24,-195.32 214.43,-182.56 227.14,-171.14\"/>\n",
       "<polygon fill=\"black\" stroke=\"black\" points=\"229.73,-173.52 234.83,-164.23 225.05,-168.31 229.73,-173.52\"/>\n",
       "</g>\n",
       "<!-- sigma_w&#45;&gt;wvel -->\n",
       "<g id=\"edge6\" class=\"edge\">\n",
       "<title>sigma_w&#45;&gt;wvel</title>\n",
       "<path fill=\"none\" stroke=\"black\" d=\"M263.5,-110.71C263.5,-102.89 263.5,-94.03 263.5,-85.27\"/>\n",
       "<polygon fill=\"black\" stroke=\"black\" points=\"267,-85.1 263.5,-75.1 260,-85.1 267,-85.1\"/>\n",
       "</g>\n",
       "</g>\n",
       "</svg>\n"
      ],
      "text/plain": [
       "<graphviz.dot.Digraph at 0x158036760>"
      ]
     },
     "execution_count": 104,
     "metadata": {},
     "output_type": "execute_result"
    }
   ],
   "source": [
    "pm.model_to_graphviz(model_metal)"
   ]
  },
  {
   "cell_type": "code",
   "execution_count": 110,
   "metadata": {},
   "outputs": [
    {
     "data": {
      "text/plain": [
       "(0.07999999999999996, 0.5)"
      ]
     },
     "execution_count": 110,
     "metadata": {},
     "output_type": "execute_result"
    }
   ],
   "source": [
    "metal[0]-3*metal[-1], metal[0]+3*metal[-1]"
   ]
  },
  {
   "cell_type": "code",
   "execution_count": null,
   "metadata": {},
   "outputs": [],
   "source": []
  }
 ],
 "metadata": {
  "kernelspec": {
   "display_name": "Python (pymcenv)",
   "language": "python",
   "name": "pymcenv"
  },
  "language_info": {
   "codemirror_mode": {
    "name": "ipython",
    "version": 3
   },
   "file_extension": ".py",
   "mimetype": "text/x-python",
   "name": "python",
   "nbconvert_exporter": "python",
   "pygments_lexer": "ipython3",
   "version": "3.9.2"
  }
 },
 "nbformat": 4,
 "nbformat_minor": 4
}
