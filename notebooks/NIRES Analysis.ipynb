{
 "cells": [
  {
   "cell_type": "code",
   "execution_count": 1,
   "metadata": {},
   "outputs": [
    {
     "name": "stdout",
     "output_type": "stream",
     "text": [
      "Adding 145 sources from /Users/caganze/research/splat//resources/Spectra/Public/LRIS-RED/ to spectral database\n",
      "Adding 2404 sources from /Users/caganze/research/splat//resources/Spectra/Public/SPEX-PRISM/ to spectral database\n",
      "Adding 89 sources from /Users/caganze/research/splat//resources/Spectra/Public/MAGE/ to spectral database\n"
     ]
    }
   ],
   "source": [
    "import pandas as pd\n",
    "from astropy.io import fits\n",
    "import numpy as np\n",
    "import matplotlib.pyplot as plt\n",
    "import splat\n",
    "import numpy\n",
    "import astropy.units as u\n",
    "from astropy import constants as const \n",
    "import copy\n",
    "from scipy.integrate import trapz        # for numerical integration\n",
    "from scipy.interpolate import interp1d\n",
    "%matplotlib inline"
   ]
  },
  {
   "cell_type": "code",
   "execution_count": 2,
   "metadata": {},
   "outputs": [],
   "source": [
    "import os"
   ]
  },
  {
   "cell_type": "code",
   "execution_count": 3,
   "metadata": {},
   "outputs": [],
   "source": [
    "#sys.path"
   ]
  },
  {
   "cell_type": "code",
   "execution_count": 4,
   "metadata": {},
   "outputs": [],
   "source": [
    "fl='/users/caganze/research/J1624/data/nires_J1624-3212_20200720.fits'"
   ]
  },
  {
   "cell_type": "code",
   "execution_count": 5,
   "metadata": {},
   "outputs": [],
   "source": [
    "data=fits.open(fl)[0].data"
   ]
  },
  {
   "cell_type": "code",
   "execution_count": 6,
   "metadata": {},
   "outputs": [],
   "source": [
    "spectra=[]"
   ]
  },
  {
   "cell_type": "code",
   "execution_count": 7,
   "metadata": {},
   "outputs": [],
   "source": [
    "for idx in np.arange(4):\n",
    "    spectra.append(splat.Spectrum(wave=data[idx][0], \\\n",
    "                                  flux=data[idx][1],\n",
    "                                  noise=data[idx][2],\n",
    "                                  instrument='NIRES'))"
   ]
  },
  {
   "cell_type": "code",
   "execution_count": 8,
   "metadata": {},
   "outputs": [],
   "source": [
    "s1=splat.stitch(spectra[0], spectra[1])\n",
    "s2=splat.stitch(spectra[2], spectra[3])"
   ]
  },
  {
   "cell_type": "code",
   "execution_count": 9,
   "metadata": {},
   "outputs": [],
   "source": [
    "#s1.flux"
   ]
  },
  {
   "cell_type": "code",
   "execution_count": 10,
   "metadata": {},
   "outputs": [],
   "source": [
    "s=splat.stitch(s1, s2)"
   ]
  },
  {
   "cell_type": "code",
   "execution_count": 11,
   "metadata": {},
   "outputs": [
    {
     "data": {
      "text/plain": [
       "{'reference': 'Rojas et al. (2012)',\n",
       " 'bibcode': '2012ApJ...748...93R',\n",
       " 'nai': {'ew': <Quantity 7.46927425 Angstrom>,\n",
       "  'ew_unc': <Quantity 0.01562696 Angstrom>,\n",
       "  'line_center': <Quantity 2.207 micron>,\n",
       "  'line_center_unc': <Quantity 4.4408921e-16 micron>,\n",
       "  'rv': <Quantity 0. km / s>,\n",
       "  'rv_unc': <Quantity 0. km / s>},\n",
       " 'cai': {'ew': <Quantity 3.67163925 Angstrom>,\n",
       "  'ew_unc': <Quantity 0.01802293 Angstrom>,\n",
       "  'line_center': <Quantity 2.2635 micron>,\n",
       "  'line_center_unc': <Quantity 0. micron>,\n",
       "  'rv': <Quantity 0. km / s>,\n",
       "  'rv_unc': <Quantity 0. km / s>}}"
      ]
     },
     "execution_count": 11,
     "metadata": {},
     "output_type": "execute_result"
    }
   ],
   "source": [
    "splat.measureEWSet(s,ref='rojas')"
   ]
  },
  {
   "cell_type": "code",
   "execution_count": 12,
   "metadata": {},
   "outputs": [],
   "source": [
    "#"
   ]
  },
  {
   "cell_type": "code",
   "execution_count": 13,
   "metadata": {},
   "outputs": [
    {
     "name": "stdout",
     "output_type": "stream",
     "text": [
      "Computing [Fe/H] from Rojas et al. (2012) (2012ApJ...748...93R), valid for M0-M5, ??? < [Fe/H] < ???\n",
      "K-band [Fe/H] = 0.23+/-0.10\n",
      "K-band [M/H] = 0.17+/-0.10\n",
      "Computing [Fe/H] from Terrrien et al. (2012) (2012ApJ...747L..38T), valid for M0--M5, -0.25 < [Fe/H] < +0.3\n",
      "K-band [Fe/H] = 0.35+/-0.12\n",
      "H-band [Fe/H] = -0.08+/-0.12\n",
      "Computing [Fe/H] from Mann et al. (2013) (2013AJ....145...52M), valid for K5--M5, -1.04 < [Fe/H] < +0.56\n",
      "J-band [Fe/H] = 0.43+/-0.07\n",
      "J-band [M/H] = 0.39+/-0.08\n",
      "H-band [Fe/H] = -0.06+/-0.07\n",
      "H-band [M/H] = 0.02+/-0.08\n",
      "K-band [Fe/H] = 0.50+/-0.07\n",
      "K-band [M/H] = 0.35+/-0.08\n",
      "Computing [Fe/H] from Mann et al. (2014) (2014AJ....147..160M), valid for M4.5--M9.5, -0.58 < [Fe/H] < +0.56\n",
      "K-band [Fe/H] = 0.29+/-0.07\n",
      "Computing [Fe/H] from Newton et al. (2014) (2014AJ....147...20N), valid for M1--M5, -1.0 < [Fe/H] < +0.35\n",
      "K-band [Fe/H] = 0.30+/-0.12\n"
     ]
    }
   ],
   "source": [
    "#using Adam's metallicity measurements\n",
    "import splat.empirical as spem\n",
    "for r in ['rojas','terrien','mann13','mann14','newton']:\n",
    "    spem.metallicity(s,ref=r,verbose=True, plot=True)\n"
   ]
  },
  {
   "cell_type": "code",
   "execution_count": 48,
   "metadata": {},
   "outputs": [],
   "source": [
    "s.reset()"
   ]
  },
  {
   "cell_type": "code",
   "execution_count": 50,
   "metadata": {},
   "outputs": [
    {
     "name": "stdout",
     "output_type": "stream",
     "text": [
      "Computing [Fe/H] from Mann et al. (2014) (2014AJ....147..160M), valid for M4.5--M9.5, -0.58 < [Fe/H] < +0.56\n",
      "K-band [Fe/H] = 0.29+/-0.07\n"
     ]
    },
    {
     "data": {
      "text/plain": [
       "{'reference': 'Mann et al. (2014)',\n",
       " 'bibcode': '2014AJ....147..160M',\n",
       " 'measures': {'feh': [0.290922749741257, 0.07021855034548777]}}"
      ]
     },
     "execution_count": 50,
     "metadata": {},
     "output_type": "execute_result"
    }
   ],
   "source": [
    "spem.metallicity(s,ref='mann14',verbose=True, plot=True, \n",
    "                 filename='/users/caganze/research/J1624/figures/metallicity.pdf')"
   ]
  },
  {
   "cell_type": "code",
   "execution_count": 46,
   "metadata": {},
   "outputs": [],
   "source": [
    "spem.metallicity"
   ]
  },
  {
   "cell_type": "code",
   "execution_count": 15,
   "metadata": {},
   "outputs": [],
   "source": [
    "import kastredux\n",
    "FUNITS=u.erg/u.micron/u.s/(u.cm**2)\n",
    "WUNITS=u.micron\n",
    "#f='/users/caganze/research/J1624/data/kastBLUE_J1624-3212_20200722.fits'\n",
    "#fr='/users/caganze/research/J1624/data/kastRED_J1624-3212_20200722.fits'\n",
    "#sblue=kastredux.readSpectrum(f, flux_unit=FUNITS)\n",
    "fr='/users/caganze/research/J1624/data/kastRED_J1624-3212_20210404.txt'\n",
    "sred=kastredux.readSpectrum(fr)"
   ]
  },
  {
   "cell_type": "code",
   "execution_count": 16,
   "metadata": {},
   "outputs": [],
   "source": [
    "#sblue.convertFlux(FUNITS)\n",
    "#sblue.convertWave(WUNITS)\n",
    "#sred.convertFlux(FUNITS)\n",
    "sred.convertWave(WUNITS)"
   ]
  },
  {
   "cell_type": "code",
   "execution_count": 17,
   "metadata": {},
   "outputs": [
    {
     "data": {
      "text/latex": [
       "$[0,~0,~0,~\\dots,~0,~0,~0] \\; \\mathrm{\\frac{erg}{\\mathring{A}\\,s\\,cm^{2}}}$"
      ],
      "text/plain": [
       "<Quantity [0., 0., 0., ..., 0., 0., 0.] erg / (Angstrom cm2 s)>"
      ]
     },
     "execution_count": 17,
     "metadata": {},
     "output_type": "execute_result"
    }
   ],
   "source": [
    "sred.flux"
   ]
  },
  {
   "cell_type": "code",
   "execution_count": 18,
   "metadata": {},
   "outputs": [],
   "source": [
    "#sred.flux.value.mean()/sblue.flux.value.mean()"
   ]
  },
  {
   "cell_type": "code",
   "execution_count": 19,
   "metadata": {},
   "outputs": [
    {
     "data": {
      "text/plain": [
       "('M5.0', 0.5)"
      ]
     },
     "execution_count": 19,
     "metadata": {},
     "output_type": "execute_result"
    },
    {
     "data": {
      "image/png": "[encoded data removed]",
      "text/plain": [
       "<Figure size 432x288 with 1 Axes>"
      ]
     },
     "metadata": {
      "needs_background": "light"
     },
     "output_type": "display_data"
    }
   ],
   "source": [
    "s.smooth(30)\n",
    "s.name='J1624'\n",
    "splat.classifyByStandard(s,plot=True,method='kirkpatrick',telluric=True, save=True,\n",
    "                         filename='/users/caganze/research/J1624/figures/J1624_nirclassif.pdf')"
   ]
  },
  {
   "cell_type": "code",
   "execution_count": 20,
   "metadata": {},
   "outputs": [],
   "source": [
    "#sblue0=splat.Spectrum(wave=sblue.wave, flux=sblue.flux, noise=sblue.variance**0.5)\n",
    "sred0=splat.Spectrum(wave=sred.wave, flux=sred.flux, noise=sred.variance**0.5)"
   ]
  },
  {
   "cell_type": "code",
   "execution_count": 21,
   "metadata": {},
   "outputs": [],
   "source": [
    "#sred.flux"
   ]
  },
  {
   "cell_type": "code",
   "execution_count": 22,
   "metadata": {},
   "outputs": [],
   "source": [
    "#plt.plot(s.wave, s.flux)"
   ]
  },
  {
   "cell_type": "code",
   "execution_count": 23,
   "metadata": {},
   "outputs": [],
   "source": [
    "#gravity classification\n",
    "#splat.classifyGravity(s, verbose=True) #doesn't work for <M6"
   ]
  },
  {
   "cell_type": "code",
   "execution_count": null,
   "metadata": {},
   "outputs": [],
   "source": []
  },
  {
   "cell_type": "code",
   "execution_count": 24,
   "metadata": {},
   "outputs": [],
   "source": [
    "#bkll"
   ]
  },
  {
   "cell_type": "code",
   "execution_count": 25,
   "metadata": {},
   "outputs": [],
   "source": [
    "#s.reset()"
   ]
  },
  {
   "cell_type": "code",
   "execution_count": null,
   "metadata": {},
   "outputs": [],
   "source": []
  },
  {
   "cell_type": "code",
   "execution_count": 26,
   "metadata": {},
   "outputs": [],
   "source": [
    "#s.fluxCalibrate()"
   ]
  },
  {
   "cell_type": "code",
   "execution_count": 27,
   "metadata": {},
   "outputs": [],
   "source": [
    "fold='/users/caganze/research/J1624/data/palomar_dbsp/'"
   ]
  },
  {
   "cell_type": "code",
   "execution_count": 28,
   "metadata": {},
   "outputs": [],
   "source": [
    "f0=fold+'w1624m3212_b.dat'\n",
    "f1=fold+'w1624m3212_r.dat'"
   ]
  },
  {
   "cell_type": "code",
   "execution_count": 29,
   "metadata": {},
   "outputs": [],
   "source": [
    "from astropy.io import ascii\n",
    "df0=ascii.read(f0).to_pandas()\n",
    "df1=ascii.read(f1).to_pandas()"
   ]
  },
  {
   "cell_type": "code",
   "execution_count": 30,
   "metadata": {},
   "outputs": [],
   "source": [
    "#create a mask array\n",
    "#arr0="
   ]
  },
  {
   "cell_type": "code",
   "execution_count": 31,
   "metadata": {},
   "outputs": [],
   "source": [
    "spal_blue=splat.Spectrum(wave=df0.col1.values/10000*u.micron, flux=df0.col2.values)\n",
    "spal_red=splat.Spectrum(wave=df1.col1.values/10000*u.micron, flux=df1.col2.values)\n",
    "sr=splat.Spectrum(wave=sred.wave, flux=sred.flux, noise=sred.variance**0.5)"
   ]
  },
  {
   "cell_type": "code",
   "execution_count": 32,
   "metadata": {},
   "outputs": [],
   "source": [
    "#spal_red.trim([0.57, 0.9])\n",
    "#sr.trim([0.57, 0.9])"
   ]
  },
  {
   "cell_type": "code",
   "execution_count": 33,
   "metadata": {},
   "outputs": [
    {
     "data": {
      "text/latex": [
       "$0.93239807 \\; \\mathrm{\\mu m}$"
      ],
      "text/plain": [
       "<Quantity 0.93239807 micron>"
      ]
     },
     "execution_count": 33,
     "metadata": {},
     "output_type": "execute_result"
    }
   ],
   "source": [
    "sr.wave.max()"
   ]
  },
  {
   "cell_type": "code",
   "execution_count": 34,
   "metadata": {},
   "outputs": [],
   "source": [
    "#spal_blue.fluxCalibrate('GAIA_G', 12.6265, apparent=True, notch=[0.])\n",
    "#spal_red.fluxCalibrate('Gaia_G', 12.6265)   \n",
    "sr.fluxCalibrate('Gaia_R',11.0375, notch=[0.58, 0.93 ])\n",
    "s.fluxCalibrate('MKO H', 8.470 )"
   ]
  },
  {
   "cell_type": "code",
   "execution_count": 35,
   "metadata": {},
   "outputs": [],
   "source": [
    "#!open  ~/research/splat/splat/core.py"
   ]
  },
  {
   "cell_type": "code",
   "execution_count": 36,
   "metadata": {},
   "outputs": [],
   "source": [
    "sr.fluxCalibrate?"
   ]
  },
  {
   "cell_type": "code",
   "execution_count": 37,
   "metadata": {},
   "outputs": [
    {
     "data": {
      "text/plain": [
       "(56.53682358233583, 2.1316282072803006e-14)"
      ]
     },
     "execution_count": 37,
     "metadata": {},
     "output_type": "execute_result"
    }
   ],
   "source": [
    "splat.filterMag(spal_red, 'PANSTARRS_G')\n"
   ]
  },
  {
   "cell_type": "code",
   "execution_count": 38,
   "metadata": {},
   "outputs": [
    {
     "data": {
      "text/plain": [
       "(11.037499999999998, 0.0053095185009120515)"
      ]
     },
     "execution_count": 38,
     "metadata": {},
     "output_type": "execute_result"
    }
   ],
   "source": [
    "splat.filterMag(sr,'PANSTARRS_G', notch=[0.58, 0.93 ])"
   ]
  },
  {
   "cell_type": "code",
   "execution_count": 39,
   "metadata": {},
   "outputs": [
    {
     "data": {
      "text/latex": [
       "$5.3699373 \\times 10^{-16} \\; \\mathrm{}$"
      ],
      "text/plain": [
       "<Quantity 5.36993734e-16>"
      ]
     },
     "execution_count": 39,
     "metadata": {},
     "output_type": "execute_result"
    }
   ],
   "source": [
    "spal_red.flux.max()/(sr.flux.max())"
   ]
  },
  {
   "cell_type": "code",
   "execution_count": 40,
   "metadata": {},
   "outputs": [
    {
     "data": {
      "text/plain": [
       "Text(0.5, 0, 'Wave (micron)')"
      ]
     },
     "execution_count": 40,
     "metadata": {},
     "output_type": "execute_result"
    },
    {
     "data": {
      "image/png": "[encoded data removed]",
      "text/plain": [
       "<Figure size 864x288 with 1 Axes>"
      ]
     },
     "metadata": {
      "needs_background": "light"
     },
     "output_type": "display_data"
    }
   ],
   "source": [
    "\n",
    "fig, ax=plt.subplots(figsize=(12, 4))\n",
    "#plt.plot(spal_red.wave, spal_red.flux/1e4)\n",
    "plt.plot(sr.wave, sr.flux)\n",
    "plt.plot(s.wave, s.flux)\n",
    "#plt.xlim([0.57, 1.0])\n",
    "#plt.ylim([5e-15, 3e-13])\n",
    "#plt.minorticks_on()\n",
    "#plt.yscale('log')\n",
    "\n",
    "#plt.xscale('log')\n",
    "plt.ylabel('Flux')\n",
    "plt.xlabel('Wave (micron)')"
   ]
  },
  {
   "cell_type": "code",
   "execution_count": 41,
   "metadata": {},
   "outputs": [],
   "source": [
    "total_wave=np.concatenate([sr.wave, s.wave]).value\n",
    "total_flux=np.concatenate([sr.flux, s.flux]).value\n",
    "total_noise=np.concatenate([sr.noise, s.noise]).value"
   ]
  },
  {
   "cell_type": "code",
   "execution_count": null,
   "metadata": {},
   "outputs": [],
   "source": []
  },
  {
   "cell_type": "code",
   "execution_count": 42,
   "metadata": {},
   "outputs": [],
   "source": [
    "mask= np.logical_or.reduce([ [total_wave < 0.6], \n",
    "                            [(total_wave > 0.54) & (total_wave <0.57)],\n",
    "                            [(total_wave > 0.9)& (total_wave <1.)],\n",
    "                          [(total_wave >1.350) & (total_wave<1.425)],\n",
    "                        [(total_wave >1.80) & (total_wave<1.92)],\n",
    "                        [total_wave > 2.45]])"
   ]
  },
  {
   "cell_type": "code",
   "execution_count": 43,
   "metadata": {},
   "outputs": [],
   "source": [
    "\n",
    "#createa a complete spectrun\n"
   ]
  },
  {
   "cell_type": "code",
   "execution_count": 44,
   "metadata": {},
   "outputs": [],
   "source": [
    "df=pd.DataFrame()\n",
    "df['wave (micron)']=total_wave\n",
    "df['flux (funits)']=total_flux\n",
    "df['mask']=mask.flatten()\n",
    "df['noise']=total_noise\n",
    "df.to_csv('/users/caganze/research/J1624/data/j1624_kast_nires.csv')"
   ]
  },
  {
   "cell_type": "code",
   "execution_count": 45,
   "metadata": {},
   "outputs": [
    {
     "data": {
      "text/plain": [
       "[<matplotlib.lines.Line2D at 0x7f82ae9b1820>]"
      ]
     },
     "execution_count": 45,
     "metadata": {},
     "output_type": "execute_result"
    },
    {
     "data": {
      "image/png": "[encoded data removed]",
      "text/plain": [
       "<Figure size 432x288 with 1 Axes>"
      ]
     },
     "metadata": {
      "needs_background": "light"
     },
     "output_type": "display_data"
    }
   ],
   "source": [
    "plt.plot(total_wave[~mask.flatten()], total_flux[~mask.flatten()])\n",
    "#plt.xlim([0.7, 0.9])\n",
    "#plt.yscale('log')\n",
    "#plt.xscale('log')\n",
    "\n",
    "#\\"
   ]
  },
  {
   "cell_type": "code",
   "execution_count": null,
   "metadata": {},
   "outputs": [],
   "source": []
  }
 ],
 "metadata": {
  "kernelspec": {
   "display_name": "Python 3",
   "language": "python",
   "name": "python3"
  },
  "language_info": {
   "codemirror_mode": {
    "name": "ipython",
    "version": 3
   },
   "file_extension": ".py",
   "mimetype": "text/x-python",
   "name": "python",
   "nbconvert_exporter": "python",
   "pygments_lexer": "ipython3",
   "version": "3.8.5"
  }
 },
 "nbformat": 4,
 "nbformat_minor": 4
}
