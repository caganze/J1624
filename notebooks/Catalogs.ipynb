{
 "cells": [
  {
   "cell_type": "code",
   "execution_count": 28,
   "metadata": {},
   "outputs": [],
   "source": [
    "import numpy as np\n",
    "import matplotlib.pyplot as plt\n",
    "import pandas as pd\n",
    "from astropy.io import ascii, fits\n",
    "from astroquery.vizier import Vizier\n",
    "from astropy.coordinates import SkyCoord\n",
    "import astropy.units as u\n",
    "from astropy.table import Table\n",
    "import splat\n",
    "%matplotlib inline"
   ]
  },
  {
   "cell_type": "code",
   "execution_count": 3,
   "metadata": {},
   "outputs": [],
   "source": [
    "DATA_FOLDER='/users/caganze/research/J1624/data/'\n",
    "FIG_FOLDER='/users/caganze/research/J1624/figures/'"
   ]
  },
  {
   "cell_type": "code",
   "execution_count": 4,
   "metadata": {},
   "outputs": [],
   "source": [
    "Vizier.ROW_LIMIT = -1 \n",
    "catalogs = Vizier.get_catalogs('J/AJ/157/231')"
   ]
  },
  {
   "cell_type": "code",
   "execution_count": 5,
   "metadata": {},
   "outputs": [],
   "source": [
    "#kiman=catalogs[0].to_pandas()\n",
    "kiman_master=Table(fits.open(DATA_FOLDER+'/MLSDSSGaiaDR2.fits')[1].data)"
   ]
  },
  {
   "cell_type": "code",
   "execution_count": 6,
   "metadata": {},
   "outputs": [],
   "source": [
    "keys0=[k for k in kiman_master.columns if k not in  ['PSFMAG', 'PSFMAG_ERR', 'EXTINCTION', 'MAG_2MASS', 'MAG_ERR_2MASS']]\n",
    "kiman=kiman_master[keys0].to_pandas()"
   ]
  },
  {
   "cell_type": "code",
   "execution_count": 7,
   "metadata": {},
   "outputs": [],
   "source": [
    "lateMs=pd.read_excel(DATA_FOLDER+'/UCD_lateM_dwarf_precision_RV_20pc_thin_disk_population.xlsx')"
   ]
  },
  {
   "cell_type": "code",
   "execution_count": 8,
   "metadata": {},
   "outputs": [],
   "source": [
    "cth=Table(fits.open(DATA_FOLDER+'/DR7_TOT_6_1.fits')[1].data)"
   ]
  },
  {
   "cell_type": "code",
   "execution_count": 9,
   "metadata": {},
   "outputs": [],
   "source": [
    "keys=[k for k in cth.columns if k not in  ['PSFMAG', 'PSFMAGERR', 'EXTINCTION']]"
   ]
  },
  {
   "cell_type": "code",
   "execution_count": 10,
   "metadata": {},
   "outputs": [],
   "source": [
    "theissen=cth[keys].to_pandas()"
   ]
  },
  {
   "cell_type": "code",
   "execution_count": 11,
   "metadata": {},
   "outputs": [],
   "source": [
    "merged=pd.merge(theissen, kiman,  how='left', on=['MJD', 'FIBER', 'PLATE'],  validate='one_to_one')"
   ]
  },
  {
   "cell_type": "code",
   "execution_count": 12,
   "metadata": {},
   "outputs": [
    {
     "data": {
      "text/plain": [
       "(70840, 74216, 70840)"
      ]
     },
     "execution_count": 12,
     "metadata": {},
     "output_type": "execute_result"
    }
   ],
   "source": [
    "len(merged), len(kiman), len(theissen)"
   ]
  },
  {
   "cell_type": "code",
   "execution_count": 13,
   "metadata": {},
   "outputs": [],
   "source": [
    "#merged.EWHA_x"
   ]
  },
  {
   "cell_type": "code",
   "execution_count": 14,
   "metadata": {},
   "outputs": [
    {
     "data": {
      "text/plain": [
       "[<matplotlib.lines.Line2D at 0x7fac6341c310>]"
      ]
     },
     "execution_count": 14,
     "metadata": {},
     "output_type": "execute_result"
    },
    {
     "data": {
      "image/png": "[encoded data removed]",
      "text/plain": [
       "<Figure size 432x288 with 1 Axes>"
      ]
     },
     "metadata": {
      "needs_background": "light"
     },
     "output_type": "display_data"
    }
   ],
   "source": [
    "plt.plot(merged.RA_x, merged.RA_y)\n",
    "plt.plot(merged.DEC_x, merged.DEC_y)"
   ]
  },
  {
   "cell_type": "code",
   "execution_count": 15,
   "metadata": {},
   "outputs": [],
   "source": [
    "#merged.to_hdf(DATA_FOLDER+'/merged_Mdwarfs.h5', key='merged')"
   ]
  },
  {
   "cell_type": "code",
   "execution_count": 18,
   "metadata": {},
   "outputs": [],
   "source": [
    "gcs=Vizier.get_catalogs('J/A+A/530/A138')"
   ]
  },
  {
   "cell_type": "code",
   "execution_count": 20,
   "metadata": {},
   "outputs": [
    {
     "data": {
      "text/html": [
       "<i>Table length=16682</i>\n",
       "<table id=\"table140379146298464\" class=\"table-striped table-bordered table-condensed\">\n",
       "<thead><tr><th>Name</th><th>m_Name</th><th>H09</th><th>logg</th><th>Teff</th><th>Fbol</th><th>__Fe_H_</th><th>__a_Fe_</th><th>RAJ2000</th><th>DEJ2000</th><th>RV</th><th>ageMLP</th><th>M.MLP</th><th>SimbadName</th></tr></thead>\n",
       "<thead><tr><th></th><th></th><th></th><th>[cm/s2]</th><th>K</th><th>mW / m2</th><th>[Sun]</th><th>[Sun]</th><th>&quot;h:m:s&quot;</th><th>&quot;d:m:s&quot;</th><th>km / s</th><th>Gyr</th><th>Msun</th><th></th></tr></thead>\n",
       "<thead><tr><th>bytes12</th><th>bytes4</th><th>bytes3</th><th>float32</th><th>float32</th><th>float32</th><th>float32</th><th>float32</th><th>bytes10</th><th>bytes9</th><th>float32</th><th>float32</th><th>float32</th><th>bytes22</th></tr></thead>\n",
       "<tr><td>HD 23</td><td></td><td>H09</td><td>4.44</td><td>6203.0</td><td>2.72e-08</td><td>-0.07</td><td>0.01</td><td>00 05 07.4</td><td>-52 09 06</td><td>34.3</td><td>0.00</td><td>1.13</td><td>HD 23</td></tr>\n",
       "<tr><td>HD 67</td><td></td><td>H09</td><td>4.58</td><td>5746.0</td><td>8.285e-09</td><td>-0.09</td><td>0.07</td><td>00 05 28.4</td><td>-61 13 33</td><td>6.3</td><td>0.10</td><td>0.98</td><td>HD 67</td></tr>\n",
       "<tr><td>HD 101</td><td></td><td>H09</td><td>4.41</td><td>5957.0</td><td>2.831e-08</td><td>-0.24</td><td>0.14</td><td>00 05 54.7</td><td>+18 14 06</td><td>-45.6</td><td>2.20</td><td>1.04</td><td>HD 101</td></tr>\n",
       "<tr><td>HD 105</td><td></td><td>H09</td><td>4.43</td><td>6035.0</td><td>2.641e-08</td><td>-0.18</td><td>0.09</td><td>00 05 52.5</td><td>-41 45 11</td><td>1.6</td><td>0.20</td><td>1.07</td><td>HD 105</td></tr>\n",
       "<tr><td>HD 153</td><td></td><td>H09</td><td>3.91</td><td>5869.0</td><td>1.224e-08</td><td>0.08</td><td>-0.02</td><td>00 06 26.0</td><td>+42 45 09</td><td>-31.8</td><td>3.80</td><td>1.22</td><td>HD 153</td></tr>\n",
       "<tr><td>HD 156</td><td></td><td>H09</td><td>3.70</td><td>6730.0</td><td>2.965e-08</td><td>0.25</td><td>-0.15</td><td>00 06 24.9</td><td>-18 02 17</td><td>13.6</td><td>1.20</td><td>1.89</td><td>HD 156</td></tr>\n",
       "<tr><td>HD 189</td><td></td><td>H09</td><td>3.79</td><td>6374.0</td><td>1.041e-08</td><td>0.13</td><td>-0.07</td><td>00 06 39.5</td><td>-24 37 15</td><td>7.6</td><td>2.10</td><td>1.55</td><td>HD 189</td></tr>\n",
       "<tr><td>HD 200</td><td></td><td>H09</td><td>3.87</td><td>5998.0</td><td>1.404e-08</td><td>-0.21</td><td>0.10</td><td>00 06 46.9</td><td>-04 21 00</td><td>-0.2</td><td>3.50</td><td>1.23</td><td>HD 200</td></tr>\n",
       "<tr><td>HD 203</td><td></td><td>H09</td><td>4.27</td><td>6883.0</td><td>8.661e-08</td><td>-0.09</td><td>0.02</td><td>00 06 50.0</td><td>-23 06 27</td><td>6.5</td><td>0.60</td><td>1.40</td><td>HD 203</td></tr>\n",
       "<tr><td>...</td><td>...</td><td>...</td><td>...</td><td>...</td><td>...</td><td>...</td><td>...</td><td>...</td><td>...</td><td>...</td><td>...</td><td>...</td><td>...</td></tr>\n",
       "<tr><td>HD 99827</td><td>AB</td><td>H09</td><td>4.04</td><td>6551.0</td><td>2.401e-08</td><td>-0.07</td><td>0.02</td><td>11 25 17.7</td><td>-84 57 16</td><td>21.1</td><td>2.20</td><td>1.41</td><td>HD 99827</td></tr>\n",
       "<tr><td>HD 99832</td><td>AB</td><td>H09</td><td>4.01</td><td>6322.0</td><td>3.589e-08</td><td>-0.25</td><td>0.09</td><td>11 29 18.8</td><td>+30 25 28</td><td>-18.4</td><td>3.20</td><td>1.30</td><td>HD 99832</td></tr>\n",
       "<tr><td>HD 99865</td><td>AB</td><td>H09</td><td>4.23</td><td>6389.0</td><td>3.025e-08</td><td>0.19</td><td>-0.08</td><td>11 29 14.4</td><td>-04 27 05</td><td>6.5</td><td>2.10</td><td>1.31</td><td>HD 99865</td></tr>\n",
       "<tr><td>HD 99904</td><td></td><td>H09</td><td>3.74</td><td>6414.0</td><td>5.371e-08</td><td>0.24</td><td>-0.10</td><td>11 29 39.9</td><td>+07 35 57</td><td>1.2</td><td>1.60</td><td>1.73</td><td>HD 99904</td></tr>\n",
       "<tr><td>HD 9992</td><td>AB</td><td>H09</td><td>--</td><td>5765.0</td><td>2.492e-09</td><td>0.34</td><td>-0.07</td><td>01 36 10.5</td><td>-57 31 05</td><td>--</td><td>--</td><td>--</td><td>HD 9992</td></tr>\n",
       "<tr><td>HD 99928</td><td></td><td>H09</td><td>3.73</td><td>6928.0</td><td>1.173e-08</td><td>-0.26</td><td>-0.12</td><td>11 30 01.5</td><td>+42 39 41</td><td>--</td><td>1.70</td><td>1.60</td><td>HD 99928</td></tr>\n",
       "<tr><td>HD 99934</td><td></td><td>H09</td><td>3.13</td><td>6229.0</td><td>4.088e-08</td><td>0.51</td><td>-0.15</td><td>11 29 45.3</td><td>-25 00 07</td><td>-11.0</td><td>0.70</td><td>2.48</td><td>HD 99934</td></tr>\n",
       "<tr><td>HD 99946</td><td>A</td><td>H09</td><td>4.70</td><td>5806.0</td><td>4.917e-09</td><td>-0.23</td><td>-0.02</td><td>11 30 04.3</td><td>+29 57 52</td><td>-17.0</td><td>3.10</td><td>1.38</td><td>HD 99946</td></tr>\n",
       "<tr><td>HD 9998</td><td></td><td>H09</td><td>--</td><td>6343.0</td><td>1.041e-08</td><td>0.16</td><td>-0.08</td><td>01 37 58.9</td><td>+22 42 57</td><td>9.7</td><td>--</td><td>--</td><td>HD 9998</td></tr>\n",
       "<tr><td>HD 99984</td><td></td><td>H09</td><td>3.73</td><td>6215.0</td><td>1.171e-07</td><td>-0.07</td><td>0.00</td><td>11 30 31.1</td><td>+43 10 23</td><td>-32.7</td><td>2.20</td><td>1.60</td><td>HD 99984</td></tr>\n",
       "</table>"
      ],
      "text/plain": [
       "<Table length=16682>\n",
       "  Name   m_Name  H09     logg    Teff  ...    RV    ageMLP  M.MLP  SimbadName\n",
       "                       [cm/s2]    K    ...  km / s   Gyr     Msun            \n",
       "bytes12  bytes4 bytes3 float32 float32 ... float32 float32 float32  bytes22  \n",
       "-------- ------ ------ ------- ------- ... ------- ------- ------- ----------\n",
       "   HD 23           H09    4.44  6203.0 ...    34.3    0.00    1.13      HD 23\n",
       "   HD 67           H09    4.58  5746.0 ...     6.3    0.10    0.98      HD 67\n",
       "  HD 101           H09    4.41  5957.0 ...   -45.6    2.20    1.04     HD 101\n",
       "  HD 105           H09    4.43  6035.0 ...     1.6    0.20    1.07     HD 105\n",
       "  HD 153           H09    3.91  5869.0 ...   -31.8    3.80    1.22     HD 153\n",
       "  HD 156           H09    3.70  6730.0 ...    13.6    1.20    1.89     HD 156\n",
       "  HD 189           H09    3.79  6374.0 ...     7.6    2.10    1.55     HD 189\n",
       "  HD 200           H09    3.87  5998.0 ...    -0.2    3.50    1.23     HD 200\n",
       "  HD 203           H09    4.27  6883.0 ...     6.5    0.60    1.40     HD 203\n",
       "     ...    ...    ...     ...     ... ...     ...     ...     ...        ...\n",
       "HD 99827     AB    H09    4.04  6551.0 ...    21.1    2.20    1.41   HD 99827\n",
       "HD 99832     AB    H09    4.01  6322.0 ...   -18.4    3.20    1.30   HD 99832\n",
       "HD 99865     AB    H09    4.23  6389.0 ...     6.5    2.10    1.31   HD 99865\n",
       "HD 99904           H09    3.74  6414.0 ...     1.2    1.60    1.73   HD 99904\n",
       " HD 9992     AB    H09      --  5765.0 ...      --      --      --    HD 9992\n",
       "HD 99928           H09    3.73  6928.0 ...      --    1.70    1.60   HD 99928\n",
       "HD 99934           H09    3.13  6229.0 ...   -11.0    0.70    2.48   HD 99934\n",
       "HD 99946      A    H09    4.70  5806.0 ...   -17.0    3.10    1.38   HD 99946\n",
       " HD 9998           H09      --  6343.0 ...     9.7      --      --    HD 9998\n",
       "HD 99984           H09    3.73  6215.0 ...   -32.7    2.20    1.60   HD 99984"
      ]
     },
     "execution_count": 20,
     "metadata": {},
     "output_type": "execute_result"
    }
   ],
   "source": [
    "#cross-match with merged\n",
    "\n",
    "gcs[0]"
   ]
  },
  {
   "cell_type": "code",
   "execution_count": 35,
   "metadata": {},
   "outputs": [],
   "source": [
    "\n",
    "coo_gcs = SkyCoord(gcs[0]['RAJ2000'], gcs[0]['DEJ2000'], unit=(u.hourangle, u.deg), obstime=\"J2000\")\n",
    "coo_gaia = SkyCoord(merged.RA_x.values*u.deg, merged.DEC_x.values*u.deg, obstime='J2000')\n"
   ]
  },
  {
   "cell_type": "code",
   "execution_count": 43,
   "metadata": {},
   "outputs": [],
   "source": [
    "#coo_gcs.ra"
   ]
  },
  {
   "cell_type": "code",
   "execution_count": 37,
   "metadata": {},
   "outputs": [],
   "source": [
    "#SkyCoord?"
   ]
  },
  {
   "cell_type": "code",
   "execution_count": 39,
   "metadata": {},
   "outputs": [],
   "source": [
    "idx_sdss, d2d_sdss, d3d_sdss = coo_gaia.match_to_catalog_sky(coo_gcs)\n"
   ]
  },
  {
   "cell_type": "code",
   "execution_count": 44,
   "metadata": {},
   "outputs": [
    {
     "data": {
      "text/plain": [
       "array([2151.21145783, 3883.25587144, 4538.91055976, ..., 2454.37143347,\n",
       "       2229.30058331, 2352.76497348])"
      ]
     },
     "execution_count": 44,
     "metadata": {},
     "output_type": "execute_result"
    }
   ],
   "source": [
    "d2d_sdss.arcsec"
   ]
  },
  {
   "cell_type": "code",
   "execution_count": 46,
   "metadata": {},
   "outputs": [
    {
     "data": {
      "image/png": "[encoded data removed]",
      "text/plain": [
       "<Figure size 432x288 with 1 Axes>"
      ]
     },
     "metadata": {
      "needs_background": "light"
     },
     "output_type": "display_data"
    }
   ],
   "source": [
    "plt.hist(d2d_sdss.arcsec, histtype='step', range=(0,100))\n",
    "plt.xlabel('separation [arcsec]')\n",
    "plt.tight_layout()"
   ]
  },
  {
   "cell_type": "code",
   "execution_count": 49,
   "metadata": {},
   "outputs": [
    {
     "data": {
      "text/plain": [
       "(array([  16.,   87.,  231.,  746., 1368., 2443., 3674., 4202., 3142.,\n",
       "         728.]),\n",
       " array([4033. , 4355.5, 4678. , 5000.5, 5323. , 5645.5, 5968. , 6290.5,\n",
       "        6613. , 6935.5, 7258. ], dtype=float32),\n",
       " <BarContainer object of 10 artists>)"
      ]
     },
     "execution_count": 49,
     "metadata": {},
     "output_type": "execute_result"
    },
    {
     "data": {
      "image/png": "[encoded data removed]",
      "text/plain": [
       "<Figure size 432x288 with 1 Axes>"
      ]
     },
     "metadata": {
      "needs_background": "light"
     },
     "output_type": "display_data"
    }
   ],
   "source": [
    "#cross-match with merged\n",
    "\n",
    "plt.hist(gcs[0]['Teff'], range=(300))"
   ]
  },
  {
   "cell_type": "code",
   "execution_count": 53,
   "metadata": {},
   "outputs": [],
   "source": [
    "gcs[0].to_pandas().to_csv(DATA_FOLDER+'/gcs_catalog.csv')"
   ]
  },
  {
   "cell_type": "code",
   "execution_count": 55,
   "metadata": {},
   "outputs": [
    {
     "data": {
      "text/plain": [
       "'/users/caganze/research/J1624/data//gcs_catalog.csv'"
      ]
     },
     "execution_count": 55,
     "metadata": {},
     "output_type": "execute_result"
    }
   ],
   "source": [
    "DATA_FOLDER+'/gcs_catalog.csv'"
   ]
  },
  {
   "cell_type": "code",
   "execution_count": null,
   "metadata": {},
   "outputs": [],
   "source": []
  }
 ],
 "metadata": {
  "kernelspec": {
   "display_name": "Python 3",
   "language": "python",
   "name": "python3"
  },
  "language_info": {
   "codemirror_mode": {
    "name": "ipython",
    "version": 3
   },
   "file_extension": ".py",
   "mimetype": "text/x-python",
   "name": "python",
   "nbconvert_exporter": "python",
   "pygments_lexer": "ipython3",
   "version": "3.8.5"
  }
 },
 "nbformat": 4,
 "nbformat_minor": 4
}
