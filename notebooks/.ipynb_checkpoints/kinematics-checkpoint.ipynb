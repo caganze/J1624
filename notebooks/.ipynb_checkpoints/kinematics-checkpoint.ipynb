{
 "cells": [
  {
   "cell_type": "code",
   "execution_count": 2,
   "metadata": {},
   "outputs": [
    {
     "name": "stdout",
     "output_type": "stream",
     "text": [
      "Adding 145 sources from /Users/caganze/research/splat//resources/Spectra/Public/LRIS-RED/ to spectral database\n",
      "Adding 2404 sources from /Users/caganze/research/splat//resources/Spectra/Public/SPEX-PRISM/ to spectral database\n",
      "Adding 89 sources from /Users/caganze/research/splat//resources/Spectra/Public/MAGE/ to spectral database\n"
     ]
    }
   ],
   "source": [
    "import pandas as pd\n",
    "from astropy.io import fits\n",
    "import numpy as np\n",
    "import matplotlib.pyplot as plt\n",
    "import splat\n",
    "import numpy\n",
    "import astropy.units as u\n",
    "from astropy import constants as const \n",
    "import copy\n",
    "from scipy.integrate import trapz        # for numerical integration\n",
    "from scipy.interpolate import interp1d\n",
    "from astropy.coordinates import SkyCoord\n",
    "import pandas as pd\n",
    "%matplotlib inline"
   ]
  },
  {
   "cell_type": "code",
   "execution_count": 4,
   "metadata": {},
   "outputs": [],
   "source": [
    "DATA_FOLDER='/users/caganze/research/J1624/data/'"
   ]
  },
  {
   "cell_type": "code",
   "execution_count": 5,
   "metadata": {},
   "outputs": [],
   "source": [
    "#nearby M dwarfs\n",
    "df=pd.read_excel(DATA_FOLDER+'UCD_lateM_dwarf_precision_RV_20pc_thin_disk_population.xlsx')"
   ]
  },
  {
   "cell_type": "code",
   "execution_count": 6,
   "metadata": {},
   "outputs": [],
   "source": [
    "def proper_motion_to_uvw(coord, mu_alpha, mu_delta, rv):\n",
    "    #coord is a skycoord object\n",
    "    #v is the velocity vector\n",
    "    v=np.array([rv, mu_alpha, mu_delta])\n",
    "    a, b= coord.icrs.ra.radian, coord.icrs.dec.radian\n",
    "    T=np.matrix([[-0.06699, -0.87276, -0.48354],\n",
    "    [0.49273, -0.45035, 0.74458],\n",
    "    [-0.86760, -0.18837,0.46020]])\n",
    "\n",
    "    A=np.matrix([[np.cos(a)*np.cos(b), -np.sin(a), -np.cos(a)*np.sin(b)],\n",
    "       [np.sin(a)*np.cos(b) ,np.cos(a), -np.sin(a)*np.cos(b)],\n",
    "       [np.sin(b), 0,np.cos(b)]])\n",
    "    B= A @ T\n",
    "    \n",
    "    return B@v\n",
    "\n",
    "\n",
    "def likelihood(vel, age):\n",
    "    sigma= np.random.normal(vel, )\n",
    "    return \n"
   ]
  },
  {
   "cell_type": "code",
   "execution_count": 8,
   "metadata": {},
   "outputs": [],
   "source": [
    "coord=SkyCoord(ra=246.0684208*u.deg, dec=-32.2037824*u.deg)\n",
    "rv_unc=0.13\n",
    "\n",
    "rvs=np.random.normal(0.3, 0.13, 1000)\n",
    "\n",
    "ms=np.array([proper_motion_to_uv\n",
    "             w(coord, x, -25.81/100, -185.78) for x in rvs])"
   ]
  },
  {
   "cell_type": "code",
   "execution_count": null,
   "metadata": {},
   "outputs": [],
   "source": [
    "m, mer=np.nanmedian(ms, axis=0), np.nanstd(ms, axis=0)\n"
   ]
  },
  {
   "cell_type": "code",
   "execution_count": null,
   "metadata": {},
   "outputs": [],
   "source": [
    "#kiman catalog\n",
    "#kiman catalog\n",
    "data=pd.read_hdf(DATA_FOLDER+'/merged_Mdwarfs.h5', key='merged')"
   ]
  },
  {
   "cell_type": "code",
   "execution_count": null,
   "metadata": {},
   "outputs": [],
   "source": [
    "fig, ax=plt.subplots()\n",
    "\n",
    "plt.scatter(df.V, (df.U**2+df.W**2)**0.5)\n",
    "plt.scatter()"
   ]
  },
  {
   "cell_type": "code",
   "execution_count": null,
   "metadata": {},
   "outputs": [],
   "source": [
    "m-220"
   ]
  },
  {
   "cell_type": "code",
   "execution_count": null,
   "metadata": {},
   "outputs": [],
   "source": []
  }
 ],
 "metadata": {
  "kernelspec": {
   "display_name": "Python 3",
   "language": "python",
   "name": "python3"
  },
  "language_info": {
   "codemirror_mode": {
    "name": "ipython",
    "version": 3
   },
   "file_extension": ".py",
   "mimetype": "text/x-python",
   "name": "python",
   "nbconvert_exporter": "python",
   "pygments_lexer": "ipython3",
   "version": "3.8.5"
  }
 },
 "nbformat": 4,
 "nbformat_minor": 4
}
