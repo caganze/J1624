{
 "cells": [
  {
   "cell_type": "code",
   "execution_count": null,
   "metadata": {},
   "outputs": [],
   "source": [
    "%matplotlib inline\n",
    "import splat\n",
    "import splat.database as spd\n",
    "import splat.plot as splot\n",
    "import splat.empirical as spem\n",
    "import pandas\n",
    "import numpy\n",
    "from scipy.interpolate import interp1d\n",
    "from scipy.stats import norm\n",
    "import matplotlib.pyplot as plt\n",
    "import matplotlib.patches as patches\n",
    "import astropy.constants as constants\n",
    "import astropy.units as u\n",
    "from astropy.io import ascii, fits            # for reading in spreadsheet\n",
    "bfold = '/Users/adam/papers/toi2406/'\n",
    "sxdfile = bfold+'spex-sxd_TOI212957629_20201203.fits'\n"
   ]
  },
  {
   "cell_type": "code",
   "execution_count": null,
   "metadata": {},
   "outputs": [],
   "source": [
    "def readsxd(file,output='1dspec',name='',**kwargs):\n",
    "    funit = u.erg/u.s/u.cm/u.cm/u.Angstrom\n",
    "    wunit = u.micron\n",
    "    xrngs = [[1.95,2.47],[1.43,1.81],[1.1,1.5],[0.92,1.2],[0.83,1.02],[0.735,0.93],[0.7,0.8]]\n",
    "    with fits.open(file, **kwargs) as hdulist:\n",
    "        header = hdulist[0].header\n",
    "        meta = {'header': header}\n",
    "        data = hdulist[0].data\n",
    "    spec = []\n",
    "    orders = header['ORDERS'].split(',')\n",
    "    for i in range(len(data[:,0,0])):\n",
    "        sp = splat.Spectrum(wave=data[i,0,:]*wunit,flux=data[i,1,:]*funit,noise=data[i,2,:]*funit,header=header,instrument='SPEX-SXD',name='{} order {}'.format(name,orders[i]))\n",
    "        sp.trim(xrngs[i])\n",
    "        spec.append(sp)\n",
    "        \n",
    "    if output=='multispec': return spec\n",
    "    elif output=='1dspec':\n",
    "        spc = spec[0]\n",
    "        for s in spec[1:]: spc = splat.stitch(spc,s,scale=False)\n",
    "        spc.name=name\n",
    "        return spc\n",
    "        \n",
    "    else: return data\n",
    "\n"
   ]
  },
  {
   "cell_type": "code",
   "execution_count": null,
   "metadata": {},
   "outputs": [],
   "source": [
    "xrng = [0.83,1.02]\n",
    "s = readsxd(sxdfile,name='TOI-2406',output='1dspec')\n",
    "s.plot(yrange=[-1.e-16,5.e-15])"
   ]
  },
  {
   "cell_type": "code",
   "execution_count": null,
   "metadata": {},
   "outputs": [],
   "source": [
    "for r in ['rojas','terrien','mann13','mann14','newton']:\n",
    "    spem.metallicity(s,ref=r,verbose=True)"
   ]
  },
  {
   "cell_type": "code",
   "execution_count": null,
   "metadata": {},
   "outputs": [],
   "source": [
    "# classify smoothed spectrum\n",
    "s.reset()\n",
    "s.smooth(30)\n",
    "s.name='TOI-2406'\n",
    "splat.classifyByStandard(s,plot=True,method='kirkpatrick',telluric=True)"
   ]
  },
  {
   "cell_type": "code",
   "execution_count": null,
   "metadata": {},
   "outputs": [],
   "source": [
    "splat.searchLibrary(back=True)"
   ]
  },
  {
   "cell_type": "code",
   "execution_count": 4,
   "metadata": {},
   "outputs": [
    {
     "data": {
      "text/plain": [
       "(5.949999999999999, 0.05)"
      ]
     },
     "execution_count": 4,
     "metadata": {},
     "output_type": "execute_result"
    }
   ],
   "source": [
    "import splat.empirical as spem\n",
    "spem.typeToColor('M6','PANSTARRS_R-2MASS_K',set='best')"
   ]
  },
  {
   "cell_type": "code",
   "execution_count": null,
   "metadata": {},
   "outputs": [],
   "source": []
  },
  {
   "cell_type": "code",
   "execution_count": null,
   "metadata": {},
   "outputs": [],
   "source": [
    "a = [4,5,6]\n",
    "a.index(5)"
   ]
  },
  {
   "cell_type": "code",
   "execution_count": null,
   "metadata": {},
   "outputs": [],
   "source": []
  }
 ],
 "metadata": {
  "anaconda-cloud": {},
  "kernelspec": {
   "display_name": "Python 3",
   "language": "python",
   "name": "python3"
  },
  "language_info": {
   "codemirror_mode": {
    "name": "ipython",
    "version": 3
   },
   "file_extension": ".py",
   "mimetype": "text/x-python",
   "name": "python",
   "nbconvert_exporter": "python",
   "pygments_lexer": "ipython3",
   "version": "3.7.7"
  }
 },
 "nbformat": 4,
 "nbformat_minor": 1
}
