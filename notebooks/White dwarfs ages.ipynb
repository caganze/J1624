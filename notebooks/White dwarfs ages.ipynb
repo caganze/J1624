{
 "cells": [
  {
   "cell_type": "code",
   "execution_count": 1,
   "metadata": {},
   "outputs": [],
   "source": [
    "import numpy as np\n",
    "import matplotlib.pyplot as plt\n",
    "import pandas as pd\n",
    "from astropy.io import ascii, fits\n",
    "from astroquery.vizier import Vizier\n",
    "from astropy.coordinates import SkyCoord\n",
    "import astropy.units as u\n",
    "from astropy.table import Table\n",
    "from astropy.coordinates import Angle\n",
    "#import splat\n",
    "%matplotlib inline"
   ]
  },
  {
   "cell_type": "code",
   "execution_count": 48,
   "metadata": {},
   "outputs": [],
   "source": [
    "#40 pc sample\n",
    "#: J/MNRAS/499/1890\n",
    "\n",
    "#white dwars within 21pc\n",
    "#J/MNRAS/449/3966\n",
    "\n",
    "Vizier.ROW_LIMIT = -1 \n",
    "catalogs = Vizier.get_catalogs('J/MNRAS/449/3966')\n",
    "catalogs1 = Vizier.get_catalogs('J/MNRAS/499/1890')\n",
    "#catalogs2="
   ]
  },
  {
   "cell_type": "code",
   "execution_count": 58,
   "metadata": {},
   "outputs": [
    {
     "data": {
      "text/html": [
       "<i>Table length=113</i>\n",
       "<table id=\"table140730929542192\" class=\"table-striped table-bordered table-condensed\">\n",
       "<thead><tr><th>System</th><th>WDJ</th><th>GaiaDR2</th><th>RA_ICRS</th><th>DE_ICRS</th><th>pmRA</th><th>pmDE</th><th>skySep</th><th>radSep</th><th>deltapm1</th><th>deltapm2</th><th>Type</th><th>Note</th><th>SimbadName</th><th>_RA.icrs</th><th>_DE.icrs</th></tr></thead>\n",
       "<thead><tr><th></th><th></th><th></th><th>deg</th><th>deg</th><th>mas / yr</th><th>mas / yr</th><th>pc</th><th>pc</th><th>mas / yr</th><th>km / s</th><th></th><th></th><th></th><th>deg</th><th>deg</th></tr></thead>\n",
       "<thead><tr><th>int16</th><th>str22</th><th>int64</th><th>float64</th><th>float64</th><th>float64</th><th>float64</th><th>float64</th><th>float32</th><th>float64</th><th>float32</th><th>str6</th><th>str3</th><th>str28</th><th>float64</th><th>float64</th></tr></thead>\n",
       "<tr><td>0</td><td>WDJ001324.45+543757.64</td><td>420531621029108608</td><td>3.35766666667</td><td>54.63526111111</td><td>776.760</td><td>600.137</td><td>--</td><td>--</td><td>--</td><td>--</td><td>WDMS</td><td>1</td><td>Gaia DR2  420531621029108608</td><td>3.35188869540</td><td>54.63267705041</td></tr>\n",
       "<tr><td>0</td><td>STAR</td><td>420542276842182784</td><td>3.20145833333</td><td>54.66521944444</td><td>777.205</td><td>603.789</td><td>0.0535000003874302</td><td>0.1039</td><td>3.700</td><td>0.560</td><td>WDMS</td><td>1</td><td>Gaia DR2  420542276842182784</td><td>3.19567279149</td><td>54.66261965954</td></tr>\n",
       "<tr><td>1</td><td>WDJ002116.21+253134.45</td><td>2855386170682263424</td><td>5.31779166667</td><td>25.52627222222</td><td>53.100</td><td>8.399</td><td>--</td><td>--</td><td>--</td><td>--</td><td>WDMS</td><td>1</td><td>Gaia DR2 2855386170682263424</td><td>5.31753831114</td><td>25.52623605964</td></tr>\n",
       "<tr><td>1</td><td>STAR</td><td>2855386174976559488</td><td>5.31695833333</td><td>25.52429722222</td><td>50.958</td><td>9.547</td><td>0.00100000004749745</td><td>0.0795</td><td>2.400</td><td>0.320</td><td>WDMS</td><td>1</td><td>Gaia DR2 2855386174976559488</td><td>5.31671520192</td><td>25.52425611688</td></tr>\n",
       "<tr><td>2</td><td>WDJ002450.37+683446.85</td><td>529594417061837824</td><td>6.21470833333</td><td>68.57978055556</td><td>411.626</td><td>23.072</td><td>--</td><td>--</td><td>--</td><td>--</td><td>WDMS</td><td></td><td>Gaia DR2  529594417061837824</td><td>6.20985552687</td><td>68.57968114791</td></tr>\n",
       "<tr><td>2</td><td>STAR</td><td>529594417069407744</td><td>6.21408333333</td><td>68.57851388889</td><td>409.790</td><td>31.157</td><td>0.0007999999797903</td><td>0.5473</td><td>8.300</td><td>1.420</td><td>WDMS</td><td></td><td>Gaia DR2  529594417069407744</td><td>6.20925245184</td><td>68.57837967145</td></tr>\n",
       "<tr><td>3</td><td>WDJ004122.04+555008.35</td><td>418491412783587200</td><td>10.34425000000</td><td>55.83535000000</td><td>316.387</td><td>-69.999</td><td>--</td><td>--</td><td>--</td><td>--</td><td>WDMS</td><td>1</td><td>Gaia DR2  418491412783587200</td><td>10.34182425588</td><td>55.83565136072</td></tr>\n",
       "<tr><td>3</td><td>STAR</td><td>418491408481398272</td><td>10.33929166667</td><td>55.83424444444</td><td>324.503</td><td>-73.233</td><td>0.00120000005699694</td><td>0.1162</td><td>8.700</td><td>0.950</td><td>WDMS</td><td>1</td><td>Gaia DR2  418491408481398272</td><td>10.33680376689</td><td>55.83455972810</td></tr>\n",
       "<tr><td>4</td><td>WDJ010457.96+212017.54</td><td>2790494850219788160</td><td>16.24050000000</td><td>21.33631944444</td><td>-208.347</td><td>-438.263</td><td>0.00439999997615814</td><td>0.2822</td><td>8.500</td><td>1.300</td><td>WDWD</td><td>1</td><td>Gaia DR2 2790494850219788160</td><td>16.24146306913</td><td>21.33820640739</td></tr>\n",
       "<tr><td>...</td><td>...</td><td>...</td><td>...</td><td>...</td><td>...</td><td>...</td><td>...</td><td>...</td><td>...</td><td>...</td><td>...</td><td>...</td><td>...</td><td>...</td><td>...</td></tr>\n",
       "<tr><td>51</td><td>WDJ223418.83+145654.42</td><td>2733055335904034432</td><td>338.57908333333</td><td>14.94830833333</td><td>133.593</td><td>-32.433</td><td>--</td><td>--</td><td>--</td><td>--</td><td>WDMS</td><td>1</td><td>Gaia DR2 2733055335904034432</td><td>338.57848799396</td><td>14.94844797465</td></tr>\n",
       "<tr><td>51</td><td>STAR</td><td>2733058393920750080</td><td>338.58341666667</td><td>14.96596111111</td><td>133.833</td><td>-30.856</td><td>0.0107000004500151</td><td>0.0130</td><td>1.600</td><td>0.260</td><td>WDMS</td><td>1</td><td>Gaia DR2 2733058393920750080</td><td>338.58282020869</td><td>14.96609396256</td></tr>\n",
       "<tr><td>52</td><td>WDJ225338.11+813039.98</td><td>2286958798223194624</td><td>343.41475000000</td><td>81.51159722222</td><td>204.020</td><td>114.400</td><td>--</td><td>--</td><td>--</td><td>--</td><td>WDMS</td><td>1</td><td>Gaia DR2 2286958798223194624</td><td>343.40879936334</td><td>81.51110462155</td></tr>\n",
       "<tr><td>52</td><td>STAR</td><td>2286958793927835392</td><td>343.40287500000</td><td>81.51306111111</td><td>200.682</td><td>112.727</td><td>0.00150000001303852</td><td>0.1043</td><td>3.700</td><td>0.660</td><td>WDMS</td><td>1</td><td>Gaia DR2 2286958793927835392</td><td>343.39702071545</td><td>81.51257571509</td></tr>\n",
       "<tr><td>53</td><td>WDJ225555.71+054522.59</td><td>2711324446359728384</td><td>343.98362500000</td><td>5.75513611111</td><td>350.759</td><td>-264.711</td><td>--</td><td>--</td><td>--</td><td>--</td><td>WDMS</td><td>1</td><td>Gaia DR2 2711324446359728384</td><td>343.98210713386</td><td>5.75627583702</td></tr>\n",
       "<tr><td>53</td><td>STAR</td><td>2711324381934051200</td><td>343.98829166667</td><td>5.75393888889</td><td>355.811</td><td>-268.824</td><td>0.00209999992512167</td><td>0.0590</td><td>6.500</td><td>0.760</td><td>WDMS</td><td>1</td><td>Gaia DR2 2711324381934051200</td><td>343.98675194181</td><td>5.75509632349</td></tr>\n",
       "<tr><td>54</td><td>WDJ230958.53+550649.43</td><td>1996725077535283200</td><td>347.49695833333</td><td>55.11393611111</td><td>407.333</td><td>47.975</td><td>--</td><td>--</td><td>--</td><td>--</td><td>WDMS</td><td>1,2</td><td>Gaia DR2 1996725077535283200</td><td>347.49389198676</td><td>55.11372951359</td></tr>\n",
       "<tr><td>54</td><td>STAR</td><td>1996725077535282944</td><td>347.49416666667</td><td>55.11334166667</td><td>409.088</td><td>42.178</td><td>0.000500000023748726</td><td>0.0364</td><td>6.100</td><td>0.470</td><td>WDMS</td><td>1,2</td><td>Gaia DR2 1996725077535282944</td><td>347.49108715260</td><td>55.11316002812</td></tr>\n",
       "<tr><td>55</td><td>WDJ233856.32+210118.30</td><td>2826254713186397440</td><td>354.73591666667</td><td>21.02250833333</td><td>273.409</td><td>176.193</td><td>--</td><td>--</td><td>--</td><td>--</td><td>WDMS</td><td>1</td><td>Gaia DR2 2826254713186397440</td><td>354.73465555488</td><td>21.02174971994</td></tr>\n",
       "<tr><td>55</td><td>STAR</td><td>2826254717479033344</td><td>354.73329166667</td><td>21.02344166667</td><td>276.018</td><td>179.159</td><td>0.00179999996908009</td><td>0.1531</td><td>4.000</td><td>0.740</td><td>WDMS</td><td>1</td><td>Gaia DR2 2826254717479033344</td><td>354.73201851288</td><td>21.02267028290</td></tr>\n",
       "</table>"
      ],
      "text/plain": [
       "<Table length=113>\n",
       "System          WDJ           ...     _RA.icrs        _DE.icrs   \n",
       "                              ...       deg             deg      \n",
       "int16          str22          ...     float64         float64    \n",
       "------ ---------------------- ... --------------- ---------------\n",
       "     0 WDJ001324.45+543757.64 ...   3.35188869540  54.63267705041\n",
       "     0                   STAR ...   3.19567279149  54.66261965954\n",
       "     1 WDJ002116.21+253134.45 ...   5.31753831114  25.52623605964\n",
       "     1                   STAR ...   5.31671520192  25.52425611688\n",
       "     2 WDJ002450.37+683446.85 ...   6.20985552687  68.57968114791\n",
       "     2                   STAR ...   6.20925245184  68.57837967145\n",
       "     3 WDJ004122.04+555008.35 ...  10.34182425588  55.83565136072\n",
       "     3                   STAR ...  10.33680376689  55.83455972810\n",
       "     4 WDJ010457.96+212017.54 ...  16.24146306913  21.33820640739\n",
       "   ...                    ... ...             ...             ...\n",
       "    51 WDJ223418.83+145654.42 ... 338.57848799396  14.94844797465\n",
       "    51                   STAR ... 338.58282020869  14.96609396256\n",
       "    52 WDJ225338.11+813039.98 ... 343.40879936334  81.51110462155\n",
       "    52                   STAR ... 343.39702071545  81.51257571509\n",
       "    53 WDJ225555.71+054522.59 ... 343.98210713386   5.75627583702\n",
       "    53                   STAR ... 343.98675194181   5.75509632349\n",
       "    54 WDJ230958.53+550649.43 ... 347.49389198676  55.11372951359\n",
       "    54                   STAR ... 347.49108715260  55.11316002812\n",
       "    55 WDJ233856.32+210118.30 ... 354.73465555488  21.02174971994\n",
       "    55                   STAR ... 354.73201851288  21.02267028290"
      ]
     },
     "execution_count": 58,
     "metadata": {},
     "output_type": "execute_result"
    }
   ],
   "source": [
    "catalogs1[-1]"
   ]
  },
  {
   "cell_type": "code",
   "execution_count": 31,
   "metadata": {},
   "outputs": [],
   "source": [
    "params=catalogs[3].to_pandas()#stellar parameters\n",
    "kinemas=catalogs[1].to_pandas()"
   ]
  },
  {
   "cell_type": "code",
   "execution_count": 35,
   "metadata": {},
   "outputs": [],
   "source": [
    "merged=kinemas.merge(params, on='Name')"
   ]
  },
  {
   "cell_type": "code",
   "execution_count": 72,
   "metadata": {},
   "outputs": [],
   "source": [
    "OBS_KIN=(np.array([[10.29496386],\n",
    "        [-0.15391868],\n",
    "        [-1.28539   ]]),\n",
    " np.array([[0.06680341],\n",
    "        [0.03215594],\n",
    "        [0.02572773]]))"
   ]
  },
  {
   "cell_type": "code",
   "execution_count": 85,
   "metadata": {},
   "outputs": [
    {
     "data": {
      "text/plain": [
       "Text(0, 0.5, 'Age (Gyr)')"
      ]
     },
     "execution_count": 85,
     "metadata": {},
     "output_type": "execute_result"
    },
    {
     "data": {
      "image/png": "[encoded data removed]",
      "text/plain": [
       "<Figure size 432x288 with 2 Axes>"
      ]
     },
     "metadata": {
      "needs_background": "light"
     },
     "output_type": "display_data"
    }
   ],
   "source": [
    "fig, ax=plt.subplots()\n",
    "\n",
    "c=ax.scatter( merged.Vvel, (merged.Uvel**2+merged.Wvel**2)**0.5,  merged.Dist, \\\n",
    "           c=merged.tcoolCO, vmin=0, vmax=9., cmap='cividis')\n",
    "cbar=plt.colorbar(c, ticks=[0, 2, 4, 6, 8])\n",
    "ax.errorbar(OBS_KIN[0][1], (OBS_KIN[0][0]**2+  OBS_KIN[0][-1]**2)**0.5, \n",
    "            fmt='*', c='k')\n",
    "cbar.ax.set_ylabel('Age (Gyr)', fontsize=18)"
   ]
  },
  {
   "cell_type": "code",
   "execution_count": null,
   "metadata": {},
   "outputs": [],
   "source": []
  },
  {
   "cell_type": "code",
   "execution_count": null,
   "metadata": {},
   "outputs": [],
   "source": []
  },
  {
   "cell_type": "code",
   "execution_count": null,
   "metadata": {},
   "outputs": [],
   "source": []
  }
 ],
 "metadata": {
  "kernelspec": {
   "display_name": "Python 3",
   "language": "python",
   "name": "python3"
  },
  "language_info": {
   "codemirror_mode": {
    "name": "ipython",
    "version": 3
   },
   "file_extension": ".py",
   "mimetype": "text/x-python",
   "name": "python",
   "nbconvert_exporter": "python",
   "pygments_lexer": "ipython3",
   "version": "3.8.5"
  }
 },
 "nbformat": 4,
 "nbformat_minor": 4
}
