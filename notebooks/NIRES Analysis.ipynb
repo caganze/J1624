{
 "cells": [
  {
   "cell_type": "code",
   "execution_count": 1,
   "metadata": {},
   "outputs": [
    {
     "name": "stdout",
     "output_type": "stream",
     "text": [
      "Adding 2404 sources from /Users/caganze/research/splat//resources/Spectra/Public/SPEX-PRISM/ to spectral database\n",
      "Adding 89 sources from /Users/caganze/research/splat//resources/Spectra/Public/MAGE/ to spectral database\n",
      "Adding 145 sources from /Users/caganze/research/splat//resources/Spectra/Public/LRIS-RED/ to spectral database\n"
     ]
    }
   ],
   "source": [
    "import pandas as pd\n",
    "from astropy.io import fits\n",
    "import numpy as np\n",
    "import matplotlib.pyplot as plt\n",
    "import splat\n",
    "import numpy\n",
    "import astropy.units as u\n",
    "from astropy import constants as const \n",
    "import copy\n",
    "from scipy.integrate import trapz        # for numerical integration\n",
    "from scipy.interpolate import interp1d\n",
    "%matplotlib inline"
   ]
  },
  {
   "cell_type": "code",
   "execution_count": 2,
   "metadata": {},
   "outputs": [],
   "source": [
    "import matplotlib as mpl\n",
    "#matplotlib defaults\n",
    "mpl.rcParams['grid.color'] = 'k'\n",
    "mpl.rcParams['grid.linestyle'] = '--'\n",
    "mpl.rcParams['grid.linewidth'] = 0.5\n",
    "mpl.rcParams['axes.linewidth'] = 1.0\n",
    "mpl.rcParams['figure.figsize'] = [8.0, 6.0]\n",
    "mpl.rcParams['figure.dpi'] = 80\n",
    "mpl.rcParams['savefig.dpi'] = 100\n",
    "mpl.rcParams['font.size'] = 18\n",
    "mpl.rcParams['legend.fontsize'] = 'large'\n",
    "mpl.rcParams['figure.titlesize'] = 'large'\n",
    "mpl.rcParams['xtick.bottom']=True\n",
    "mpl.rcParams['xtick.top']=True\n",
    "mpl.rcParams['xtick.major.width']=0.9\n",
    "mpl.rcParams['xtick.minor.width']=0.9\n",
    "mpl.rcParams['ytick.major.width']=0.9\n",
    "mpl.rcParams['ytick.minor.width']=0.9\n",
    "mpl.rcParams['ytick.right']=True\n",
    "mpl.rcParams['ytick.left']=True\n",
    "mpl.rcParams['xtick.direction']='in'\n",
    "mpl.rcParams['ytick.direction']='in'\n",
    "\n",
    "mpl.rcParams['font.serif'] = 'Ubuntu'\n",
    "#mpl.rcParams['font.monospace'] = 'Ubuntu Mono'\n",
    "mpl.rcParams[\"mathtext.fontset\"] = \"dejavuserif\"\n",
    "\n",
    "mpl.rcParams['axes.labelsize'] = 18\n",
    "mpl.rcParams['xtick.labelsize'] = 18\n",
    "mpl.rcParams['ytick.labelsize'] = 18\n",
    "mpl.rcParams['legend.fontsize'] = 18\n",
    "mpl.rcParams['figure.titlesize'] = 18\n",
    "\n",
    "%matplotlib inline\n"
   ]
  },
  {
   "cell_type": "code",
   "execution_count": 3,
   "metadata": {},
   "outputs": [],
   "source": [
    "import os"
   ]
  },
  {
   "cell_type": "code",
   "execution_count": 4,
   "metadata": {},
   "outputs": [],
   "source": [
    "DATA_FOLDER='/users/caganze/research/J1624/data/'\n",
    "FIG_FOLDER='/users/caganze/research/J1624/figures/'"
   ]
  },
  {
   "cell_type": "code",
   "execution_count": 5,
   "metadata": {},
   "outputs": [],
   "source": [
    "fl='/users/caganze/research/J1624/data/nires_J1624-3212_20200720.fits'"
   ]
  },
  {
   "cell_type": "code",
   "execution_count": 6,
   "metadata": {},
   "outputs": [],
   "source": [
    "data=fits.open(fl)[0].data"
   ]
  },
  {
   "cell_type": "code",
   "execution_count": 7,
   "metadata": {},
   "outputs": [],
   "source": [
    "spectra=[]"
   ]
  },
  {
   "cell_type": "code",
   "execution_count": 8,
   "metadata": {},
   "outputs": [],
   "source": [
    "for idx in np.arange(4):\n",
    "    spectra.append(splat.Spectrum(wave=data[idx][0], \\\n",
    "                                  flux=data[idx][1],\n",
    "                                  noise=data[idx][2],\n",
    "                                  instrument='NIRES'))"
   ]
  },
  {
   "cell_type": "code",
   "execution_count": 9,
   "metadata": {},
   "outputs": [],
   "source": [
    "s1=splat.stitch(spectra[0], spectra[1])\n",
    "s2=splat.stitch(spectra[2], spectra[3])"
   ]
  },
  {
   "cell_type": "code",
   "execution_count": 10,
   "metadata": {},
   "outputs": [],
   "source": [
    "#s1.flux"
   ]
  },
  {
   "cell_type": "code",
   "execution_count": 11,
   "metadata": {},
   "outputs": [],
   "source": [
    "s=splat.stitch(s1, s2)"
   ]
  },
  {
   "cell_type": "code",
   "execution_count": 12,
   "metadata": {},
   "outputs": [],
   "source": [
    "sxd= splat.Spectrum(DATA_FOLDER+'/spex-sxd-merged_J1624-3212_210407.fits', instrument='SXD')"
   ]
  },
  {
   "cell_type": "code",
   "execution_count": 13,
   "metadata": {},
   "outputs": [],
   "source": [
    "#"
   ]
  },
  {
   "cell_type": "code",
   "execution_count": 14,
   "metadata": {},
   "outputs": [],
   "source": [
    "#using Adam's metallicity measurements\n",
    "import splat.empirical as spem\n",
    "#for r in ['rojas','terrien','mann13','mann14','newton']:\n",
    "#    spem.metallicity(s,ref=r,verbose=True, plot=True)\n"
   ]
  },
  {
   "cell_type": "code",
   "execution_count": 15,
   "metadata": {},
   "outputs": [],
   "source": [
    "s.reset()"
   ]
  },
  {
   "cell_type": "code",
   "execution_count": 16,
   "metadata": {},
   "outputs": [
    {
     "name": "stdout",
     "output_type": "stream",
     "text": [
      "Computing [Fe/H] from Mann et al. (2014) (2014AJ....147..160M), valid for M4.5--M9.5, -0.58 < [Fe/H] < +0.56\n",
      "K-band [Fe/H] = 0.29+/-0.07\n"
     ]
    },
    {
     "data": {
      "text/plain": [
       "{'reference': 'Mann et al. (2014)',\n",
       " 'bibcode': '2014AJ....147..160M',\n",
       " 'measures': {'feh': [0.290922749741257, 0.07022471373270024]}}"
      ]
     },
     "execution_count": 16,
     "metadata": {},
     "output_type": "execute_result"
    }
   ],
   "source": [
    "spem.metallicity(s,ref='mann14',verbose=True, plot=True, \n",
    "                 filename='/users/caganze/research/J1624/figures/metallicity.pdf')\n"
   ]
  },
  {
   "cell_type": "code",
   "execution_count": 17,
   "metadata": {},
   "outputs": [
    {
     "name": "stdout",
     "output_type": "stream",
     "text": [
      "Computing [Fe/H] from Mann et al. (2014) (2014AJ....147..160M), valid for M4.5--M9.5, -0.58 < [Fe/H] < +0.56\n",
      "K-band [Fe/H] = 0.25+/-0.08\n"
     ]
    },
    {
     "data": {
      "text/plain": [
       "{'reference': 'Mann et al. (2014)',\n",
       " 'bibcode': '2014AJ....147..160M',\n",
       " 'measures': {'feh': [0.25334561575352565, 0.08052189581012278]}}"
      ]
     },
     "execution_count": 17,
     "metadata": {},
     "output_type": "execute_result"
    }
   ],
   "source": [
    "spem.metallicity(sxd,ref='mann14',verbose=True, plot=True, \n",
    "                 filename='/users/caganze/research/J1624/figures/metallicity.pdf')\n"
   ]
  },
  {
   "cell_type": "code",
   "execution_count": 18,
   "metadata": {},
   "outputs": [
    {
     "data": {
      "text/plain": [
       "0.16999999999999998"
      ]
     },
     "execution_count": 18,
     "metadata": {},
     "output_type": "execute_result"
    }
   ],
   "source": [
    "0.25-0.08"
   ]
  },
  {
   "cell_type": "code",
   "execution_count": 19,
   "metadata": {},
   "outputs": [],
   "source": [
    "_, scl0=splat.compareSpectra( sxd, s, fit_ranges=[2.0, 2.2],  statistic='chisqr', novar2=False)"
   ]
  },
  {
   "cell_type": "code",
   "execution_count": 20,
   "metadata": {},
   "outputs": [
    {
     "data": {
      "text/plain": [
       "0.6816644867672124"
      ]
     },
     "execution_count": 20,
     "metadata": {},
     "output_type": "execute_result"
    }
   ],
   "source": [
    "scl0"
   ]
  },
  {
   "cell_type": "code",
   "execution_count": 21,
   "metadata": {},
   "outputs": [
    {
     "data": {
      "text/latex": [
       "$[1.8858281 \\times 10^{-14},~1.5858247 \\times 10^{-14},~1.0553963 \\times 10^{-14},~\\dots,~2.6688619 \\times 10^{-14},~1.3945587 \\times 10^{-14},~5.4738068 \\times 10^{-15}] \\; \\mathrm{\\frac{erg}{\\mu m\\,s\\,cm^{2}}}$"
      ],
      "text/plain": [
       "<Quantity [1.88582806e-14, 1.58582474e-14, 1.05539628e-14, ...,\n",
       "           2.66886190e-14, 1.39455869e-14, 5.47380685e-15] erg / (cm2 micron s)>"
      ]
     },
     "execution_count": 21,
     "metadata": {},
     "output_type": "execute_result"
    }
   ],
   "source": [
    "sxd.flux"
   ]
  },
  {
   "cell_type": "code",
   "execution_count": 22,
   "metadata": {},
   "outputs": [
    {
     "data": {
      "image/png": "[encoded data removed]",
      "text/plain": [
       "<Figure size 864x360 with 2 Axes>"
      ]
     },
     "metadata": {
      "needs_background": "light"
     },
     "output_type": "display_data"
    }
   ],
   "source": [
    "fig,(ax, ax1)=plt.subplots(figsize=(12, 5), ncols=2)\n",
    "ax.plot(sxd.wave.value, sxd.flux.value, label='SXD', color='k')\n",
    "#ax.plot(s.wave, s.flux, label='NIRES')\n",
    "ax.fill_between(sxd.wave.value, sxd.flux.value-sxd.noise.value, sxd.flux.value+sxd.noise.value,\\\n",
    "                color='grey', alpha=0.5)\n",
    "ax.set(xlim=[2.18, 2.24], ylim=[1.85e-10,2.50e-10], xlabel='Wavelength (Micron)',\n",
    "       ylabel='Flux (Arbitray Units)')\n",
    "\n",
    "ax1.plot(sxd.wave.value, sxd.flux.value, label='SXD', color='k')\n",
    "ax1.fill_between(sxd.wave.value, sxd.flux.value-sxd.noise.value, sxd.flux.value+sxd.noise.value, \\\n",
    "                 color='grey', alpha=0.5)\n",
    "#ax1.plot(s.wave, s.flux, label='NIRES')\n",
    "ax1.set(xlim=[2.24, 2.29], ylim=np.array([0.1, 2.5]),\n",
    "        xlabel='Wavelength (Micron)',\n",
    "       ylabel='Flux (Arbitray Units)')\n",
    "#ax.axvline( 2.2079)\n",
    "#ax.axvline(2.2113)\n",
    "ax1.minorticks_on()\n",
    "ax.minorticks_on()\n",
    "ax1.legend()\n",
    "ax.legend()\n",
    "plt.tight_layout()\n",
    "plt.savefig(FIG_FOLDER+'/metallicity_lines.pdf')"
   ]
  },
  {
   "cell_type": "code",
   "execution_count": 23,
   "metadata": {},
   "outputs": [],
   "source": [
    "#splat.measureEWSet(sxd,ref='mann2014', plot=True)"
   ]
  },
  {
   "cell_type": "code",
   "execution_count": 24,
   "metadata": {},
   "outputs": [],
   "source": [
    "#!open  ~/research/splat/splat/empirical.py"
   ]
  },
  {
   "cell_type": "code",
   "execution_count": 25,
   "metadata": {},
   "outputs": [],
   "source": [
    "import kastredux\n",
    "FUNITS=u.erg/u.micron/u.s/(u.cm**2)\n",
    "WUNITS=u.micron\n",
    "f='/users/caganze/research/J1624/data/kastBLUE_J1624-3212_20200722.fits'\n",
    "#fr='/users/caganze/research/J1624/data/kastRED_J1624-3212_20200722.fits'\n",
    "sblue=kastredux.readSpectrum(f, flux_unit=FUNITS)\n",
    "fr='/users/caganze/research/J1624/data/kastRED_J1624-3212_20210404.txt'\n",
    "sred=kastredux.readSpectrum(fr)\n"
   ]
  },
  {
   "cell_type": "code",
   "execution_count": 26,
   "metadata": {},
   "outputs": [],
   "source": [
    "#sblue.convertFlux(FUNITS)\n",
    "sblue.convertWave(WUNITS)\n",
    "#sred.convertFlux(FUNITS)\n",
    "sred.convertWave(WUNITS)\n"
   ]
  },
  {
   "cell_type": "code",
   "execution_count": 27,
   "metadata": {},
   "outputs": [
    {
     "data": {
      "text/plain": [
       "('M5.0', 0.5)"
      ]
     },
     "execution_count": 27,
     "metadata": {},
     "output_type": "execute_result"
    },
    {
     "data": {
      "image/png": "[encoded data removed]",
      "text/plain": [
       "<Figure size 432x288 with 1 Axes>"
      ]
     },
     "metadata": {
      "needs_background": "light"
     },
     "output_type": "display_data"
    }
   ],
   "source": [
    "s.smooth(30)\n",
    "s.name='J1624'\n",
    "splat.classifyByStandard(s,plot=True,method='kirkpatrick',telluric=True, save=True,\n",
    "                         filename='/users/caganze/research/J1624/figures/J1624_nirclassif.pdf')\n"
   ]
  },
  {
   "cell_type": "code",
   "execution_count": 28,
   "metadata": {},
   "outputs": [],
   "source": [
    "#sblue0=splat.Spectrum(wave=sblue.wave, flux=sblue.flux, noise=sblue.variance**0.5)\n",
    "sred0=splat.Spectrum(wave=sred.wave, flux=sred.flux, noise=sred.variance**0.5)\n"
   ]
  },
  {
   "cell_type": "code",
   "execution_count": 29,
   "metadata": {},
   "outputs": [],
   "source": [
    "fold='/users/caganze/research/J1624/data/palomar_dbsp/'\n"
   ]
  },
  {
   "cell_type": "code",
   "execution_count": 30,
   "metadata": {},
   "outputs": [],
   "source": [
    "f0=fold+'w1624m3212_b.dat'\n",
    "f1=fold+'w1624m3212_r.dat'\n"
   ]
  },
  {
   "cell_type": "code",
   "execution_count": 31,
   "metadata": {},
   "outputs": [],
   "source": [
    "from astropy.io import ascii\n",
    "df0=ascii.read(f0).to_pandas()\n",
    "df1=ascii.read(f1).to_pandas()\n"
   ]
  },
  {
   "cell_type": "code",
   "execution_count": 32,
   "metadata": {},
   "outputs": [],
   "source": [
    "#create a mask array\n",
    "#arr0="
   ]
  },
  {
   "cell_type": "code",
   "execution_count": 33,
   "metadata": {},
   "outputs": [],
   "source": [
    "spal_blue=splat.Spectrum(wave=df0.col1.values/10000, flux=df0.col2.values, wunit=u.micron)\n",
    "spal_red=splat.Spectrum(wave=df1.col1.values/10000, flux=df1.col2.values, wunit=u.micron)\n",
    "sr=splat.Spectrum(wave=sred.wave, flux=sred.flux, noise=sred.variance**0.5)\n",
    "sb=splat.Spectrum(wave=sblue.wave, flux=sblue.flux, noise=sblue.variance**0.5)\n"
   ]
  },
  {
   "cell_type": "code",
   "execution_count": 34,
   "metadata": {},
   "outputs": [],
   "source": [
    "from astropy.table import Table"
   ]
  },
  {
   "cell_type": "code",
   "execution_count": 35,
   "metadata": {},
   "outputs": [],
   "source": [
    "#m5"
   ]
  },
  {
   "cell_type": "code",
   "execution_count": 36,
   "metadata": {},
   "outputs": [],
   "source": [
    "m5= fits.open(DATA_FOLDER+'/M5_+0.0_Dwarf.fits')\n",
    "m5_std_tbl=Table(m5[1].data).to_pandas()\n",
    "m5_spec= splat.Spectrum(wave=10**m5_std_tbl.LogLam.values/1e4, flux=m5_std_tbl.Flux.values, \n",
    "                        noise=m5_std_tbl.PropErr.values, unit=u.micron)"
   ]
  },
  {
   "cell_type": "code",
   "execution_count": null,
   "metadata": {},
   "outputs": [],
   "source": []
  },
  {
   "cell_type": "code",
   "execution_count": 37,
   "metadata": {},
   "outputs": [],
   "source": [
    "#spal_blue.fluxCalibrate('GAIA_G', 12.6265, apparent=True, notch=[0.])\n",
    "#spal_red.fluxCalibrate('Gaia_G', 12.6265)   \n",
    "#sr.fluxCalibrate('Gaia_R',11.0375, notch=[0.58, 0.93 ])\n",
    "#s.fluxCalibrate('MKO H', 8.470 )\n",
    "sxd.fluxCalibrate('MKO H', 8.470 )\n"
   ]
  },
  {
   "cell_type": "code",
   "execution_count": null,
   "metadata": {},
   "outputs": [],
   "source": []
  },
  {
   "cell_type": "code",
   "execution_count": 38,
   "metadata": {},
   "outputs": [
    {
     "data": {
      "text/plain": [
       "(56.53682358233583, 2.1316282072803006e-14)"
      ]
     },
     "execution_count": 38,
     "metadata": {},
     "output_type": "execute_result"
    }
   ],
   "source": [
    "splat.filterMag(spal_red, 'PANSTARRS_G')\n"
   ]
  },
  {
   "cell_type": "code",
   "execution_count": 39,
   "metadata": {},
   "outputs": [],
   "source": [
    "#m5_std_tbl=Table(hdu[1].data).to_pandas()"
   ]
  },
  {
   "cell_type": "code",
   "execution_count": null,
   "metadata": {},
   "outputs": [],
   "source": []
  },
  {
   "cell_type": "code",
   "execution_count": 40,
   "metadata": {},
   "outputs": [],
   "source": [
    "#spal_red.scale(scl)"
   ]
  },
  {
   "cell_type": "code",
   "execution_count": 41,
   "metadata": {},
   "outputs": [],
   "source": [
    "m5_std_spex= splat.STDS_DWARF_SPEX['M5.0']"
   ]
  },
  {
   "cell_type": "code",
   "execution_count": 42,
   "metadata": {},
   "outputs": [
    {
     "data": {
      "text/plain": [
       "SPEX-PRISM spectrum of Wolf 47 (M5.0)"
      ]
     },
     "execution_count": 42,
     "metadata": {},
     "output_type": "execute_result"
    }
   ],
   "source": [
    "m5_std_spex"
   ]
  },
  {
   "cell_type": "code",
   "execution_count": 43,
   "metadata": {},
   "outputs": [],
   "source": [
    "#sr.wave.max()"
   ]
  },
  {
   "cell_type": "code",
   "execution_count": 44,
   "metadata": {},
   "outputs": [],
   "source": [
    "#_, scl=splat.compareSpectra( sxd, spal_red, fit_ranges=[0.7, .89],  statistic='chisqr', novar2=False)\n",
    "#_, scl2=splat.compareSpectra(spal_red, sb, fit_ranges=[0.45, 0.55],  statistic='chisqr', novar2=False)\n",
    "_, scl3=splat.compareSpectra(m5_spec, sxd, fit_ranges=[0.7, 1.0],  statistic='chisqr', novar2=False)\n",
    "sxd.scale(scl3)\n",
    "_, scl5=splat.compareSpectra(m5_spec, sr, fit_ranges=[0.6, 0.89],  statistic='chisqr', novar2=False)\n",
    "sr.scale(scl5)\n",
    "_, scl4=splat.compareSpectra(m5_spec,  sb, fit_ranges=[0.4, 0.54],  statistic='chisqr')\n",
    "sb.scale(scl4)\n",
    "_, scl6= splat.compareSpectra(sxd, m5_std_spex, fit_ranges=[ 0.9, 1.4 ] , statistic='chisqr', novar2=False)\n",
    "m5_std_spex.scale(scl6)"
   ]
  },
  {
   "cell_type": "code",
   "execution_count": null,
   "metadata": {},
   "outputs": [],
   "source": []
  },
  {
   "cell_type": "code",
   "execution_count": null,
   "metadata": {},
   "outputs": [],
   "source": []
  },
  {
   "cell_type": "code",
   "execution_count": 45,
   "metadata": {},
   "outputs": [],
   "source": [
    "#sb.wave.max(), spal_blue.wave.max()"
   ]
  },
  {
   "cell_type": "code",
   "execution_count": null,
   "metadata": {},
   "outputs": [],
   "source": []
  },
  {
   "cell_type": "code",
   "execution_count": null,
   "metadata": {},
   "outputs": [],
   "source": []
  },
  {
   "cell_type": "code",
   "execution_count": 46,
   "metadata": {},
   "outputs": [],
   "source": [
    "#sr.wave.max(), sr.wave.min()"
   ]
  },
  {
   "cell_type": "code",
   "execution_count": 47,
   "metadata": {},
   "outputs": [],
   "source": [
    "#scl5"
   ]
  },
  {
   "cell_type": "code",
   "execution_count": 48,
   "metadata": {},
   "outputs": [],
   "source": [
    "#ghj"
   ]
  },
  {
   "cell_type": "code",
   "execution_count": 49,
   "metadata": {},
   "outputs": [],
   "source": [
    "#m5_spec.scale(scl5)"
   ]
  },
  {
   "cell_type": "code",
   "execution_count": null,
   "metadata": {},
   "outputs": [],
   "source": []
  },
  {
   "cell_type": "code",
   "execution_count": 50,
   "metadata": {},
   "outputs": [],
   "source": [
    "#scl4"
   ]
  },
  {
   "cell_type": "code",
   "execution_count": 51,
   "metadata": {},
   "outputs": [],
   "source": [
    "#sb.scale(scl4)"
   ]
  },
  {
   "cell_type": "code",
   "execution_count": 52,
   "metadata": {},
   "outputs": [],
   "source": [
    "#spal_red.wave.max(), m5_spec.wave.max(), spal_red.wave.min(), m5_spec.wave.min()"
   ]
  },
  {
   "cell_type": "code",
   "execution_count": 53,
   "metadata": {},
   "outputs": [],
   "source": [
    "#sb.flux"
   ]
  },
  {
   "cell_type": "code",
   "execution_count": 54,
   "metadata": {},
   "outputs": [],
   "source": [
    "#sb.scale(scl4)"
   ]
  },
  {
   "cell_type": "code",
   "execution_count": 55,
   "metadata": {},
   "outputs": [
    {
     "data": {
      "text/plain": [
       "[None, None]"
      ]
     },
     "execution_count": 55,
     "metadata": {},
     "output_type": "execute_result"
    },
    {
     "data": {
      "image/png": "[encoded data removed]",
      "text/plain": [
       "<Figure size 432x288 with 1 Axes>"
      ]
     },
     "metadata": {
      "needs_background": "light"
     },
     "output_type": "display_data"
    }
   ],
   "source": [
    "fig, ax=plt.subplots()\n",
    "ax.plot(m5_spec.wave, m5_spec.flux )\n",
    "ax.plot(spal_red.wave, spal_red.flux )\n",
    "ax.plot(sb.wave, sb.flux )\n",
    "ax.set(yscale='log', xscale='log')"
   ]
  },
  {
   "cell_type": "code",
   "execution_count": 56,
   "metadata": {},
   "outputs": [],
   "source": [
    "mask0=np.logical_and(sb.wave.value < 0.53,sb.wave.value>0.4)\n",
    "mask1=np.logical_and(sr.wave.value < 0.9,sr.wave.value>0.65)\n",
    "mask2=~np.logical_or.reduce([[(sxd.wave.value >1.350) & (sxd.wave.value<1.42)],\n",
    "                        [(sxd.wave.value>1.87) & (sxd.wave.value<1.9)],\n",
    "                        [sxd.wave.value > 2.45]]).flatten()"
   ]
  },
  {
   "cell_type": "code",
   "execution_count": 57,
   "metadata": {},
   "outputs": [],
   "source": [
    "m5_spec.smooth(30)\n",
    "sb.smooth(30)\n",
    "sr.smooth(30)\n",
    "sxd.smooth(30)"
   ]
  },
  {
   "cell_type": "code",
   "execution_count": 66,
   "metadata": {},
   "outputs": [],
   "source": [
    "m5_std_mask=m5_spec.wave.value>.9"
   ]
  },
  {
   "cell_type": "code",
   "execution_count": 59,
   "metadata": {},
   "outputs": [
    {
     "data": {
      "text/plain": [
       "<bound method Axes.errorbar of <AxesSubplot:>>"
      ]
     },
     "execution_count": 59,
     "metadata": {},
     "output_type": "execute_result"
    }
   ],
   "source": [
    "ax.errorbar"
   ]
  },
  {
   "cell_type": "code",
   "execution_count": 67,
   "metadata": {},
   "outputs": [
    {
     "data": {
      "image/png": "[encoded data removed]",
      "text/plain": [
       "<Figure size 1008x432 with 1 Axes>"
      ]
     },
     "metadata": {
      "needs_background": "light"
     },
     "output_type": "display_data"
    }
   ],
   "source": [
    "fig, ax=plt.subplots(figsize=(14, 6))\n",
    "ax.step(sb.wave[mask0], sb.flux[mask0], label='J1624 KAST Blue',  c='#0074D9')\n",
    "ax.step(sr.wave[mask1], sr.flux[mask1], label='J1624 KAST Red', c='#FF851B')\n",
    "ax.step(sxd.wave[mask2], sxd.flux[mask2], label='J1624 SXD', c='#111111')\n",
    "\n",
    "plt.plot(m5_spec.wave[~m5_std_mask], m5_spec.flux[~m5_std_mask], label='M5 STD', \\\n",
    "         linestyle='-', alpha=0.5, c='#AAAAAA')\n",
    "plt.plot(m5_std_spex.wave,m5_std_spex.flux, linestyle='-', alpha=0.5, c='#AAAAAA')\n",
    "#plt.step(spal_red.wave, spal_red.flux, label='Palomar Red', c='#FF851B')\n",
    "#plt.step(spal_blue.wave, spal_blue.flux, label='Palomar Blue', c='#0074D9')\n",
    "\n",
    "ax.set( xlabel='Wavelength (Micron)',\\\n",
    "      ylabel='Normalized Flux')\n",
    "ax.minorticks_on()\n",
    "plt.tight_layout()\n",
    "plt.legend()\n",
    "plt.savefig('/users/caganze/research/J1624/figures/stiched_spectra.pdf', bbox_inches='tight')"
   ]
  },
  {
   "cell_type": "code",
   "execution_count": 61,
   "metadata": {},
   "outputs": [],
   "source": [
    "np.save(DATA_FOLDER+'/scaled_blue.npy', [sb.wave.value[mask0], sb.flux.value[mask0], sb.noise.value[mask0]])\n",
    "np.save(DATA_FOLDER+'/scaled_red.npy', [sr.wave.value[mask1], sr.flux.value[mask1], sr.noise.value[mask1]])\n",
    "np.save(DATA_FOLDER+'/scaled_infrared.npy', [sxd.wave.value[mask2], sxd.flux.value[mask2], sxd.noise.value[mask2]])\n"
   ]
  },
  {
   "cell_type": "code",
   "execution_count": 65,
   "metadata": {},
   "outputs": [],
   "source": [
    "#import popsims\n"
   ]
  },
  {
   "cell_type": "code",
   "execution_count": 63,
   "metadata": {},
   "outputs": [],
   "source": [
    "#def create_spe"
   ]
  },
  {
   "cell_type": "code",
   "execution_count": 64,
   "metadata": {},
   "outputs": [
    {
     "ename": "NameError",
     "evalue": "name 'ghj' is not defined",
     "output_type": "error",
     "traceback": [
      "\u001b[0;31m---------------------------------------------------------------------------\u001b[0m",
      "\u001b[0;31mNameError\u001b[0m                                 Traceback (most recent call last)",
      "\u001b[0;32m<ipython-input-64-28607bbcd33f>\u001b[0m in \u001b[0;36m<module>\u001b[0;34m\u001b[0m\n\u001b[0;32m----> 1\u001b[0;31m \u001b[0mghj\u001b[0m\u001b[0;34m\u001b[0m\u001b[0;34m\u001b[0m\u001b[0m\n\u001b[0m",
      "\u001b[0;31mNameError\u001b[0m: name 'ghj' is not defined"
     ]
    }
   ],
   "source": [
    "ghj"
   ]
  },
  {
   "cell_type": "code",
   "execution_count": null,
   "metadata": {},
   "outputs": [],
   "source": []
  },
  {
   "cell_type": "code",
   "execution_count": null,
   "metadata": {},
   "outputs": [],
   "source": []
  },
  {
   "cell_type": "code",
   "execution_count": null,
   "metadata": {},
   "outputs": [],
   "source": []
  },
  {
   "cell_type": "code",
   "execution_count": null,
   "metadata": {
    "scrolled": true
   },
   "outputs": [],
   "source": []
  },
  {
   "cell_type": "code",
   "execution_count": null,
   "metadata": {},
   "outputs": [],
   "source": [
    "m5_spec"
   ]
  },
  {
   "cell_type": "code",
   "execution_count": null,
   "metadata": {},
   "outputs": [],
   "source": [
    "j"
   ]
  },
  {
   "cell_type": "code",
   "execution_count": null,
   "metadata": {},
   "outputs": [],
   "source": [
    "hdu=fits.open(h)"
   ]
  },
  {
   "cell_type": "code",
   "execution_count": null,
   "metadata": {},
   "outputs": [],
   "source": [
    "flux=hdu[0].data\n",
    "wave=hdu[0].header['CRVAL1']+hdu[0].header['CDELT1']*np.arange(0, hdu[0].header['NAXIS1'])"
   ]
  },
  {
   "cell_type": "code",
   "execution_count": null,
   "metadata": {},
   "outputs": [],
   "source": [
    "len(wave)==len(flux)"
   ]
  },
  {
   "cell_type": "code",
   "execution_count": null,
   "metadata": {},
   "outputs": [],
   "source": [
    "fig, ax=plt.subplots()\n",
    "plt.plot(wave, flux)"
   ]
  },
  {
   "cell_type": "code",
   "execution_count": null,
   "metadata": {},
   "outputs": [],
   "source": [
    "hdu[0].header"
   ]
  },
  {
   "cell_type": "code",
   "execution_count": null,
   "metadata": {},
   "outputs": [],
   "source": [
    "sb.save(DATA_FOLDER+'/kast_blue_scaled.fits')"
   ]
  },
  {
   "cell_type": "code",
   "execution_count": null,
   "metadata": {},
   "outputs": [],
   "source": [
    "\n",
    "\n",
    "#total_wave=sxd.wave.value\n",
    "#toal_flux=sxd.flux\n",
    "#total_noise=sxd.noise.value\n"
   ]
  },
  {
   "cell_type": "code",
   "execution_count": null,
   "metadata": {},
   "outputs": [],
   "source": [
    "len(sxd.wave), len(sxd.flux), len(total_wave), len(sxd.flux.value)"
   ]
  },
  {
   "cell_type": "code",
   "execution_count": null,
   "metadata": {},
   "outputs": [],
   "source": [
    "mask= np.logical_or.reduce([[(total_wave > 0.54) & (total_wave <0.57)],\n",
    "                          [(total_wave >1.350) & (total_wave<1.425)],\n",
    "                        [(total_wave >1.80) & (total_wave<1.92)],\n",
    "                        [total_wave > 2.45]])"
   ]
  },
  {
   "cell_type": "code",
   "execution_count": null,
   "metadata": {},
   "outputs": [],
   "source": [
    "\n",
    "#createa a complete spectrun\n"
   ]
  },
  {
   "cell_type": "code",
   "execution_count": null,
   "metadata": {},
   "outputs": [],
   "source": [
    "df=pd.DataFrame()\n",
    "df['wave (micron)']=total_wave\n",
    "df['flux (funits)']=total_flux\n",
    "df['mask']=mask.flatten()\n",
    "df['noise']=total_noise\n",
    "df.to_csv('/users/caganze/research/J1624/data/j1624_kast_nires.csv')"
   ]
  },
  {
   "cell_type": "code",
   "execution_count": null,
   "metadata": {},
   "outputs": [],
   "source": [
    "plt.plot(df['wave (micron)'][~mask.flatten()], df['flux (funits)'][~mask.flatten()])\n",
    "#plt.xlim([0.7, 0.9])\n",
    "plt.yscale('log')\n",
    "#plt.xscale('log')\n",
    "\n",
    "#\\"
   ]
  },
  {
   "cell_type": "code",
   "execution_count": null,
   "metadata": {},
   "outputs": [],
   "source": []
  }
 ],
 "metadata": {
  "kernelspec": {
   "display_name": "Python 3",
   "language": "python",
   "name": "python3"
  },
  "language_info": {
   "codemirror_mode": {
    "name": "ipython",
    "version": 3
   },
   "file_extension": ".py",
   "mimetype": "text/x-python",
   "name": "python",
   "nbconvert_exporter": "python",
   "pygments_lexer": "ipython3",
   "version": "3.8.5"
  }
 },
 "nbformat": 4,
 "nbformat_minor": 4
}
