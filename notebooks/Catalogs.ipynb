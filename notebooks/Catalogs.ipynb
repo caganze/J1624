{
 "cells": [
  {
   "cell_type": "code",
   "execution_count": 1,
   "metadata": {},
   "outputs": [],
   "source": [
    "import numpy as np\n",
    "import matplotlib.pyplot as plt\n",
    "import pandas as pd\n",
    "from astropy.io import ascii, fits\n",
    "from astroquery.vizier import Vizier\n",
    "from astropy.coordinates import SkyCoord\n",
    "import astropy.units as u\n",
    "from astropy.table import Table\n",
    "from astropy.coordinates import Angle\n",
    "#import splat\n",
    "%matplotlib inline"
   ]
  },
  {
   "cell_type": "code",
   "execution_count": null,
   "metadata": {},
   "outputs": [],
   "source": []
  },
  {
   "cell_type": "code",
   "execution_count": 2,
   "metadata": {},
   "outputs": [],
   "source": [
    "import sys"
   ]
  },
  {
   "cell_type": "code",
   "execution_count": 3,
   "metadata": {},
   "outputs": [],
   "source": [
    "#result = Vizier.query_object(\"sirius\")"
   ]
  },
  {
   "cell_type": "code",
   "execution_count": 4,
   "metadata": {},
   "outputs": [],
   "source": [
    "Vizier.query_object?"
   ]
  },
  {
   "cell_type": "code",
   "execution_count": 5,
   "metadata": {},
   "outputs": [],
   "source": [
    "coord=SkyCoord(ra=246.0684208*u.deg, dec= -32.2037824*u.deg)\n",
    "result = Vizier.query_region(coord, radius=Angle(2, \"arcsec\"), catalog='Gaia')"
   ]
  },
  {
   "cell_type": "code",
   "execution_count": 6,
   "metadata": {},
   "outputs": [
    {
     "data": {
      "text/html": [
       "<i>Table length=1</i>\n",
       "<table id=\"table140242191826800\" class=\"table-striped table-bordered table-condensed\">\n",
       "<thead><tr><th>RA_ICRS</th><th>e_RA_ICRS</th><th>DE_ICRS</th><th>e_DE_ICRS</th><th>Source</th><th>Plx</th><th>e_Plx</th><th>PM</th><th>pmRA</th><th>e_pmRA</th><th>pmDE</th><th>e_pmDE</th><th>RUWE</th><th>FG</th><th>e_FG</th><th>Gmag</th><th>e_Gmag</th><th>FBP</th><th>e_FBP</th><th>BPmag</th><th>e_BPmag</th><th>FRP</th><th>e_FRP</th><th>RPmag</th><th>e_RPmag</th><th>BP-RP</th><th>RVDR2</th><th>e_RVDR2</th><th>Tefftemp</th><th>loggtemp</th><th>PS1</th><th>SDSSDR13</th><th>SkyMapper2</th><th>URAT1</th><th>GmagCorr</th><th>e_GmagCorr</th><th>FGCorr</th><th>RAJ2000</th><th>DEJ2000</th></tr></thead>\n",
       "<thead><tr><th>deg</th><th>mas</th><th>deg</th><th>mas</th><th></th><th>mas</th><th>mas</th><th>mas / yr</th><th>mas / yr</th><th>mas / yr</th><th>mas / yr</th><th>mas / yr</th><th></th><th>e-/s</th><th>e-/s</th><th>mag</th><th>mag</th><th>e-/s</th><th>e-/s</th><th>mag</th><th>mag</th><th>e-/s</th><th>e-/s</th><th>mag</th><th>mag</th><th>mag</th><th>km / s</th><th>km / s</th><th>K</th><th>dex(cm / s2)</th><th></th><th></th><th></th><th></th><th>mag</th><th>mag</th><th>mag</th><th>deg</th><th>deg</th></tr></thead>\n",
       "<thead><tr><th>float64</th><th>float64</th><th>float64</th><th>float64</th><th>int64</th><th>float64</th><th>float32</th><th>float64</th><th>float64</th><th>float32</th><th>float64</th><th>float32</th><th>float64</th><th>float32</th><th>float32</th><th>float64</th><th>float64</th><th>float32</th><th>float32</th><th>float64</th><th>float64</th><th>float32</th><th>float32</th><th>float64</th><th>float64</th><th>float64</th><th>float64</th><th>float32</th><th>float32</th><th>float32</th><th>int64</th><th>int64</th><th>int32</th><th>int32</th><th>float64</th><th>float64</th><th>float32</th><th>float64</th><th>float64</th></tr></thead>\n",
       "<tr><td>246.06838564560</td><td>0.1190</td><td>-32.20398349011</td><td>0.0766</td><td>6025146733201615616</td><td>59.0092</td><td>0.1238</td><td>187.567</td><td>-25.809</td><td>0.159</td><td>-185.783</td><td>0.122</td><td>1.546</td><td>1.198e+05</td><td>177.7</td><td>12.991280</td><td>0.003191</td><td>2.898e+04</td><td>117.8</td><td>14.183434</td><td>0.005222</td><td>3.126e+05</td><td>600.1</td><td>11.010447</td><td>0.004316</td><td>3.172986</td><td>--</td><td>--</td><td>--</td><td>--</td><td>69352460684085532</td><td>--</td><td>140546401</td><td>--</td><td>12.991280</td><td>0.003191</td><td>1.198e+05</td><td>246.06852120446</td><td>-32.20315778599</td></tr>\n",
       "</table>"
      ],
      "text/plain": [
       "<Table length=1>\n",
       "    RA_ICRS     e_RA_ICRS     DE_ICRS     ...     RAJ2000         DEJ2000    \n",
       "      deg          mas          deg       ...       deg             deg      \n",
       "    float64      float64      float64     ...     float64         float64    \n",
       "--------------- --------- --------------- ... --------------- ---------------\n",
       "246.06838564560    0.1190 -32.20398349011 ... 246.06852120446 -32.20315778599"
      ]
     },
     "execution_count": 6,
     "metadata": {},
     "output_type": "execute_result"
    }
   ],
   "source": [
    "result[2]"
   ]
  },
  {
   "cell_type": "code",
   "execution_count": 7,
   "metadata": {},
   "outputs": [],
   "source": [
    "#fcghj"
   ]
  },
  {
   "cell_type": "code",
   "execution_count": 8,
   "metadata": {},
   "outputs": [],
   "source": [
    "result_2 = Vizier.query_region(coord, radius=Angle(2, \"arcsec\"), catalog='PanSTARRS')\n"
   ]
  },
  {
   "cell_type": "code",
   "execution_count": 9,
   "metadata": {},
   "outputs": [],
   "source": [
    "result_3=Vizier.query_region(coord, radius=Angle(2, \"arcsec\"))"
   ]
  },
  {
   "cell_type": "code",
   "execution_count": 10,
   "metadata": {},
   "outputs": [
    {
     "data": {
      "text/html": [
       "<i>Table length=1</i>\n",
       "<table id=\"table140242193692512\" class=\"table-striped table-bordered table-condensed\">\n",
       "<thead><tr><th>recno</th><th>RAJ2000</th><th>DEJ2000</th><th>e_RAJ2000</th><th>e_DEJ2000</th><th>Field</th><th>nobs</th><th>mobs</th><th>B-V</th><th>e_B-V</th><th>Vmag</th><th>e_Vmag</th><th>Bmag</th><th>e_Bmag</th><th>g_mag</th><th>e_g_mag</th><th>r_mag</th><th>e_r_mag</th><th>i_mag</th><th>e_i_mag</th></tr></thead>\n",
       "<thead><tr><th></th><th>deg</th><th>deg</th><th>arcsec</th><th>arcsec</th><th></th><th></th><th></th><th>mag</th><th>mag</th><th>mag</th><th>mag</th><th>mag</th><th>mag</th><th>mag</th><th>mag</th><th>mag</th><th>mag</th><th>mag</th><th>mag</th></tr></thead>\n",
       "<thead><tr><th>int32</th><th>float64</th><th>float64</th><th>float32</th><th>float32</th><th>int64</th><th>int16</th><th>int16</th><th>float32</th><th>float32</th><th>float32</th><th>float32</th><th>float32</th><th>float32</th><th>float32</th><th>float32</th><th>float32</th><th>float32</th><th>float32</th><th>float32</th></tr></thead>\n",
       "<tr><td>53189753</td><td>246.068035</td><td>-32.203621</td><td>0.821</td><td>0.757</td><td>20161618</td><td>6</td><td>30</td><td>1.784</td><td>0.052</td><td>13.962</td><td>0.039</td><td>15.745</td><td>0.034</td><td>14.719</td><td>0.043</td><td>13.290</td><td>0.021</td><td>11.566</td><td>0.059</td></tr>\n",
       "</table>"
      ],
      "text/plain": [
       "<Table length=1>\n",
       " recno    RAJ2000    DEJ2000   e_RAJ2000 ...  r_mag  e_r_mag  i_mag  e_i_mag\n",
       "            deg        deg       arcsec  ...   mag     mag     mag     mag  \n",
       " int32    float64    float64    float32  ... float32 float32 float32 float32\n",
       "-------- ---------- ---------- --------- ... ------- ------- ------- -------\n",
       "53189753 246.068035 -32.203621     0.821 ...  13.290   0.021  11.566   0.059"
      ]
     },
     "execution_count": 10,
     "metadata": {},
     "output_type": "execute_result"
    }
   ],
   "source": [
    "result_3[10]"
   ]
  },
  {
   "cell_type": "code",
   "execution_count": 11,
   "metadata": {},
   "outputs": [
    {
     "data": {
      "text/plain": [
       "TableList with 22 tables:\n",
       "\t'0:I/317/sample' with 13 column(s) and 1 row(s) \n",
       "\t'1:I/322A/out' with 24 column(s) and 1 row(s) \n",
       "\t'2:I/324/igsl3' with 18 column(s) and 1 row(s) \n",
       "\t'3:I/327/cmc15' with 9 column(s) and 1 row(s) \n",
       "\t'4:I/345/gaia2' with 32 column(s) and 1 row(s) \n",
       "\t'5:I/350/gaiaedr3' with 39 column(s) and 1 row(s) \n",
       "\t'6:I/352/gedr3dis' with 10 column(s) and 1 row(s) \n",
       "\t'7:II/246/out' with 15 column(s) and 1 row(s) \n",
       "\t'8:II/311/wise' with 22 column(s) and 1 row(s) \n",
       "\t'9:II/328/allwise' with 28 column(s) and 1 row(s) \n",
       "\t'10:II/336/apass9' with 20 column(s) and 1 row(s) \n",
       "\t'11:II/349/ps1' with 35 column(s) and 1 row(s) \n",
       "\t'12:II/358/smss' with 30 column(s) and 1 row(s) \n",
       "\t'13:II/359/vhs_dr4' with 34 column(s) and 3 row(s) \n",
       "\t'14:II/363/unwise' with 11 column(s) and 1 row(s) \n",
       "\t'15:II/365/catwise' with 38 column(s) and 1 row(s) \n",
       "\t'16:II/367/vhs_dr5' with 38 column(s) and 3 row(s) \n",
       "\t'17:IV/38/tic' with 23 column(s) and 2 row(s) \n",
       "\t'18:VI/145/attitude' with 18 column(s) and 1 row(s) \n",
       "\t'19:B/denis/denis' with 15 column(s) and 2 row(s) \n",
       "\t'20:J/A+A/648/A44/tabled1' with 41 column(s) and 1 row(s) \n",
       "\t'21:J/MNRAS/458/3479/clasiii' with 19 column(s) and 1 row(s) "
      ]
     },
     "execution_count": 11,
     "metadata": {},
     "output_type": "execute_result"
    }
   ],
   "source": [
    "result_3"
   ]
  },
  {
   "cell_type": "code",
   "execution_count": 12,
   "metadata": {},
   "outputs": [
    {
     "data": {
      "text/plain": [
       "<bound method Table.values of <Table length=1>\n",
       "   RAJ2000       DEJ2000          objID       ...  yKmag  e_yKmag yFlags\n",
       "     deg           deg                        ...   mag     mag         \n",
       "   float64       float64          int64       ... float64 float32 int32 \n",
       "------------- ------------- ----------------- ... ------- ------- ------\n",
       "246.068410040 -32.203978830 69352460684085532 ...      --      --      0>"
      ]
     },
     "execution_count": 12,
     "metadata": {},
     "output_type": "execute_result"
    }
   ],
   "source": [
    "result_2[0].values"
   ]
  },
  {
   "cell_type": "code",
   "execution_count": 16,
   "metadata": {},
   "outputs": [
    {
     "data": {
      "text/html": [
       "<i>Table length=3</i>\n",
       "<table id=\"table140242194261184\" class=\"table-striped table-bordered table-condensed\">\n",
       "<thead><tr><th>SrcID</th><th>RAJ2000</th><th>DEJ2000</th><th>Name</th><th>PriOrSec</th><th>Y-Jpnt</th><th>J-Hpnt</th><th>H-Kspnt</th><th>J-Kspnt</th><th>Y-Jext</th><th>J-Hext</th><th>H-Ksext</th><th>J-Ksext</th><th>Mclass</th><th>AY</th><th>AJ</th><th>AH</th><th>AKs</th><th>_tab1_37</th><th>Yap3</th><th>Yapc3</th><th>Yavgap3</th><th>Yperrbits</th><th>_tab1_59</th><th>Jap3</th><th>Japc3</th><th>Javgap3</th><th>Jperrbits</th><th>_tab1_83</th><th>Hap3</th><th>Hapc3</th><th>Havgap3</th><th>Hperrbits</th><th>_tab1_107</th><th>Ksap3</th><th>Ksapc3</th><th>Ksavgap3</th><th>Ksperrbits</th></tr></thead>\n",
       "<thead><tr><th></th><th>deg</th><th>deg</th><th></th><th></th><th>mag</th><th>mag</th><th>mag</th><th>mag</th><th>mag</th><th>mag</th><th>mag</th><th>mag</th><th></th><th>mag</th><th>mag</th><th>mag</th><th>mag</th><th>mag</th><th>mag</th><th></th><th></th><th></th><th>mag</th><th>mag</th><th>mag</th><th></th><th></th><th>mag</th><th>mag</th><th>mag</th><th></th><th></th><th>mag</th><th>mag</th><th>mag</th><th></th><th></th></tr></thead>\n",
       "<thead><tr><th>int64</th><th>float64</th><th>float64</th><th>str23</th><th>int64</th><th>float64</th><th>float64</th><th>float64</th><th>float64</th><th>float64</th><th>float64</th><th>float64</th><th>float64</th><th>int16</th><th>float64</th><th>float64</th><th>float64</th><th>float64</th><th>float64</th><th>float64</th><th>float64</th><th>float64</th><th>int32</th><th>float64</th><th>float64</th><th>float64</th><th>float64</th><th>int32</th><th>float64</th><th>float64</th><th>float64</th><th>float64</th><th>int32</th><th>float64</th><th>float64</th><th>float64</th><th>float64</th><th>int32</th></tr></thead>\n",
       "<tr><td>473039104122</td><td>246.068484</td><td>-32.203998</td><td>VHS J162416.43-321214.3</td><td>0</td><td>--</td><td>--</td><td>--</td><td>0.7659</td><td>--</td><td>--</td><td>--</td><td>0.8288</td><td>-1</td><td>0.4162</td><td>0.2948</td><td>0.1881</td><td>0.1233</td><td>--</td><td>--</td><td>--</td><td>--</td><td>0</td><td>11.0050</td><td>11.8100</td><td>12.1576</td><td>100.441</td><td>16</td><td>--</td><td>--</td><td>--</td><td>--</td><td>0</td><td>9.9645</td><td>11.0440</td><td>11.3288</td><td>90.808</td><td>16</td></tr>\n",
       "<tr><td>473039482087</td><td>246.068079</td><td>-32.203910</td><td>VHS J162416.33-321214.0</td><td>0</td><td>--</td><td>--</td><td>--</td><td>--</td><td>--</td><td>--</td><td>--</td><td>--</td><td>1</td><td>0.4162</td><td>0.2948</td><td>0.1881</td><td>0.1233</td><td>--</td><td>--</td><td>--</td><td>--</td><td>0</td><td>--</td><td>--</td><td>--</td><td>--</td><td>0</td><td>--</td><td>--</td><td>--</td><td>--</td><td>0</td><td>11.1192</td><td>11.7247</td><td>12.0094</td><td>104.722</td><td>16</td></tr>\n",
       "<tr><td>473039482086</td><td>246.068198</td><td>-32.203665</td><td>VHS J162416.36-321213.1</td><td>0</td><td>--</td><td>--</td><td>--</td><td>--</td><td>--</td><td>--</td><td>--</td><td>--</td><td>-1</td><td>0.4162</td><td>0.2948</td><td>0.1881</td><td>0.1233</td><td>--</td><td>--</td><td>--</td><td>--</td><td>0</td><td>--</td><td>--</td><td>--</td><td>--</td><td>0</td><td>--</td><td>--</td><td>--</td><td>--</td><td>0</td><td>11.5815</td><td>11.4425</td><td>11.7272</td><td>104.512</td><td>16</td></tr>\n",
       "</table>"
      ],
      "text/plain": [
       "<Table length=3>\n",
       "   SrcID      RAJ2000    DEJ2000   ...  Ksapc3  Ksavgap3 Ksperrbits\n",
       "                deg        deg     ...   mag                       \n",
       "   int64      float64    float64   ... float64  float64    int32   \n",
       "------------ ---------- ---------- ... -------- -------- ----------\n",
       "473039104122 246.068484 -32.203998 ...  11.3288   90.808         16\n",
       "473039482087 246.068079 -32.203910 ...  12.0094  104.722         16\n",
       "473039482086 246.068198 -32.203665 ...  11.7272  104.512         16"
      ]
     },
     "execution_count": 16,
     "metadata": {},
     "output_type": "execute_result"
    }
   ],
   "source": [
    "#result_3[16]"
   ]
  },
  {
   "cell_type": "code",
   "execution_count": 14,
   "metadata": {},
   "outputs": [
    {
     "ename": "NameError",
     "evalue": "name 'dyguh' is not defined",
     "output_type": "error",
     "traceback": [
      "\u001b[0;31m---------------------------------------------------------------------------\u001b[0m",
      "\u001b[0;31mNameError\u001b[0m                                 Traceback (most recent call last)",
      "\u001b[0;32m<ipython-input-14-89fc4b3d529f>\u001b[0m in \u001b[0;36m<module>\u001b[0;34m\u001b[0m\n\u001b[0;32m----> 1\u001b[0;31m \u001b[0mdyguh\u001b[0m\u001b[0;34m\u001b[0m\u001b[0;34m\u001b[0m\u001b[0m\n\u001b[0m",
      "\u001b[0;31mNameError\u001b[0m: name 'dyguh' is not defined"
     ]
    }
   ],
   "source": [
    "dyguh"
   ]
  },
  {
   "cell_type": "code",
   "execution_count": null,
   "metadata": {},
   "outputs": [],
   "source": [
    "result_3 = Vizier.query_region(coord, radius=Angle(20, \"arcsec\"), catalog='USNO-B1.0')\n"
   ]
  },
  {
   "cell_type": "code",
   "execution_count": null,
   "metadata": {},
   "outputs": [],
   "source": [
    "result_3[0]\n"
   ]
  },
  {
   "cell_type": "code",
   "execution_count": null,
   "metadata": {},
   "outputs": [],
   "source": [
    "#GHJ"
   ]
  },
  {
   "cell_type": "code",
   "execution_count": null,
   "metadata": {},
   "outputs": [],
   "source": [
    "DATA_FOLDER='/users/caganze/research/J1624/data/'\n",
    "FIG_FOLDER='/users/caganze/research/J1624/figures/'"
   ]
  },
  {
   "cell_type": "code",
   "execution_count": null,
   "metadata": {},
   "outputs": [],
   "source": [
    "Vizier.ROW_LIMIT = -1 \n",
    "catalogs = Vizier.get_catalogs('J/AJ/157/231')"
   ]
  },
  {
   "cell_type": "code",
   "execution_count": null,
   "metadata": {},
   "outputs": [],
   "source": [
    "#kiman=catalogs[0].to_pandas()\n",
    "kiman_master=Table(fits.open(DATA_FOLDER+'/MLSDSSGaiaDR2.fits')[1].data)"
   ]
  },
  {
   "cell_type": "code",
   "execution_count": null,
   "metadata": {},
   "outputs": [],
   "source": [
    "keys0=[k for k in kiman_master.columns if k not in  ['PSFMAG', 'PSFMAG_ERR', 'EXTINCTION', 'MAG_2MASS', 'MAG_ERR_2MASS']]\n",
    "kiman=kiman_master[keys0].to_pandas()"
   ]
  },
  {
   "cell_type": "code",
   "execution_count": null,
   "metadata": {},
   "outputs": [],
   "source": [
    "lateMs=pd.read_excel(DATA_FOLDER+'/UCD_lateM_dwarf_precision_RV_20pc_thin_disk_population.xlsx')"
   ]
  },
  {
   "cell_type": "code",
   "execution_count": null,
   "metadata": {},
   "outputs": [],
   "source": [
    "cth=Table(fits.open(DATA_FOLDER+'/DR7_TOT_6_1.fits')[1].data)"
   ]
  },
  {
   "cell_type": "code",
   "execution_count": null,
   "metadata": {},
   "outputs": [],
   "source": [
    "keys=[k for k in cth.columns if k not in  ['PSFMAG', 'PSFMAGERR', 'EXTINCTION']]"
   ]
  },
  {
   "cell_type": "code",
   "execution_count": null,
   "metadata": {},
   "outputs": [],
   "source": [
    "theissen=cth[keys].to_pandas()"
   ]
  },
  {
   "cell_type": "code",
   "execution_count": null,
   "metadata": {},
   "outputs": [],
   "source": [
    "merged=pd.merge(theissen, kiman,  how='left', on=['MJD', 'FIBER', 'PLATE'],  validate='one_to_one')"
   ]
  },
  {
   "cell_type": "code",
   "execution_count": null,
   "metadata": {},
   "outputs": [],
   "source": [
    "len(merged), len(kiman), len(theissen)"
   ]
  },
  {
   "cell_type": "code",
   "execution_count": null,
   "metadata": {},
   "outputs": [],
   "source": [
    "#merged.EWHA_x"
   ]
  },
  {
   "cell_type": "code",
   "execution_count": null,
   "metadata": {},
   "outputs": [],
   "source": [
    "plt.plot(merged.RA_x, merged.RA_y)\n",
    "plt.plot(merged.DEC_x, merged.DEC_y)"
   ]
  },
  {
   "cell_type": "code",
   "execution_count": null,
   "metadata": {},
   "outputs": [],
   "source": []
  },
  {
   "cell_type": "code",
   "execution_count": null,
   "metadata": {},
   "outputs": [],
   "source": [
    "gcs=Vizier.get_catalogs('J/A+A/530/A138')"
   ]
  },
  {
   "cell_type": "code",
   "execution_count": null,
   "metadata": {},
   "outputs": [],
   "source": [
    "#cross-match with merged\n",
    "\n",
    "gcs[0]"
   ]
  },
  {
   "cell_type": "code",
   "execution_count": null,
   "metadata": {},
   "outputs": [],
   "source": [
    "\n",
    "coo_gcs = SkyCoord(gcs[0]['RAJ2000'], gcs[0]['DEJ2000'], unit=(u.hourangle, u.deg), obstime=\"J2000\")\n",
    "coo_gaia = SkyCoord(merged.RA_x.values*u.deg, merged.DEC_x.values*u.deg, obstime='J2000')\n"
   ]
  },
  {
   "cell_type": "code",
   "execution_count": null,
   "metadata": {},
   "outputs": [],
   "source": [
    "#coo_gcs.ra"
   ]
  },
  {
   "cell_type": "code",
   "execution_count": null,
   "metadata": {},
   "outputs": [],
   "source": [
    "#SkyCoord?"
   ]
  },
  {
   "cell_type": "code",
   "execution_count": null,
   "metadata": {},
   "outputs": [],
   "source": [
    "idx_sdss, d2d_sdss, d3d_sdss = coo_gaia.match_to_catalog_sky(coo_gcs)\n"
   ]
  },
  {
   "cell_type": "code",
   "execution_count": null,
   "metadata": {},
   "outputs": [],
   "source": [
    "d2d_sdss.arcsec"
   ]
  },
  {
   "cell_type": "code",
   "execution_count": null,
   "metadata": {},
   "outputs": [],
   "source": [
    "plt.hist(d2d_sdss.arcsec, histtype='step', range=(0,100))\n",
    "plt.xlabel('separation [arcsec]')\n",
    "plt.tight_layout()"
   ]
  },
  {
   "cell_type": "code",
   "execution_count": null,
   "metadata": {},
   "outputs": [],
   "source": [
    "result_2 = Vizier.query_region(coord, radius=Angle(2, \"arcsec\"), catalog='PanSTARRS')\n"
   ]
  },
  {
   "cell_type": "code",
   "execution_count": null,
   "metadata": {},
   "outputs": [],
   "source": [
    "cro\n"
   ]
  },
  {
   "cell_type": "code",
   "execution_count": null,
   "metadata": {},
   "outputs": [],
   "source": [
    "#cross-match with merged\n",
    "\n",
    "#plt.hist(gcs[0]['Teff'], range=(300))"
   ]
  },
  {
   "cell_type": "code",
   "execution_count": null,
   "metadata": {},
   "outputs": [],
   "source": [
    "#gcs[0].to_pandas().to_csv(DATA_FOLDER+'/gcs_catalog.csv')"
   ]
  },
  {
   "cell_type": "code",
   "execution_count": null,
   "metadata": {},
   "outputs": [],
   "source": [
    "#DATA_FOLDER+'/gcs_catalog.csv'"
   ]
  },
  {
   "cell_type": "code",
   "execution_count": null,
   "metadata": {},
   "outputs": [],
   "source": [
    "#merged.to_hdf(DATA_FOLDER+'/merged_Mdwarfs.h5', key='merged')"
   ]
  },
  {
   "cell_type": "code",
   "execution_count": null,
   "metadata": {},
   "outputs": [],
   "source": [
    "#merged"
   ]
  },
  {
   "cell_type": "code",
   "execution_count": null,
   "metadata": {},
   "outputs": [],
   "source": [
    "#merged[['RA_x', 'DEC_x', 'OBJID']].to_csv(DATA_FOLDER+'/merged_ra_dec_objid.ascii')"
   ]
  },
  {
   "cell_type": "code",
   "execution_count": null,
   "metadata": {},
   "outputs": [],
   "source": [
    "merged.age"
   ]
  },
  {
   "cell_type": "code",
   "execution_count": null,
   "metadata": {},
   "outputs": [],
   "source": []
  }
 ],
 "metadata": {
  "kernelspec": {
   "display_name": "Python 3",
   "language": "python",
   "name": "python3"
  },
  "language_info": {
   "codemirror_mode": {
    "name": "ipython",
    "version": 3
   },
   "file_extension": ".py",
   "mimetype": "text/x-python",
   "name": "python",
   "nbconvert_exporter": "python",
   "pygments_lexer": "ipython3",
   "version": "3.8.5"
  }
 },
 "nbformat": 4,
 "nbformat_minor": 4
}
