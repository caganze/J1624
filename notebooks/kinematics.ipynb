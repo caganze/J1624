{
 "cells": [
  {
   "cell_type": "code",
   "execution_count": 7,
   "metadata": {},
   "outputs": [],
   "source": [
    "import pandas as pd\n",
    "from astropy.io import fits\n",
    "import numpy as np\n",
    "import matplotlib.pyplot as plt\n",
    "import splat\n",
    "import numpy\n",
    "import astropy.units as u\n",
    "from astropy import constants as const \n",
    "import copy\n",
    "from scipy.integrate import trapz        # for numerical integration\n",
    "from scipy.interpolate import interp1d\n",
    "from astropy.coordinates import SkyCoord, CylindricalDifferential\n",
    "import pandas as pd\n",
    "%matplotlib inline"
   ]
  },
  {
   "cell_type": "code",
   "execution_count": 8,
   "metadata": {},
   "outputs": [],
   "source": [
    "DATA_FOLDER='/users/caganze/research/J1624/data/'"
   ]
  },
  {
   "cell_type": "code",
   "execution_count": 9,
   "metadata": {},
   "outputs": [],
   "source": [
    "#nearby M dwarfs\n",
    "df=pd.read_excel(DATA_FOLDER+'UCD_lateM_dwarf_precision_RV_20pc_thin_disk_population.xlsx')"
   ]
  },
  {
   "cell_type": "code",
   "execution_count": 10,
   "metadata": {},
   "outputs": [],
   "source": [
    "import numpy as np\n",
    "from astropy import units as u\n",
    "from astropy.coordinates import SkyCoord\n",
    "from astropy.coordinates import FK5\n",
    "\n",
    "def compute_uvw_velocity(ra_J2000, dec_J2000, parallax, rv, mu_ra, mu_dec, e_parallax, e_rv, e_mu_ra, e_mu_dec, correct_lsr=True):\n",
    "\t\"\"\"\n",
    "\tCompute the Galactic UVW space velocity based on the formulation in Johnson and Soderblom (1987).\n",
    "\tParameters\n",
    "\t----------\n",
    "\tra \t\t\t:\tfloat\n",
    "\t\t\t\t\tRA of the source in degrees\n",
    "\tdec \t\t:\tfloat\n",
    "\t\t\t\t\tDec of the source in degrees\n",
    "\tparallax\t:\tfloat\n",
    "\t\t\t\t\tthe parallax in mas\n",
    "\trv\t\t\t:\tfloat\n",
    "\t\t\t\t\tthe radial velocity in km/s\n",
    "\tmu_ra\t\t:\tfloat\n",
    "\t\t\t\t\tthe proper motion in right ascension in mas/yr\n",
    "\tmu_dec\t\t:\tfloat\n",
    "\t\t\t\t\tthe proper motion in declination in mas/yr\n",
    "\te_parallax\t:\tfloat\n",
    "\t\t\t\t\tthe error of parallax in mas\n",
    "\te_rv\t\t:\tfloat\n",
    "\t\t\t\t\tthe error of radial velocity in km/s\n",
    "\te_mu_ra\t\t:\tfloat\n",
    "\t\t\t\t\tthe error of proper motion in right ascension in mas/yr\n",
    "\te_mu_dec\t:\tfloat\n",
    "\t\t\t\t\tthe error of proper motion in declination in mas/yr\n",
    "\tOptional Parameters\n",
    "\t-------------------\n",
    "\tcorrect_lsr\t:\tbool\n",
    "\t\t\t\t\tIf True: uvw corrected to the LSR\n",
    "\tReturns\n",
    "\t-------\n",
    "\tuvw \t\t:\tarray-like\n",
    "\t\t\t\t\tUVW velocities in km/s\n",
    "\te_uvw \t\t:\tarray-like\n",
    "\t\t\t\t\terrors of UVW velocities in km/s\n",
    "\t\"\"\"\n",
    "\t## convert proper motions and parallax from mas to arcsec\n",
    "\tparallax   /= 1000\n",
    "\tmu_ra \t   /= 1000\n",
    "\tmu_dec \t   /= 1000\n",
    "\n",
    "\te_parallax /= 1000\n",
    "\te_mu_ra    /= 1000\n",
    "\te_mu_dec   /= 1000\n",
    "\n",
    "\t## convert ra and dec into radians (the paper uses equinox 1950)\n",
    "\tcoord_J2000 = SkyCoord(ra_J2000*u.deg, dec_J2000*u.deg, unit='deg', frame='icrs')\n",
    "\n",
    "\tcoord_J1950 = coord_J2000.transform_to(FK5(equinox='J1950.0'))\n",
    "\n",
    "\tra          = coord_J1950.ra.value\n",
    "\tdec         = coord_J1950.dec.value\n",
    "\n",
    "\t## degree to radian conversion\n",
    "\tdeg_to_rad  = np.pi/180\n",
    "\n",
    "\t## define the A matrix\n",
    "\tA_ra      = np.array([\t[\t+np.cos(ra*deg_to_rad),\t\t+np.sin(ra*deg_to_rad),\t0],\n",
    "\t\t\t\t\t\t\t[\t+np.sin(ra*deg_to_rad),\t\t-np.cos(ra*deg_to_rad),\t0],\n",
    "\t\t\t\t\t\t\t[\t\t\t\t\t\t 0,\t\t\t\t\t\t\t0, -1]])\n",
    "\n",
    "\tA_dec\t  = np.array([\t[\t+np.cos(dec*deg_to_rad),\t 0,\t-np.sin(dec*deg_to_rad)],\n",
    "\t\t\t\t\t\t\t[\t\t\t\t\t\t  0, \t-1,\t\t\t\t\t\t  0],\n",
    "\t\t\t\t\t\t\t[\t-np.sin(dec*deg_to_rad),\t 0,\t-np.cos(dec*deg_to_rad)]])\n",
    "\n",
    "\tA         = A_ra.dot(A_dec)\n",
    "\n",
    "\t#A0 \t\t= np.array([[ \t+np.cos(ra*deg_to_rad)*np.cos(dec*deg_to_rad), -np.sin(ra*deg_to_rad), -np.cos(ra*deg_to_rad)*np.sin(dec*deg_to_rad)],\n",
    "\t#\t\t\t\t\t[\t+np.sin(ra*deg_to_rad)*np.cos(dec*deg_to_rad), +np.cos(ra*deg_to_rad), -np.sin(ra*deg_to_rad)*np.sin(dec*deg_to_rad)],\n",
    "\t#\t\t\t\t\t[\t+np.sin(dec*deg_to_rad) \t\t\t\t\t , \t\t\t\t   \t    0, +np.cos(dec*deg_to_rad)\t\t\t\t\t   ]])\n",
    "\n",
    "\t## define RA and Dec for the North Galactic Pole (NGP) in degrees\n",
    "\tra_ngp  = 192.25\n",
    "\tdec_ngp = 27.4\n",
    "\ttheta0  = 123 # the position angle of NGP relative to great semi-circle of the North Celetial Pole and the zero Galactic longitude\n",
    "\t\n",
    "\tT1      = np.array([[  +np.cos(theta0*deg_to_rad), +np.sin(theta0*deg_to_rad),  0],\n",
    "\t\t\t\t\t\t[  +np.sin(theta0*deg_to_rad), -np.cos(theta0*deg_to_rad),  0],\n",
    "\t\t\t\t\t\t[  \t\t\t\t\t\t    0,\t\t\t \t\t\t \t0,  +1]])\n",
    "\n",
    "\tT2      = np.array([[-np.sin(dec_ngp*deg_to_rad),  0, +np.cos(dec_ngp*deg_to_rad)],\n",
    "\t\t\t\t\t\t[\t\t\t\t\t\t   0, -1, \t\t\t\t\t\t  \t0],\n",
    "\t\t\t\t\t\t[+np.cos(dec_ngp*deg_to_rad),  0, +np.sin(dec_ngp*deg_to_rad)]])\n",
    "\n",
    "\tT3      = np.array([[  +np.cos(ra_ngp*deg_to_rad), +np.sin(ra_ngp*deg_to_rad),  0],\n",
    "\t\t\t\t\t\t[  +np.sin(ra_ngp*deg_to_rad), -np.cos(ra_ngp*deg_to_rad),  0],\n",
    "\t\t\t\t\t\t[\t\t\t\t\t\t    0,\t\t\t\t\t\t    0, +1]])\n",
    "\n",
    "\t## define the T matrix\n",
    "\tT       = T1.dot(T2.dot(T3))\n",
    "\n",
    "\t## B matrix = TA\n",
    "\tB       = T.dot(A)\n",
    "\n",
    "\t## uvw matrix\n",
    "\tk       = 1.4959787 * 10**8 / 365.24219879 / 24 /3600 #4.74057 # AU/tropical yr (km/s)\n",
    "\tuvw     = B.dot(np.array([\t[rv], \n",
    "\t\t\t\t\t\t\t\t[k * mu_ra \t/ parallax], \n",
    "\t\t\t\t\t\t\t\t[k * mu_dec / parallax]]))\n",
    "\n",
    "\t## solar uvw from Schonrich et al. (2010)\n",
    "\tuvw_solar = np.array([\t[11.1],\t[12.24], [7.25]\t])\n",
    "\n",
    "\tC       = B**2\n",
    "\te_uvw2  = C.dot(np.array([\t[ e_rv**2], \n",
    "\t\t\t\t\t\t\t\t[ (k/parallax)**2 * ( e_mu_ra**2  + ( mu_ra  * e_parallax / parallax )**2 )], \n",
    "\t\t\t\t\t\t\t\t[ (k/parallax)**2 * ( e_mu_dec**2 + ( mu_dec * e_parallax / parallax )**2 )]\t])) \\\n",
    "\t\t\t\t\t+ 2 * mu_ra * mu_dec * k**2 * e_parallax**2 / parallax**4 * \\\n",
    "\t\t\t\t\tnp.array([ \t[ B[0][1]*B[0][2] ], \n",
    "\t\t\t\t\t\t\t\t[ B[1][1]*B[1][2] ], \n",
    "\t\t\t\t\t\t\t\t[ B[2][1]*B[2][2] ] ])\n",
    "\n",
    "\tif correct_lsr: uvw += uvw_solar\n",
    "\n",
    "\treturn uvw, np.sqrt(e_uvw2)"
   ]
  },
  {
   "cell_type": "code",
   "execution_count": 224,
   "metadata": {},
   "outputs": [],
   "source": [
    "def compute_pm_from_uvw(ra_J2000, dec_J2000, parallax, uvw, correct_lsr=True):\n",
    "    \"\"\"\n",
    "    Compute the Galactic UVW space velocity based on the formulation in Johnson and Soderblom (1987).\n",
    "    Parameters\n",
    "    ----------\n",
    "    ra \t\t\t:\tfloat\n",
    "                    RA of the source in degrees\n",
    "    dec \t\t:\tfloat\n",
    "                    Dec of the source in degrees\n",
    "    parallax\t:\tfloat\n",
    "                    the parallax in mas\n",
    "    rv\t\t\t:\tfloat\n",
    "                    the radial velocity in km/s\n",
    "    mu_ra\t\t:\tfloat\n",
    "                    the proper motion in right ascension in mas/yr\n",
    "    mu_dec\t\t:\tfloat\n",
    "                    the proper motion in declination in mas/yr\n",
    "    e_parallax\t:\tfloat\n",
    "                    the error of parallax in mas\n",
    "    e_rv\t\t:\tfloat\n",
    "                    the error of radial velocity in km/s\n",
    "    e_mu_ra\t\t:\tfloat\n",
    "                    the error of proper motion in right ascension in mas/yr\n",
    "    e_mu_dec\t:\tfloat\n",
    "                    the error of proper motion in declination in mas/yr\n",
    "    Optional Parameters\n",
    "    -------------------\n",
    "    correct_lsr\t:\tbool\n",
    "                    If True: uvw corrected to the LSR\n",
    "    Returns\n",
    "    -------\n",
    "    uvw \t\t:\tarray-like\n",
    "                    UVW velocities in km/s\n",
    "    e_uvw \t\t:\tarray-like\n",
    "                    errors of UVW velocities in km/s\n",
    "    \"\"\"\n",
    "    ## convert proper motions and parallax from mas to arcsec\n",
    "    parallax   /= 1000\n",
    "    #mu_ra \t   /= 1000\n",
    "    #mu_dec \t   /= 1000\n",
    "\n",
    "    #e_parallax /= 1000\n",
    "    #e_mu_ra    /= 1000\n",
    "    #e_mu_dec   /= 1000\n",
    "\n",
    "    ## convert ra and dec into radians (the paper uses equinox 1950)\n",
    "    coord_J2000 = SkyCoord(ra_J2000*u.deg, dec_J2000*u.deg, unit='deg', frame='icrs')\n",
    "\n",
    "    coord_J1950 = coord_J2000.transform_to(FK5(equinox='J1950.0'))\n",
    "\n",
    "    ra          = coord_J1950.ra.value\n",
    "    dec         = coord_J1950.dec.value\n",
    "\n",
    "    ## degree to radian conversion\n",
    "    deg_to_rad  = np.pi/180\n",
    "\n",
    "    ## define the A matrix\n",
    "    A_ra      = np.array([\t[\t+np.cos(ra*deg_to_rad),\t\t+np.sin(ra*deg_to_rad),\t0],\n",
    "                            [\t+np.sin(ra*deg_to_rad),\t\t-np.cos(ra*deg_to_rad),\t0],\n",
    "                            [\t\t\t\t\t\t 0,\t\t\t\t\t\t\t0, -1]])\n",
    "\n",
    "    A_dec\t  = np.array([\t[\t+np.cos(dec*deg_to_rad),\t 0,\t-np.sin(dec*deg_to_rad)],\n",
    "                            [\t\t\t\t\t\t  0, \t-1,\t\t\t\t\t\t  0],\n",
    "                            [\t-np.sin(dec*deg_to_rad),\t 0,\t-np.cos(dec*deg_to_rad)]])\n",
    "\n",
    "    A         = A_ra.dot(A_dec)\n",
    "\n",
    "    #A0 \t\t= np.array([[ \t+np.cos(ra*deg_to_rad)*np.cos(dec*deg_to_rad), -np.sin(ra*deg_to_rad), -np.cos(ra*deg_to_rad)*np.sin(dec*deg_to_rad)],\n",
    "    #\t\t\t\t\t[\t+np.sin(ra*deg_to_rad)*np.cos(dec*deg_to_rad), +np.cos(ra*deg_to_rad), -np.sin(ra*deg_to_rad)*np.sin(dec*deg_to_rad)],\n",
    "    #\t\t\t\t\t[\t+np.sin(dec*deg_to_rad) \t\t\t\t\t , \t\t\t\t   \t    0, +np.cos(dec*deg_to_rad)\t\t\t\t\t   ]])\n",
    "\n",
    "    ## define RA and Dec for the North Galactic Pole (NGP) in degrees\n",
    "    ra_ngp  = 192.25\n",
    "    dec_ngp = 27.4\n",
    "    theta0  = 123 # the position angle of NGP relative to great semi-circle of the North Celetial Pole and the zero Galactic longitude\n",
    "\n",
    "    T1      = np.array([[  +np.cos(theta0*deg_to_rad), +np.sin(theta0*deg_to_rad),  0],\n",
    "                        [  +np.sin(theta0*deg_to_rad), -np.cos(theta0*deg_to_rad),  0],\n",
    "                        [  \t\t\t\t\t\t    0,\t\t\t \t\t\t \t0,  +1]])\n",
    "\n",
    "    T2      = np.array([[-np.sin(dec_ngp*deg_to_rad),  0, +np.cos(dec_ngp*deg_to_rad)],\n",
    "                        [\t\t\t\t\t\t   0, -1, \t\t\t\t\t\t  \t0],\n",
    "                        [+np.cos(dec_ngp*deg_to_rad),  0, +np.sin(dec_ngp*deg_to_rad)]])\n",
    "\n",
    "    T3      = np.array([[  +np.cos(ra_ngp*deg_to_rad), +np.sin(ra_ngp*deg_to_rad),  0],\n",
    "                        [  +np.sin(ra_ngp*deg_to_rad), -np.cos(ra_ngp*deg_to_rad),  0],\n",
    "                        [\t\t\t\t\t\t    0,\t\t\t\t\t\t    0, +1]])\n",
    "\n",
    "    ## define the T matrix\n",
    "\n",
    "    T       = T1 @ T2 @ T3\n",
    "\n",
    "\n",
    "    ## B matrix = TA\n",
    "    B       = T @ A\n",
    "    uvw_solar = np.array([\t[11.1],\t[12.24], [7.25]\t])\n",
    "\n",
    "    if correct_lsr: uvw += uvw_solar\n",
    "        \n",
    "    print (np.vstack(B).T)\n",
    "    \n",
    "    Bm= B.reshape(-1, B.shape[0], B.shape[-1])\n",
    "    \n",
    "    print (np.shape(Bm), np.shape(uvw))\n",
    "    motion=np.linalg.solve(Bm,uvw)\n",
    "\n",
    "    ## uvw matrix\n",
    "    k       = 1.4959787 * 10**8 / 365.24219879 / 24 /3600 #4.74057 # AU/tropical yr (km/s)\n",
    "    rv=motion[:,0]\n",
    "    mu_ra=motion[:,1]/(k*parallax)\n",
    "    mu_dec=motion[:,-1]/(k*parallax)\n",
    "    vtan=np.sqrt(k* (mu_ra**2+ mu_dec**2))*parallax\n",
    "    return np.array([rv, mu_ra, mu_dec, vtan])"
   ]
  },
  {
   "cell_type": "code",
   "execution_count": null,
   "metadata": {},
   "outputs": [],
   "source": []
  },
  {
   "cell_type": "code",
   "execution_count": 233,
   "metadata": {},
   "outputs": [],
   "source": [
    "#double-check for trappist one\n",
    "trap= SkyCoord(ra=346.6250957*u.deg, dec=-5.0428081*u.deg,  \n",
    "               radial_velocity=-51*u.km/u.s,  pm_ra_cosdec=(922.0*u.mas/u.yr)*np.cos(-5.0428081*u.deg.to(u.radian)),\n",
    "               pm_dec=-471.9*u.mas/u.yr, distance=12.49*u.pc)\n",
    "#proper_motion_to_uvw(trap, 922.0*1e-3, 471.9*1e-3, -51.688, 80.09*1e-3\n",
    "from astropy.coordinates import (CartesianRepresentation,CartesianDifferential)\n"
   ]
  },
  {
   "cell_type": "code",
   "execution_count": 234,
   "metadata": {},
   "outputs": [
    {
     "data": {
      "text/plain": [
       "(array([[-43.74782869],\n",
       "        [-65.85697762],\n",
       "        [ 10.41498636]]),\n",
       " array([[0.],\n",
       "        [0.],\n",
       "        [0.]]))"
      ]
     },
     "execution_count": 234,
     "metadata": {},
     "output_type": "execute_result"
    }
   ],
   "source": [
    "compute_uvw_velocity(346.6250957, -5.0428081, 80.09,\n",
    "                     -51, 922.0, -471.9,   0.0,  0.0, 0.0, 0.0, correct_lsr=False)"
   ]
  },
  {
   "cell_type": "code",
   "execution_count": 155,
   "metadata": {},
   "outputs": [],
   "source": [
    "ras=np.ones(10)*346.6250957\n",
    "decs=np.ones(10)*-5.0428081\n",
    "ds=np.ones(10)*12.49\n",
    "ux=np.ones(10)*-43.74782869\n",
    "vx=np.ones(10)*-65.85697762\n",
    "wx=np.ones(10)*10.41498636"
   ]
  },
  {
   "cell_type": "code",
   "execution_count": 156,
   "metadata": {},
   "outputs": [
    {
     "data": {
      "text/plain": [
       "((10, 2, 2), (10, 2))"
      ]
     },
     "execution_count": 156,
     "metadata": {},
     "output_type": "execute_result"
    }
   ],
   "source": [
    "np.shape(A_list), np.shape(B_list)"
   ]
  },
  {
   "cell_type": "code",
   "execution_count": 15,
   "metadata": {},
   "outputs": [],
   "source": [
    "import popsims"
   ]
  },
  {
   "cell_type": "code",
   "execution_count": 157,
   "metadata": {},
   "outputs": [],
   "source": [
    "vel=np.array([[-43.74782869, -65.85697762, 10.41498636]])"
   ]
  },
  {
   "cell_type": "code",
   "execution_count": 185,
   "metadata": {},
   "outputs": [
    {
     "data": {
      "text/plain": [
       "10"
      ]
     },
     "execution_count": 185,
     "metadata": {},
     "output_type": "execute_result"
    }
   ],
   "source": [
    "np.shape(np.vstack([ux, vx, wx]))[-1]"
   ]
  },
  {
   "cell_type": "code",
   "execution_count": 235,
   "metadata": {},
   "outputs": [
    {
     "name": "stdout",
     "output_type": "stream",
     "text": [
      "[[ 0.19060852  0.51568714 -0.83530543]\n",
      " [-0.86298271 -0.31754911 -0.39296745]\n",
      " [-0.46789875  0.79575708  0.38450152]]\n",
      "(1, 3, 3) (1, 3)\n"
     ]
    },
    {
     "data": {
      "text/plain": [
       "array([[ -51.        ],\n",
       "       [ 921.7012766 ],\n",
       "       [-471.74710682],\n",
       "       [  28.15730639]])"
      ]
     },
     "execution_count": 235,
     "metadata": {},
     "output_type": "execute_result"
    }
   ],
   "source": [
    "compute_pm_from_uvw(346.6250957, -5.0428081,12.49, vel, correct_lsr=False)"
   ]
  },
  {
   "cell_type": "code",
   "execution_count": 236,
   "metadata": {},
   "outputs": [],
   "source": [
    "#A_list"
   ]
  },
  {
   "cell_type": "code",
   "execution_count": 237,
   "metadata": {},
   "outputs": [],
   "source": [
    "#B_list"
   ]
  },
  {
   "cell_type": "code",
   "execution_count": 205,
   "metadata": {},
   "outputs": [],
   "source": [
    "Bm=np.array([[ux], [vx], [wx]])"
   ]
  },
  {
   "cell_type": "code",
   "execution_count": 238,
   "metadata": {},
   "outputs": [],
   "source": [
    "#Bm.T"
   ]
  },
  {
   "cell_type": "code",
   "execution_count": 239,
   "metadata": {},
   "outputs": [
    {
     "data": {
      "text/plain": [
       "((10, 2, 2), (10, 1, 3), (10, 2), (10, 3))"
      ]
     },
     "execution_count": 239,
     "metadata": {},
     "output_type": "execute_result"
    }
   ],
   "source": [
    "np.shape(A_list), np.shape(Bm.T), np.shape(B_list), np.shape(np.vstack([ux, vx, wx]).T)"
   ]
  },
  {
   "cell_type": "code",
   "execution_count": 250,
   "metadata": {},
   "outputs": [],
   "source": [
    "#"
   ]
  },
  {
   "cell_type": "code",
   "execution_count": 248,
   "metadata": {},
   "outputs": [
    {
     "name": "stdout",
     "output_type": "stream",
     "text": [
      "[[ 0.19060852  0.51568714 -0.83530543]\n",
      " [-0.86298271 -0.31754911 -0.39296745]\n",
      " [-0.46789875  0.79575708  0.38450152]]\n",
      "(1, 3, 3) (1, 3)\n"
     ]
    },
    {
     "data": {
      "text/plain": [
       "array([[-5.10000000e+01],\n",
       "       [ 9.21701277e+50],\n",
       "       [-4.71747107e+50],\n",
       "       [ 2.81573064e+01]])"
      ]
     },
     "execution_count": 248,
     "metadata": {},
     "output_type": "execute_result"
    }
   ],
   "source": [
    "compute_pm_from_uvw(ras[0], decs[0], ds[0], \\\n",
    "                   vel, correct_lsr=False)"
   ]
  },
  {
   "cell_type": "code",
   "execution_count": 64,
   "metadata": {},
   "outputs": [
    {
     "data": {
      "text/plain": [
       "(346.6250957,\n",
       " -5.0428081,\n",
       " 1.2489999999999999e-05,\n",
       " -43.74782869,\n",
       " -65.85697762,\n",
       " 10.41498636)"
      ]
     },
     "execution_count": 64,
     "metadata": {},
     "output_type": "execute_result"
    }
   ],
   "source": [
    "ras[0], decs[0], ds[0], ux[0], vs[0], ws[0],"
   ]
  },
  {
   "cell_type": "code",
   "execution_count": 87,
   "metadata": {},
   "outputs": [],
   "source": [
    "np.random.seed(11)\n",
    "k = 10\n",
    "A_list = np.random.rand(k,2,2)\n",
    "B_list = np.random.rand(k,2)\n",
    "solution = np.linalg.solve(A_list,B_list)"
   ]
  },
  {
   "cell_type": "code",
   "execution_count": 97,
   "metadata": {},
   "outputs": [
    {
     "data": {
      "text/plain": [
       "array([[0.06368643, 0.36461564],\n",
       "       [0.0700228 , 0.31936771],\n",
       "       [0.0703826 , 0.29026367],\n",
       "       [0.79010112, 0.90540032],\n",
       "       [0.79262139, 0.56181871],\n",
       "       [0.61601839, 0.36148354],\n",
       "       [0.1688173 , 0.43624093],\n",
       "       [0.73282534, 0.06288762],\n",
       "       [0.02073298, 0.77054807],\n",
       "       [0.29995201, 0.70116428]])"
      ]
     },
     "execution_count": 97,
     "metadata": {},
     "output_type": "execute_result"
    }
   ],
   "source": [
    "B_list"
   ]
  },
  {
   "cell_type": "code",
   "execution_count": 119,
   "metadata": {},
   "outputs": [
    {
     "data": {
      "text/plain": [
       "array([[[0.18026969, 0.01947524],\n",
       "        [0.46321853, 0.72493393]],\n",
       "\n",
       "       [[0.4202036 , 0.4854271 ],\n",
       "        [0.01278081, 0.48737161]],\n",
       "\n",
       "       [[0.94180665, 0.85079509],\n",
       "        [0.72996447, 0.10873607]],\n",
       "\n",
       "       [[0.89390417, 0.85715425],\n",
       "        [0.16508662, 0.63233401]],\n",
       "\n",
       "       [[0.02048361, 0.11673727],\n",
       "        [0.31636731, 0.15791231]],\n",
       "\n",
       "       [[0.75897959, 0.81827536],\n",
       "        [0.34462449, 0.3187988 ]],\n",
       "\n",
       "       [[0.11166123, 0.08395314],\n",
       "        [0.71272594, 0.5995434 ]],\n",
       "\n",
       "       [[0.05567368, 0.47979728],\n",
       "        [0.40167648, 0.847979  ]],\n",
       "\n",
       "       [[0.71784918, 0.60206405],\n",
       "        [0.55238382, 0.9491024 ]],\n",
       "\n",
       "       [[0.98667333, 0.33805405],\n",
       "        [0.23987468, 0.79643575]]])"
      ]
     },
     "execution_count": 119,
     "metadata": {},
     "output_type": "execute_result"
    }
   ],
   "source": [
    "A_list"
   ]
  },
  {
   "cell_type": "code",
   "execution_count": 120,
   "metadata": {},
   "outputs": [
    {
     "data": {
      "text/plain": [
       "(10, 2, 2)"
      ]
     },
     "execution_count": 120,
     "metadata": {},
     "output_type": "execute_result"
    }
   ],
   "source": [
    "np.shape(A_list)"
   ]
  },
  {
   "cell_type": "code",
   "execution_count": null,
   "metadata": {},
   "outputs": [],
   "source": [
    "\n",
    "#rv_unc=0.13\n",
    "\n",
    "#rvs=np.random.normal(0.3, 0.13, 1000)\n",
    "\n",
    "#ms=np.array([proper_motion_to_uvw(coord, x, -25.81/100, -185.78) for x in rvs])"
   ]
  },
  {
   "cell_type": "code",
   "execution_count": null,
   "metadata": {},
   "outputs": [],
   "source": []
  },
  {
   "cell_type": "code",
   "execution_count": null,
   "metadata": {},
   "outputs": [],
   "source": []
  },
  {
   "cell_type": "code",
   "execution_count": null,
   "metadata": {},
   "outputs": [],
   "source": [
    "tarvx, tarvy, tarvz"
   ]
  },
  {
   "cell_type": "code",
   "execution_count": null,
   "metadata": {},
   "outputs": [],
   "source": [
    "compute_uvw_velocity("
   ]
  },
  {
   "cell_type": "code",
   "execution_count": null,
   "metadata": {},
   "outputs": [],
   "source": [
    "tarvx, tarvy, tarvz"
   ]
  },
  {
   "cell_type": "code",
   "execution_count": null,
   "metadata": {},
   "outputs": [],
   "source": [
    "from astroquery.vizier import Vizier\n",
    "from astropy.coordinates import Angle\n",
    "result = Vizier.query_region(coord, radius=Angle(2, \"arcsec\"), catalog='Gaia')"
   ]
  },
  {
   "cell_type": "code",
   "execution_count": null,
   "metadata": {},
   "outputs": [],
   "source": [
    "result[2]"
   ]
  },
  {
   "cell_type": "code",
   "execution_count": null,
   "metadata": {},
   "outputs": [],
   "source": [
    "result[2]['Plx'][0]"
   ]
  },
  {
   "cell_type": "code",
   "execution_count": null,
   "metadata": {},
   "outputs": [],
   "source": [
    "compute_uvw_velocity(result[2]['RA_ICRS'][0], result[2]['DE_ICRS'][0], \n",
    "                     result[2]['Plx'][0], 0.23, result[2]['pmRA'][0], result[2]['pmDE'][0], \n",
    "                     result[2]['e_Plx'][0], \n",
    "                     0.07,  result[2]['e_pmRA'][0],  result[2]['e_pmDE'][0], correct_lsr=True)"
   ]
  },
  {
   "cell_type": "code",
   "execution_count": null,
   "metadata": {},
   "outputs": [],
   "source": [
    "coord=SkyCoord(ra=result[2]['RA_ICRS'][0]*u.deg, dec=result[2]['DE_ICRS'][0]*u.deg)\n",
    "tarvx, tarvy, tarvz=np.array(proper_motion_to_uvw(coord,  result[2]['pmRA'][0], result[2]['pmDE'][0],\n",
    "                                                  0.23, result[2]['Plx'][0])).flatten()\n",
    "print(tarvx, tarvy, tarvz)"
   ]
  },
  {
   "cell_type": "code",
   "execution_count": null,
   "metadata": {},
   "outputs": [],
   "source": [
    "#kiman catalog\n",
    "#kiman catalog\n",
    "data=pd.read_hdf(DATA_FOLDER+'/merged_Mdwarfs.h5', key='merged')"
   ]
  },
  {
   "cell_type": "code",
   "execution_count": null,
   "metadata": {},
   "outputs": [],
   "source": [
    "mask=np.logical_and.reduce([data.photometric_sample_subg !=0,\n",
    "                            data.photometric_sample_subred !=0,\n",
    "                            data.GOODPHOT_SDSS ==1, \n",
    "                            data.GOODMATCH==1,\n",
    "                            abs(data.parallax_error/data.parallax)<0.2,\n",
    "                           data.SPT_x <8.])"
   ]
  },
  {
   "cell_type": "code",
   "execution_count": null,
   "metadata": {},
   "outputs": [],
   "source": [
    "fig, ax=plt.subplots()\n",
    "\n",
    "plt.scatter(data.V[mask], ((data.U**2+data.W)**0.5)[mask], s=1, alpha=0.4, label='Kiman Ms')\n",
    "#plt.scatter(data.VZ, (data.VX**2+data.VY)**0.5, s=1, alpha=0.4, label='Kiman Ms')\n",
    "plt.scatter(df.V, (df.U**2+df.W**2)**0.5, s=100, marker='+', label='Late Ms')\n",
    "ax.errorbar(tarvz, (tarvx**2+ tarvy**2)**0.5, ms=20,  fmt='*', color='k')\n",
    "plt.xlim([-200, 200])\n",
    "plt.ylim([-1, 200])\n",
    "plt.xlabel('V', fontsize=16)\n",
    "plt.ylabel(r'$(U^2+ W^2)^{0.5}$', fontsize=16)\n",
    "plt.legend(loc='lower left')\n"
   ]
  },
  {
   "cell_type": "code",
   "execution_count": null,
   "metadata": {},
   "outputs": [],
   "source": [
    "from astroquery.vizier import Vizier\n",
    "Vizier.ROW_LIMIT = -1 \n",
    "gcs=Vizier.get_catalogs('J/A+A/530/A138')\n"
   ]
  },
  {
   "cell_type": "code",
   "execution_count": null,
   "metadata": {},
   "outputs": [],
   "source": [
    "metal=(0.29, 0.07)"
   ]
  },
  {
   "cell_type": "code",
   "execution_count": null,
   "metadata": {},
   "outputs": [],
   "source": [
    "metal"
   ]
  },
  {
   "cell_type": "code",
   "execution_count": null,
   "metadata": {},
   "outputs": [],
   "source": [
    "\n",
    "gcs_df=gcs[0].to_pandas()"
   ]
  },
  {
   "cell_type": "code",
   "execution_count": null,
   "metadata": {},
   "outputs": [],
   "source": [
    "gcs_bools=gcs_df['__Fe_H_'].between(metal[0]-3*metal[-1], metal[0]+3*metal[-1] )"
   ]
  },
  {
   "cell_type": "code",
   "execution_count": null,
   "metadata": {},
   "outputs": [],
   "source": [
    "metal[0]-3*metal[-1],"
   ]
  },
  {
   "cell_type": "code",
   "execution_count": null,
   "metadata": {},
   "outputs": [],
   "source": [
    "fig, ax=plt.subplots()\n",
    "plt.scatter( gcs_df['ageMLP'],gcs_df['__a_Fe_'], c=gcs_df['__Fe_H_'], s=10, marker='+')"
   ]
  },
  {
   "cell_type": "code",
   "execution_count": null,
   "metadata": {},
   "outputs": [],
   "source": [
    "fig, ax=plt.subplots()\n",
    "#h=ax.hist(gcs[0]['ageMLP'], histtype='step',  lw=3.5, density=True)\n",
    "h=ax.hist(gcs_df['ageMLP'][gcs_bools],  histtype='step',  lw=3.5, density=True, \n",
    "         label='GCS ')\n",
    "plt.xlabel('')"
   ]
  },
  {
   "cell_type": "code",
   "execution_count": null,
   "metadata": {},
   "outputs": [],
   "source": [
    "#plt.plot(gcs[0]['__Fe_H_'], gcs[0]['age'])"
   ]
  },
  {
   "cell_type": "code",
   "execution_count": null,
   "metadata": {},
   "outputs": [],
   "source": [
    "#gala\n",
    "import gala.coordinates as gc\n",
    "import gala.dynamics as gd\n",
    "import gala.potential as gp\n",
    "import popsims\n",
    "from gala.units import galactic\n",
    "from loki import loki"
   ]
  },
  {
   "cell_type": "code",
   "execution_count": null,
   "metadata": {},
   "outputs": [],
   "source": []
  },
  {
   "cell_type": "code",
   "execution_count": null,
   "metadata": {},
   "outputs": [],
   "source": [
    "p= popsims.Pointing(coord=coord, name='J1624') "
   ]
  },
  {
   "cell_type": "code",
   "execution_count": null,
   "metadata": {},
   "outputs": [],
   "source": [
    "#np.arccos?"
   ]
  },
  {
   "cell_type": "code",
   "execution_count": null,
   "metadata": {},
   "outputs": [],
   "source": [
    "#generate distances along this line of sight\n",
    "#ds=p.draw_distances(0.1, 2000, 350, nsample=1e4)\n",
    "NPOINTS=int(1e3)\n",
    "TIMES=int(1e3)\n",
    "ds=np.random.uniform(0, 2000, NPOINTS)\n",
    "ux= np.random.uniform(0, 1, NPOINTS)\n",
    "v=np.random.uniform(0, 1, NPOINTS)\n",
    "rand_coord=SkyCoord(l=2*np.pi*ux*u.radian, \n",
    "                    b=(np.arccos(2*v-1)-np.pi/2)*u.rad, frame='galactic')"
   ]
  },
  {
   "cell_type": "code",
   "execution_count": null,
   "metadata": {},
   "outputs": [],
   "source": [
    "plt.scatter(rand_coord.galactic.l.radian, rand_coord.galactic.b.radian, s=1)"
   ]
  },
  {
   "cell_type": "code",
   "execution_count": null,
   "metadata": {},
   "outputs": [],
   "source": [
    "from astropy.coordinates import Galactic"
   ]
  },
  {
   "cell_type": "code",
   "execution_count": null,
   "metadata": {},
   "outputs": [],
   "source": [
    "#from astropy.coordinates import CartesianRepresentation,\n",
    "#CartesianDifferential, SphericalRepresentation, CylindricalRepresentation\n",
    "                                 \n"
   ]
  },
  {
   "cell_type": "code",
   "execution_count": null,
   "metadata": {},
   "outputs": [],
   "source": [
    "#gl.frame_specific_representation_info"
   ]
  },
  {
   "cell_type": "code",
   "execution_count": null,
   "metadata": {},
   "outputs": [],
   "source": [
    "#create new coord object\n",
    "new_coord= SkyCoord(ra=rand_coord.icrs.ra, dec=rand_coord.icrs.dec, distance=ds*u.pc,\n",
    "                    radial_velocity=np.random.uniform(-100, 100,len(ds))*u.km/u.s, \n",
    "                    pm_dec=np.random.uniform(-100, 100,len(ds))*u.mas/u.yr, \n",
    "                    pm_ra_cosdec=np.random.uniform(-100, 100,len(ds))*u.mas/u.yr, \n",
    "                    frame='icrs')  \n"
   ]
  },
  {
   "cell_type": "code",
   "execution_count": null,
   "metadata": {},
   "outputs": [],
   "source": [
    "import astropy.coordinates as astrocoord"
   ]
  },
  {
   "cell_type": "code",
   "execution_count": null,
   "metadata": {},
   "outputs": [],
   "source": [
    "new_coord.representation_type"
   ]
  },
  {
   "cell_type": "code",
   "execution_count": null,
   "metadata": {},
   "outputs": [],
   "source": [
    "#new_coord.transform_to(astrocoord.Galactocentric).galactic.velocity"
   ]
  },
  {
   "cell_type": "code",
   "execution_count": null,
   "metadata": {},
   "outputs": [],
   "source": [
    "#m[1]\n",
    "milky_way = gp.MilkyWayPotential()\n",
    "H = gp.Hamiltonian(milky_way)\n",
    "w0 = gd.PhaseSpacePosition(new_coord.cartesian)\n",
    "orbits=H.integrate_orbit(w0,t=np.logspace(0, 2,TIMES)*u.Myr, cython_if_possible=True)\n"
   ]
  },
  {
   "cell_type": "code",
   "execution_count": null,
   "metadata": {},
   "outputs": [],
   "source": [
    "vx, vy, vz=orbits.v_xyz"
   ]
  },
  {
   "cell_type": "code",
   "execution_count": null,
   "metadata": {},
   "outputs": [],
   "source": [
    "(10**4.2)*u.Myr.to(u.Gyr)"
   ]
  },
  {
   "cell_type": "code",
   "execution_count": null,
   "metadata": {},
   "outputs": [],
   "source": [
    "fig, ax=plt.subplots()\n",
    "rs=(orbits.cartesian.x**2+orbits.cartesian.y**2)**0.5\n",
    "for idx in np.random.choice(np.arange(0, NPOINTS-1), int(NPOINTS/100)):\n",
    "    h=plt.scatter(rs[:,idx], orbits.cartesian.z[:,idx], \n",
    "               s=1, alpha=.1, marker='+', c=np.log10(orbits.t.value))\n",
    "    plt.xlabel('R')\n",
    "    plt.ylabel('Z')"
   ]
  },
  {
   "cell_type": "code",
   "execution_count": null,
   "metadata": {},
   "outputs": [],
   "source": [
    "#rp=new_coord.represent_as(CylindricalRepresentation)"
   ]
  },
  {
   "cell_type": "code",
   "execution_count": null,
   "metadata": {},
   "outputs": [],
   "source": [
    "#rp.to_cartesian()"
   ]
  },
  {
   "cell_type": "code",
   "execution_count": null,
   "metadata": {},
   "outputs": [],
   "source": [
    "mean_vz=np.nanmedian(vz.to(u.km/u.s).value, axis=1)\n",
    "std_vz=vz.to(u.km/u.s).std(axis=1).to(u.km/u.s).value\n",
    "mean_z = np.nanmedian(orbits.cartesian.z.to(u.pc).value, axis=1)\n",
    "std_z=np.nanstd(orbits.cartesian.z.to(u.pc).value, axis=1)"
   ]
  },
  {
   "cell_type": "code",
   "execution_count": null,
   "metadata": {},
   "outputs": [],
   "source": [
    "weights= np.abs(orbits.cartesian.z.to(u.pc).value) <20"
   ]
  },
  {
   "cell_type": "code",
   "execution_count": null,
   "metadata": {},
   "outputs": [],
   "source": [
    "weighted_vz= np.nanmedian(vz.to(u.km/u.s).value*weights, axis=1)\n",
    "weighted_z= np.nanmedian(orbits.cartesian.z.to(u.pc).value*weights, axis=1)"
   ]
  },
  {
   "cell_type": "code",
   "execution_count": null,
   "metadata": {},
   "outputs": [],
   "source": [
    "total_time=weights.T * np.reshape(orbits.t.value, ( TIMES))"
   ]
  },
  {
   "cell_type": "code",
   "execution_count": null,
   "metadata": {},
   "outputs": [],
   "source": [
    "max_time=total_time.max(axis=1)*u.Myr.to(u.Gyr)#.value"
   ]
  },
  {
   "cell_type": "code",
   "execution_count": null,
   "metadata": {},
   "outputs": [],
   "source": [
    "#total_time"
   ]
  },
  {
   "cell_type": "code",
   "execution_count": null,
   "metadata": {},
   "outputs": [],
   "source": [
    "from scipy import stats"
   ]
  },
  {
   "cell_type": "code",
   "execution_count": null,
   "metadata": {},
   "outputs": [],
   "source": [
    "#width = smax - smin\n",
    "x = np.linspace(max_time.min(),  max_time.max(), 100)\n",
    "y = stats.gaussian_kde(max_time)(x)"
   ]
  },
  {
   "cell_type": "code",
   "execution_count": null,
   "metadata": {},
   "outputs": [],
   "source": [
    "fig, ax=plt.subplots()\n",
    "#for idx in np.random.choice(np.arange(0, 9000), 5000):\n",
    "h=ax.hist(max_time, bins='auto', log=True, histtype='step', density=True)\n",
    "plt.plot(x, y, label='Gaussian Kernel')\n",
    "#ax.fill_between(orbits.t.value, mean_z - std_z, mean_z + std_z, alpha=0.2, \n",
    "#                color='r')\n",
    "#ax.axhline(coord.cartesian.z.to(u.pc).value)\n",
    "\n",
    "plt.xlabel('t within 20 pc (Myr)')\n",
    "#plt.ylabel(r' <|Z|> (pc)')\n",
    "#plt.xscale('log')"
   ]
  },
  {
   "cell_type": "code",
   "execution_count": null,
   "metadata": {},
   "outputs": [],
   "source": [
    "np.save( DATA_FOLDER+'/interp_20pc_sim.npy', np.array([x, y]))"
   ]
  },
  {
   "cell_type": "code",
   "execution_count": null,
   "metadata": {},
   "outputs": [],
   "source": [
    "coord.cartesian.represent_as(CartesianDifferential)"
   ]
  },
  {
   "cell_type": "code",
   "execution_count": null,
   "metadata": {},
   "outputs": [],
   "source": []
  },
  {
   "cell_type": "code",
   "execution_count": null,
   "metadata": {},
   "outputs": [],
   "source": [
    "from galpy.orbit import Orbit\n",
    "from galpy.potential import MWPotential2014"
   ]
  },
  {
   "cell_type": "code",
   "execution_count": null,
   "metadata": {},
   "outputs": [],
   "source": [
    "o=Orbit(new_coord)"
   ]
  },
  {
   "cell_type": "code",
   "execution_count": null,
   "metadata": {},
   "outputs": [],
   "source": [
    "#ts=np.linspace(0, 10**4.1,TIMES)#*u.Myr, \n",
    "#o.integrate(ts,MWPotential2014)"
   ]
  },
  {
   "cell_type": "code",
   "execution_count": null,
   "metadata": {},
   "outputs": [],
   "source": [
    "o=orbits.to_galpy_orbit()\n",
    "#p=o.plot3d(alpha=0.4)\n",
    "#>>> xlim(-100.,100.)\n",
    "#>>> ylim(-100.,100)\n",
    "#>>> gca().set_zlim3d(-100.,100);"
   ]
  },
  {
   "cell_type": "code",
   "execution_count": null,
   "metadata": {},
   "outputs": [],
   "source": [
    "#o.integrate?"
   ]
  },
  {
   "cell_type": "code",
   "execution_count": null,
   "metadata": {},
   "outputs": [],
   "source": [
    "import galpy"
   ]
  },
  {
   "cell_type": "code",
   "execution_count": null,
   "metadata": {},
   "outputs": [],
   "source": [
    "%matplotlib notebook"
   ]
  },
  {
   "cell_type": "code",
   "execution_count": null,
   "metadata": {},
   "outputs": [],
   "source": [
    "#"
   ]
  },
  {
   "cell_type": "code",
   "execution_count": null,
   "metadata": {},
   "outputs": [],
   "source": [
    "#x"
   ]
  },
  {
   "cell_type": "code",
   "execution_count": null,
   "metadata": {},
   "outputs": [],
   "source": [
    " np.sort(np.random.choice(len(x), 10))"
   ]
  },
  {
   "cell_type": "code",
   "execution_count": null,
   "metadata": {},
   "outputs": [],
   "source": [
    "import astropy.units as u"
   ]
  },
  {
   "cell_type": "code",
   "execution_count": null,
   "metadata": {},
   "outputs": [],
   "source": []
  }
 ],
 "metadata": {
  "kernelspec": {
   "display_name": "Python 3",
   "language": "python",
   "name": "python3"
  },
  "language_info": {
   "codemirror_mode": {
    "name": "ipython",
    "version": 3
   },
   "file_extension": ".py",
   "mimetype": "text/x-python",
   "name": "python",
   "nbconvert_exporter": "python",
   "pygments_lexer": "ipython3",
   "version": "3.8.5"
  }
 },
 "nbformat": 4,
 "nbformat_minor": 4
}
