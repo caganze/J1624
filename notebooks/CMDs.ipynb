{
 "cells": [
  {
   "cell_type": "code",
   "execution_count": 1,
   "metadata": {},
   "outputs": [
    {
     "name": "stdout",
     "output_type": "stream",
     "text": [
      "Adding 145 sources from /Users/caganze/research/splat//resources/Spectra/Public/LRIS-RED/ to spectral database\n",
      "Adding 89 sources from /Users/caganze/research/splat//resources/Spectra/Public/MAGE/ to spectral database\n",
      "Adding 2404 sources from /Users/caganze/research/splat//resources/Spectra/Public/SPEX-PRISM/ to spectral database\n"
     ]
    }
   ],
   "source": [
    "import numpy as np\n",
    "import matplotlib.pyplot as plt\n",
    "import pandas as pd\n",
    "from astropy.io import ascii, fits\n",
    "from astroquery.vizier import Vizier\n",
    "from astropy.table import Table\n",
    "import splat\n",
    "\n",
    "%matplotlib inline\n"
   ]
  },
  {
   "cell_type": "code",
   "execution_count": 2,
   "metadata": {},
   "outputs": [],
   "source": [
    "DATA_FOLDER='/users/caganze/research/J1624/data/'\n",
    "FIG_FOLDER='/users/caganze/research/J1624/figures/'"
   ]
  },
  {
   "cell_type": "code",
   "execution_count": null,
   "metadata": {},
   "outputs": [],
   "source": []
  },
  {
   "cell_type": "code",
   "execution_count": 3,
   "metadata": {},
   "outputs": [],
   "source": [
    "#kiman catalog\n",
    "data=pd.read_hdf(DATA_FOLDER+'/merged_Mdwarfs.h5', key='merged')"
   ]
  },
  {
   "cell_type": "code",
   "execution_count": 4,
   "metadata": {},
   "outputs": [
    {
     "data": {
      "text/plain": [
       "array(['PLATE', 'MJD', 'FIBER', 'OBJID', 'RA_x', 'DEC_x', 'MJD_R', 'RV_x',\n",
       "       'SPT_x', 'EWHA_x', 'EWHAERR', 'HASN', 'HADIFF', 'EWHB', 'EWHBERR',\n",
       "       'HBSN', 'HBDIFF', 'EWHG', 'EWHGERR', 'HGSN', 'HGDIFF', 'EWHD',\n",
       "       'EWHDERR', 'HDSN', 'HDDIFF', 'EWCAK', 'EWCAKERR', 'CAKSN',\n",
       "       'CAKDIFF', 'TIO5', 'CAH1', 'CAH2', 'CAH3', 'TIO1', 'TIO2', 'TIO3',\n",
       "       'TIO4', 'TIO5_2', 'TIO8', 'CAOH', 'TIO5ERR', 'CAH1ERR', 'CAH2ERR',\n",
       "       'CAH3ERR', 'TIO1ERR', 'TIO2ERR', 'TIO3ERR', 'TIO4ERR', 'TIO5ERR2',\n",
       "       'TIO8ERR', 'CAOHERR', 'DUP', 'DUPRV', 'DUPSPT', 'RUN', 'RERUN',\n",
       "       'CAMCOL', 'FIELD', 'OBJ', 'PMRA_x', 'PMDEC_x', 'PMRAERR',\n",
       "       'PMDECERR', 'MATCH', 'DIST22', 'NFIT', 'USNO_O', 'USNO_J', 'SIGRA',\n",
       "       'SIGDEC', 'RA2MASS', 'DEC2MASS', 'JMAG', 'HMAG', 'KMAG', 'JERR',\n",
       "       'HERR', 'KERR', 'MJD_2MASS_x', 'DIST', 'LGAL', 'BGAL', 'U', 'V',\n",
       "       'W', 'X', 'Y', 'Z', 'VX', 'VY', 'VZ', 'RAD', 'THETA', 'VR', 'VT',\n",
       "       'GOODPHOT', 'POSDUP', 'ACTHA_x', 'ACTHB', 'ACTHG', 'ACTHD',\n",
       "       'ACTCAK', 'LHALBOL_x', 'LHBLBOL', 'LHGLBOL', 'LHDLBOL', 'LCAKLBOL',\n",
       "       'LHALBOLERR', 'LHBLBOLERR', 'LHGLBOLERR', 'LHDLBOLERR',\n",
       "       'LCAKLBOLERR', 'ZETA', 'ZETAERR', 'WDM_x', 'GOODPM', 'FEH',\n",
       "       'FEH_ERR', 'MH', 'MH_ERR', 'COLOR1', 'COLOR1ERR', 'BOORV',\n",
       "       'BOORV_ERR', 'EWKI7665', 'EWKI7665ERR', 'EWKI7699', 'EWKI7699ERR',\n",
       "       'EWKITOT', 'EWKITOTERR', 'KI7665SNR', 'KI7699SNR', 'EWNA8200',\n",
       "       'EWNA8200ERR', 'NA8200SNR', 'HALPHA', 'HALPHAERR', 'HALPHASNR',\n",
       "       'HBETA', 'HBETAERR', 'HBETASNR', 'HGAMMA', 'HGAMMAERR',\n",
       "       'HGAMMASNR', 'HDELTA', 'HDELTAERR', 'HDELTASNR', 'CAIIK',\n",
       "       'CAIIKERR', 'CAIIkSNR', 'HALPHAACT', 'HBETAACT', 'HGAMMAACT',\n",
       "       'HDELTAACT', 'CAIIKACT', 'solution_id', 'designation', 'source_id',\n",
       "       'ref_epoch_gaia', 'SPT_y', 'RA_y', 'RA_ERR', 'DEC_y', 'DEC_ERR',\n",
       "       'PMRA_y', 'PMRA_ERR', 'PMDEC_y', 'PMDEC_ERR', 'RV_y', 'RV_ERR',\n",
       "       'RA_SDSS', 'DEC_SDSS', 'GOODPHOT_SDSS', 'PMRA_SDSS',\n",
       "       'PMRA_ERR_SDSS', 'PMDEC_SDSS', 'PMDEC_ERR_SDSS', 'GOODPM_SDSS',\n",
       "       'MJD_2MASS_y', 'RA_2MASS', 'DEC_2MASS', 'ACTHA_y', 'EWHA_y',\n",
       "       'EWHA_ERR', 'LHALBOL_y', 'LHALBOL_ERR', 'GOODMATCH', 'parallax',\n",
       "       'parallax_error', 'astrometric_n_good_obs_al',\n",
       "       'astrometric_chi2_al', 'visibility_periods_used',\n",
       "       'phot_g_mean_flux', 'phot_g_mean_flux_error',\n",
       "       'phot_g_mean_flux_over_error', 'phot_g_mean_mag',\n",
       "       'phot_bp_mean_flux', 'phot_bp_mean_flux_error',\n",
       "       'phot_bp_mean_flux_over_error', 'phot_bp_mean_mag',\n",
       "       'phot_rp_mean_flux', 'phot_rp_mean_flux_error',\n",
       "       'phot_rp_mean_flux_over_error', 'phot_rp_mean_mag',\n",
       "       'phot_bp_rp_excess_factor', 'r_est', 'r_lo', 'r_hi', 'r_len',\n",
       "       'V_R', 'V_R_ERR', 'V_T', 'V_T_ERR', 'V_Z', 'V_Z_ERR', 'J_Z',\n",
       "       'J_Z_16per', 'J_Z_64per', 'WDM_y', 'astrometric_sample',\n",
       "       'photometric_sample_subg', 'photometric_sample_subred',\n",
       "       'photometric_sample_submix'], dtype='<U28')"
      ]
     },
     "execution_count": 4,
     "metadata": {},
     "output_type": "execute_result"
    }
   ],
   "source": [
    "np.array(list(data.columns))"
   ]
  },
  {
   "cell_type": "code",
   "execution_count": 5,
   "metadata": {},
   "outputs": [],
   "source": [
    "def get_abs_mag(m, d):\n",
    "    return m-5*np.log10(d/10.0)"
   ]
  },
  {
   "cell_type": "code",
   "execution_count": 6,
   "metadata": {},
   "outputs": [],
   "source": [
    "mask=np.logical_and.reduce([data.photometric_sample_subg !=0,\n",
    "                            data.photometric_sample_subred !=0,\n",
    "                            data.GOODPHOT_SDSS ==1, \n",
    "                            data.GOODMATCH==1,\n",
    "                            data.astrometric_sample==1,\n",
    "                            abs(data.parallax_error/data.parallax)<0.2,\n",
    "                           data.SPT_x <8.,\n",
    "                           data.DIST < 50.0])"
   ]
  },
  {
   "cell_type": "code",
   "execution_count": 13,
   "metadata": {},
   "outputs": [],
   "source": [
    "#data[mask]"
   ]
  },
  {
   "cell_type": "code",
   "execution_count": 15,
   "metadata": {},
   "outputs": [
    {
     "data": {
      "text/plain": [
       "Text(0, 0.5, 'M$_G$')"
      ]
     },
     "execution_count": 15,
     "metadata": {},
     "output_type": "execute_result"
    },
    {
     "data": {
      "image/png": "[encoded data removed]",
      "text/plain": [
       "<Figure size 432x288 with 1 Axes>"
      ]
     },
     "metadata": {
      "needs_background": "light"
     },
     "output_type": "display_data"
    }
   ],
   "source": [
    "fig, ax=plt.subplots()\n",
    "cx=ax.scatter(data.phot_g_mean_mag[mask]-data.phot_rp_mean_mag[mask], get_abs_mag(data.phot_g_mean_mag[mask],data.DIST[mask]),\n",
    "        alpha=0.1, s=2)\n",
    "ax.errorbar(12.6265-11.0375, get_abs_mag(14.2129, 16.7), xerr=(0.0045**2+0.0030**2)**0.5, fmt='*', ms=12, c='k')\n",
    "\n",
    "#cx=ax1.scatter(data.phot_bp_mean_mag[mask]-data.phot_g_mean_mag[mask], get_abs_mag(data.phot_g_mean_mag[mask],data.DIST[mask]),\n",
    "#           c= data['HALPHA'][mask],s=1. , alpha=0.3, vmin=-1, vmax=0.7)\n",
    "#ax.errorbar\n",
    "#cx=ax2.scatter(data.JMAG[mask]-data.KMAG[mask], get_abs_mag(data.JMAG[mask],data.DIST[mask]),\n",
    "#           c= data['HALPHA'][mask],s=1. , alpha=0.3, vmin=-1, vmax=0.7)\n",
    "plt.xlabel('G-RP', fontsize=18)\n",
    "plt.ylabel(r'M$_G$', fontsize=18)\n",
    "#cbar=plt.colorbar(cx)\n",
    "#ax.set_xlim([0.0, 1.5])\n",
    "#ax.set_ylim([4, 12])\n",
    "#ax.invert_yaxis()\n",
    "#ax1.invert_yaxis()\n",
    "#ax2.invert_yaxis()\n",
    "#cbar.ax.set_ylabel('Halpha', fontsize=18)"
   ]
  },
  {
   "cell_type": "code",
   "execution_count": null,
   "metadata": {},
   "outputs": [],
   "source": [
    "#fits.open(DATA_FOLDER+'/MLSDSSGaiaDR2.fits')[1].header"
   ]
  },
  {
   "cell_type": "code",
   "execution_count": null,
   "metadata": {},
   "outputs": [],
   "source": [
    "                        \n",
    "                            \n",
    "                            "
   ]
  },
  {
   "cell_type": "code",
   "execution_count": null,
   "metadata": {},
   "outputs": [],
   "source": [
    "data."
   ]
  },
  {
   "cell_type": "code",
   "execution_count": null,
   "metadata": {},
   "outputs": [],
   "source": []
  }
 ],
 "metadata": {
  "kernelspec": {
   "display_name": "Python 3",
   "language": "python",
   "name": "python3"
  },
  "language_info": {
   "codemirror_mode": {
    "name": "ipython",
    "version": 3
   },
   "file_extension": ".py",
   "mimetype": "text/x-python",
   "name": "python",
   "nbconvert_exporter": "python",
   "pygments_lexer": "ipython3",
   "version": "3.8.5"
  }
 },
 "nbformat": 4,
 "nbformat_minor": 4
}
